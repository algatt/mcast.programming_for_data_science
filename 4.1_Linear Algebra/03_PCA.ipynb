{
 "cells": [
  {
   "cell_type": "markdown",
   "metadata": {},
   "source": [
    "# PCA \n",
    "\n",
    "Principal Component Analysis is a dimensionality reduction technique. This technique is useful when your dataset has a lot of dimensions (variables) which can lead to very complex analysis. PCA aims to reduce the dimensions whilst still capturing maximum variability of the dataset. It can be used to make training of an algorithm faster since less dimensions will be used.\n",
    "\n",
    "In the following example, we will create a random data set having 5 columns and we try to reduce it to 2 dimensions. Note, we will do this using `np` libraries to calculate various elements, however other libraries like `sklearn` have ready-made functions to calculate PCA automatically."
   ]
  },
  {
   "cell_type": "markdown",
   "metadata": {},
   "source": [
    "## PCA from Scratch\n",
    "\n",
    "### Create Dataset\n",
    "\n",
    "100 values ranging from 10 to 50 will be created, and converted into a 20 row by 5 column array."
   ]
  },
  {
   "cell_type": "code",
   "execution_count": 1,
   "metadata": {},
   "outputs": [
    {
     "data": {
      "text/plain": [
       "array([[49, 10, 40, 41, 20],\n",
       "       [30, 33, 43, 29, 34],\n",
       "       [30, 48, 24, 23, 35],\n",
       "       [43, 14, 47, 17, 44],\n",
       "       [12, 42, 38, 36, 25],\n",
       "       [14, 44, 23, 44, 30],\n",
       "       [18, 16, 43, 25, 10],\n",
       "       [49, 47, 33, 34, 44],\n",
       "       [27, 19, 37, 31, 40],\n",
       "       [16, 47, 33, 34, 33],\n",
       "       [14, 18, 21, 19, 17],\n",
       "       [47, 16, 10, 47, 18],\n",
       "       [32, 20, 34, 30, 11],\n",
       "       [24, 24, 14, 40, 21],\n",
       "       [41, 49, 11, 40, 31],\n",
       "       [31, 38, 18, 35, 12],\n",
       "       [32, 37, 32, 14, 46],\n",
       "       [22, 18, 37, 36, 36],\n",
       "       [20, 33, 13, 46, 31],\n",
       "       [24, 45, 43, 32, 31]])"
      ]
     },
     "execution_count": 1,
     "metadata": {},
     "output_type": "execute_result"
    }
   ],
   "source": [
    "import numpy as np\n",
    "np.random.seed(120)\n",
    "X = np.random.randint(10,50,100).reshape(20,5) \n",
    "X"
   ]
  },
  {
   "cell_type": "markdown",
   "metadata": {},
   "source": [
    "### Finding the Mean\n",
    "\n",
    "The next step is to subtract each number by the mean of its column."
   ]
  },
  {
   "cell_type": "code",
   "execution_count": 2,
   "metadata": {},
   "outputs": [
    {
     "data": {
      "text/plain": [
       "array([[ 20.25, -20.9 ,  10.3 ,   8.35,  -8.45],\n",
       "       [  1.25,   2.1 ,  13.3 ,  -3.65,   5.55],\n",
       "       [  1.25,  17.1 ,  -5.7 ,  -9.65,   6.55],\n",
       "       [ 14.25, -16.9 ,  17.3 , -15.65,  15.55],\n",
       "       [-16.75,  11.1 ,   8.3 ,   3.35,  -3.45],\n",
       "       [-14.75,  13.1 ,  -6.7 ,  11.35,   1.55],\n",
       "       [-10.75, -14.9 ,  13.3 ,  -7.65, -18.45],\n",
       "       [ 20.25,  16.1 ,   3.3 ,   1.35,  15.55],\n",
       "       [ -1.75, -11.9 ,   7.3 ,  -1.65,  11.55],\n",
       "       [-12.75,  16.1 ,   3.3 ,   1.35,   4.55],\n",
       "       [-14.75, -12.9 ,  -8.7 , -13.65, -11.45],\n",
       "       [ 18.25, -14.9 , -19.7 ,  14.35, -10.45],\n",
       "       [  3.25, -10.9 ,   4.3 ,  -2.65, -17.45],\n",
       "       [ -4.75,  -6.9 , -15.7 ,   7.35,  -7.45],\n",
       "       [ 12.25,  18.1 , -18.7 ,   7.35,   2.55],\n",
       "       [  2.25,   7.1 , -11.7 ,   2.35, -16.45],\n",
       "       [  3.25,   6.1 ,   2.3 , -18.65,  17.55],\n",
       "       [ -6.75, -12.9 ,   7.3 ,   3.35,   7.55],\n",
       "       [ -8.75,   2.1 , -16.7 ,  13.35,   2.55],\n",
       "       [ -4.75,  14.1 ,  13.3 ,  -0.65,   2.55]])"
      ]
     },
     "execution_count": 2,
     "metadata": {},
     "output_type": "execute_result"
    }
   ],
   "source": [
    "X_meaned = X - np.mean(X , axis = 0)\n",
    "X_meaned"
   ]
  },
  {
   "cell_type": "markdown",
   "metadata": {},
   "source": [
    "### Covariance Matrix\n",
    "\n",
    "The covariance matrix is a square matrix denoting the covariance of elements against each other. It is used to determine the relationship between the movements of two random variables evaluating how they change together. If the result is a high value if means they are closes related and vary together."
   ]
  },
  {
   "cell_type": "code",
   "execution_count": 3,
   "metadata": {},
   "outputs": [
    {
     "name": "stdout",
     "output_type": "stream",
     "text": [
      "[[142.09210526 -28.55263158  -3.34210526   6.27631579  24.11842105]\n",
      " [-28.55263158 186.09473684 -33.34736842  12.22631579  52.94210526]\n",
      " [ -3.34210526 -33.34736842 142.64210526 -54.58421053  34.93157895]\n",
      " [  6.27631579  12.22631579 -54.58421053  88.23947368 -28.09736842]\n",
      " [ 24.11842105  52.94210526  34.93157895 -28.09736842 125.94473684]]\n"
     ]
    }
   ],
   "source": [
    "# setting rowvar False will compare each column with all the other columns\n",
    "cov_mat = np.cov(X_meaned , rowvar = False)\n",
    "print(cov_mat)"
   ]
  },
  {
   "cell_type": "markdown",
   "metadata": {},
   "source": [
    "From the above table the first value 142 is colum 1 against itself, then you can see that it has the highest covariance with two columns column 2 (`-28.55`) and column 5 (`24.12`)."
   ]
  },
  {
   "cell_type": "markdown",
   "metadata": {},
   "source": [
    "### Eigenvalues and Eigenvectors\n",
    "\n",
    "After we calculate the covariance matrix, we need to compute the Eigenvalues, and Eigenvectors. \n",
    "- **Eigenvectors** are the directions along which your data stretches the most, and they become the new axes for representing your data. \n",
    "- **Eigenvalues** tell you how important each new direction is – the bigger the eigenvalue, the more of your data's variation is explained along that direction."
   ]
  },
  {
   "cell_type": "code",
   "execution_count": 4,
   "metadata": {},
   "outputs": [
    {
     "name": "stdout",
     "output_type": "stream",
     "text": [
      "Eigen Values\n",
      "[ 51.53603523  55.35760083 152.17659551 202.32527456 223.61765176]\n",
      "\n",
      "Eigen Vectors\n",
      "[[-0.30113301  0.20807098  0.90502471 -0.0754528  -0.20313181]\n",
      " [-0.33338002  0.3245421  -0.00573358 -0.17773322  0.86712641]\n",
      " [ 0.06284797  0.63016495 -0.25516091 -0.64386956 -0.34535079]\n",
      " [ 0.68885689  0.53112298  0.17818267  0.43280093  0.15594506]\n",
      " [ 0.56542285 -0.41494507  0.28989869 -0.60069387  0.25148205]]\n"
     ]
    }
   ],
   "source": [
    "eigen_values , eigen_vectors = np.linalg.eigh(cov_mat)\n",
    "print ('Eigen Values')\n",
    "print(eigen_values)\n",
    "print ('\\nEigen Vectors')\n",
    "print(eigen_vectors)"
   ]
  },
  {
   "cell_type": "markdown",
   "metadata": {},
   "source": [
    "Next step is to sort the Eigenvalues in the descending order along with their corresponding Eigenvector. This will result in having a matrix where the principal component that captures the highest variability is first."
   ]
  },
  {
   "cell_type": "code",
   "execution_count": 5,
   "metadata": {},
   "outputs": [
    {
     "name": "stdout",
     "output_type": "stream",
     "text": [
      "Sorted Eigenvectors\n",
      "[[-0.20313181 -0.0754528   0.90502471  0.20807098 -0.30113301]\n",
      " [ 0.86712641 -0.17773322 -0.00573358  0.3245421  -0.33338002]\n",
      " [-0.34535079 -0.64386956 -0.25516091  0.63016495  0.06284797]\n",
      " [ 0.15594506  0.43280093  0.17818267  0.53112298  0.68885689]\n",
      " [ 0.25148205 -0.60069387  0.28989869 -0.41494507  0.56542285]]\n",
      "\n",
      "Sorted Eigenvalues\n",
      "[223.61765176 202.32527456 152.17659551  55.35760083  51.53603523]\n"
     ]
    }
   ],
   "source": [
    "#sort the eigenvalues in descending order\n",
    "sorted_index = np.argsort(eigen_values)[::-1]\n",
    "sorted_eigenvalue = eigen_values[sorted_index]\n",
    "\n",
    "#similarly sort the eigenvectors \n",
    "sorted_eigenvectors = eigen_vectors[:,sorted_index]\n",
    "\n",
    "print(\"Sorted Eigenvectors\")\n",
    "print(sorted_eigenvectors)\n",
    "print(\"\\nSorted Eigenvalues\")\n",
    "print(sorted_eigenvalue)"
   ]
  },
  {
   "cell_type": "markdown",
   "metadata": {},
   "source": [
    "### Selecting Number of Components\n",
    "\n",
    "Next, we need to choose the number of components that we will use. In this case we will pick 2, this means that our dataset will be reduced to 2 variables."
   ]
  },
  {
   "cell_type": "code",
   "execution_count": 6,
   "metadata": {},
   "outputs": [
    {
     "name": "stdout",
     "output_type": "stream",
     "text": [
      "[[-0.20313181 -0.0754528 ]\n",
      " [ 0.86712641 -0.17773322]\n",
      " [-0.34535079 -0.64386956]\n",
      " [ 0.15594506  0.43280093]\n",
      " [ 0.25148205 -0.60069387]]\n"
     ]
    }
   ],
   "source": [
    "n_components = 2 #you can select any number of components.\n",
    "eigenvector_subset = sorted_eigenvectors[:,0:n_components]\n",
    "print(eigenvector_subset)"
   ]
  },
  {
   "cell_type": "markdown",
   "metadata": {},
   "source": [
    "### Transforming the Data\n",
    "\n",
    "The last step is to transform the data with the chosen Eigenvectors. "
   ]
  },
  {
   "cell_type": "code",
   "execution_count": 7,
   "metadata": {},
   "outputs": [
    {
     "data": {
      "text/plain": [
       "array([[-26.61635638,   4.24459947],\n",
       "       [ -2.19958891, -13.94459527],\n",
       "       [ 16.68478398,  -7.57457133],\n",
       "       [-22.05362766, -25.32457863],\n",
       "       [  9.81595231,  -2.53084467],\n",
       "       [ 18.82917413,   7.07976477],\n",
       "       [-21.16250567,   2.66775219],\n",
       "       [ 12.8287302 , -15.27070201],\n",
       "       [ -9.83707607, -10.10531581],\n",
       "       [ 16.76577737,  -6.17312698],\n",
       "       [-10.19330422,   9.97756465],\n",
       "       [-10.21410429,  26.44338589],\n",
       "       [-16.39848088,   8.25861691],\n",
       "       [ -0.32363381,  19.34976825],\n",
       "       [ 21.45215861,   9.54841016],\n",
       "       [  5.96974636,  17.00009552],\n",
       "       [  5.3401205 , -21.42420893],\n",
       "       [ -9.91474633,  -4.98353846],\n",
       "       [ 12.08887282,  15.28571695],\n",
       "       [  9.13810793, -12.52419268]])"
      ]
     },
     "execution_count": 7,
     "metadata": {},
     "output_type": "execute_result"
    }
   ],
   "source": [
    "X_reduced = np.dot(eigenvector_subset.transpose(),X_meaned.transpose()).transpose()\n",
    "X_reduced"
   ]
  },
  {
   "cell_type": "markdown",
   "metadata": {},
   "source": [
    "That's it now, we have reduced our dataset to just two variables."
   ]
  },
  {
   "cell_type": "markdown",
   "metadata": {},
   "source": [
    "## Bringing it all Together\n",
    "\n",
    "Now, we can create a function that calculates the PCA based on a number of components."
   ]
  },
  {
   "cell_type": "code",
   "execution_count": 8,
   "metadata": {},
   "outputs": [],
   "source": [
    "import numpy as np\n",
    " \n",
    "def PCA(X , num_components):\n",
    "    X_meaned = X - np.mean(X , axis = 0)\n",
    "    covariance_matrix = np.cov(X_meaned , rowvar = False)\n",
    "    eigen_values , eigen_vectors = np.linalg.eigh(covariance_matrix)\n",
    "     \n",
    "    sorted_index = np.argsort(eigen_values)[::-1]\n",
    "    sorted_eigenvalue = eigen_values[sorted_index]\n",
    "    sorted_eigenvectors = eigen_vectors[:,sorted_index]\n",
    "     \n",
    "    eigenvector_subset = sorted_eigenvectors[:,0:num_components]\n",
    "    \n",
    "    X_reduced = np.dot(eigenvector_subset.transpose() , X_meaned.transpose() ).transpose()\n",
    "     \n",
    "    return X_reduced"
   ]
  },
  {
   "cell_type": "markdown",
   "metadata": {},
   "source": [
    "### Application of our PCA\n",
    "\n",
    "Finally, we can apply our PCA function on an existing dataset. We will use the iris dataset which is a very common one used in machine learning examples.\n",
    "\n",
    "#### Get Iris Data"
   ]
  },
  {
   "cell_type": "code",
   "execution_count": 9,
   "metadata": {},
   "outputs": [
    {
     "name": "stderr",
     "output_type": "stream",
     "text": [
      "C:\\Users\\alang\\AppData\\Local\\Temp\\ipykernel_25352\\3731027033.py:1: DeprecationWarning: \n",
      "Pyarrow will become a required dependency of pandas in the next major release of pandas (pandas 3.0),\n",
      "(to allow more performant data types, such as the Arrow string type, and better interoperability with other libraries)\n",
      "but was not found to be installed on your system.\n",
      "If this would cause problems for you,\n",
      "please provide us feedback at https://github.com/pandas-dev/pandas/issues/54466\n",
      "        \n",
      "  import pandas as pd\n"
     ]
    }
   ],
   "source": [
    "import pandas as pd\n",
    " \n",
    "url = \"https://archive.ics.uci.edu/ml/machine-learning-databases/iris/iris.data\"\n",
    "data = pd.read_csv(url, names=['sepal length','sepal width','petal length','petal width','target'])"
   ]
  },
  {
   "cell_type": "markdown",
   "metadata": {},
   "source": [
    "#### Extract Numerical Values and Target\n",
    "\n",
    "We will create another dataset with only numerical values excluding the target. Then we copy the target to a new variable."
   ]
  },
  {
   "cell_type": "code",
   "execution_count": 10,
   "metadata": {},
   "outputs": [
    {
     "name": "stdout",
     "output_type": "stream",
     "text": [
      "Dataset\n",
      "   sepal length  sepal width  petal length  petal width\n",
      "0           5.1          3.5           1.4          0.2\n",
      "1           4.9          3.0           1.4          0.2\n",
      "\n",
      "Target\n",
      "0    Iris-setosa\n",
      "1    Iris-setosa\n",
      "Name: target, dtype: object\n"
     ]
    }
   ],
   "source": [
    "#prepare the data\n",
    "x = data.iloc[:,0:4]\n",
    " \n",
    "#prepare the target\n",
    "target = data.iloc[:,4]\n",
    "\n",
    "# print first two rows of each\n",
    "print(\"Dataset\")\n",
    "print (x[0:2:])\n",
    "print(\"\\nTarget\")\n",
    "print (target[0:2:])"
   ]
  },
  {
   "cell_type": "markdown",
   "metadata": {},
   "source": [
    "#### Create PCA \n",
    "\n",
    "The next step is to get the dataset, and extract a PCA with 2 components."
   ]
  },
  {
   "cell_type": "code",
   "execution_count": 11,
   "metadata": {},
   "outputs": [],
   "source": [
    "matrix_reduced = PCA(x , 2)"
   ]
  },
  {
   "cell_type": "markdown",
   "metadata": {},
   "source": [
    "#### Testing Result\n",
    "\n",
    "Now, we're combining PCA result, and targets back to a dataframe so that we can plot it later on."
   ]
  },
  {
   "cell_type": "code",
   "execution_count": 12,
   "metadata": {},
   "outputs": [
    {
     "data": {
      "text/html": [
       "<div>\n",
       "<style scoped>\n",
       "    .dataframe tbody tr th:only-of-type {\n",
       "        vertical-align: middle;\n",
       "    }\n",
       "\n",
       "    .dataframe tbody tr th {\n",
       "        vertical-align: top;\n",
       "    }\n",
       "\n",
       "    .dataframe thead th {\n",
       "        text-align: right;\n",
       "    }\n",
       "</style>\n",
       "<table border=\"1\" class=\"dataframe\">\n",
       "  <thead>\n",
       "    <tr style=\"text-align: right;\">\n",
       "      <th></th>\n",
       "      <th>PC1</th>\n",
       "      <th>PC2</th>\n",
       "      <th>target</th>\n",
       "    </tr>\n",
       "  </thead>\n",
       "  <tbody>\n",
       "    <tr>\n",
       "      <th>0</th>\n",
       "      <td>2.684207</td>\n",
       "      <td>0.326607</td>\n",
       "      <td>Iris-setosa</td>\n",
       "    </tr>\n",
       "    <tr>\n",
       "      <th>1</th>\n",
       "      <td>2.715391</td>\n",
       "      <td>-0.169557</td>\n",
       "      <td>Iris-setosa</td>\n",
       "    </tr>\n",
       "    <tr>\n",
       "      <th>2</th>\n",
       "      <td>2.889820</td>\n",
       "      <td>-0.137346</td>\n",
       "      <td>Iris-setosa</td>\n",
       "    </tr>\n",
       "    <tr>\n",
       "      <th>3</th>\n",
       "      <td>2.746437</td>\n",
       "      <td>-0.311124</td>\n",
       "      <td>Iris-setosa</td>\n",
       "    </tr>\n",
       "    <tr>\n",
       "      <th>4</th>\n",
       "      <td>2.728593</td>\n",
       "      <td>0.333925</td>\n",
       "      <td>Iris-setosa</td>\n",
       "    </tr>\n",
       "  </tbody>\n",
       "</table>\n",
       "</div>"
      ],
      "text/plain": [
       "        PC1       PC2       target\n",
       "0  2.684207  0.326607  Iris-setosa\n",
       "1  2.715391 -0.169557  Iris-setosa\n",
       "2  2.889820 -0.137346  Iris-setosa\n",
       "3  2.746437 -0.311124  Iris-setosa\n",
       "4  2.728593  0.333925  Iris-setosa"
      ]
     },
     "execution_count": 12,
     "metadata": {},
     "output_type": "execute_result"
    }
   ],
   "source": [
    "principal_df = pd.DataFrame(matrix_reduced , columns = ['PC1','PC2'])\n",
    " \n",
    "#Concat it with target variable to create a complete Dataset\n",
    "principal_df = pd.concat([principal_df , pd.DataFrame(target)] , axis = 1)\n",
    "principal_df.head()"
   ]
  },
  {
   "cell_type": "markdown",
   "metadata": {},
   "source": [
    "#### Extract Colors for Targets\n",
    "\n",
    "We will find the unique targets, so that we can assign a colour for each."
   ]
  },
  {
   "cell_type": "code",
   "execution_count": 13,
   "metadata": {},
   "outputs": [
    {
     "name": "stdout",
     "output_type": "stream",
     "text": [
      "['Iris-virginica', 'Iris-setosa', 'Iris-versicolor']\n"
     ]
    }
   ],
   "source": [
    "colours = list(set(data[\"target\"]))\n",
    "print(colours)"
   ]
  },
  {
   "cell_type": "markdown",
   "metadata": {},
   "source": [
    "#### Plot PCs\n",
    "\n",
    "Last step is to plot each PCA against each other using a scatter plot. This will be done by each target (each target will have a different colour)."
   ]
  },
  {
   "cell_type": "code",
   "execution_count": 14,
   "metadata": {},
   "outputs": [
    {
     "data": {
      "text/plain": [
       "<matplotlib.legend.Legend at 0x23845d77770>"
      ]
     },
     "execution_count": 14,
     "metadata": {},
     "output_type": "execute_result"
    },
    {
     "data": {
      "image/png": "[encoded data removed]",
      "text/plain": [
       "<Figure size 640x480 with 1 Axes>"
      ]
     },
     "metadata": {},
     "output_type": "display_data"
    }
   ],
   "source": [
    "import matplotlib.pyplot as plt\n",
    "\n",
    "for i in colours:\n",
    "    idx = principal_df.where(target==i)\n",
    "    plt.scatter(data = idx , x = 'PC1',y = 'PC2', label=i)\n",
    "plt.legend()"
   ]
  },
  {
   "cell_type": "markdown",
   "metadata": {},
   "source": [
    "#### Outcome\n",
    "\n",
    "You can observe from the scatter plot, that each group is clearly still distinguishable, hence two dimensions are enough to identify the target."
   ]
  }
 ],
 "metadata": {
  "kernelspec": {
   "display_name": "Python 3",
   "language": "python",
   "name": "python3"
  },
  "language_info": {
   "codemirror_mode": {
    "name": "ipython",
    "version": 3
   },
   "file_extension": ".py",
   "mimetype": "text/x-python",
   "name": "python",
   "nbconvert_exporter": "python",
   "pygments_lexer": "ipython3",
   "version": "3.12.1"
  },
  "orig_nbformat": 4
 },
 "nbformat": 4,
 "nbformat_minor": 2
}
