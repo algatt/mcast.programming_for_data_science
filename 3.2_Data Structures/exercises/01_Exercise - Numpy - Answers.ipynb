{
 "cells": [
  {
   "cell_type": "code",
   "execution_count": 31,
   "metadata": {},
   "outputs": [],
   "source": [
    "import numpy as np\n",
    "import random"
   ]
  },
  {
   "cell_type": "code",
   "execution_count": 32,
   "metadata": {},
   "outputs": [],
   "source": [
    "#1\n",
    "def generate_temperature(min, max, count):\n",
    "    return [random.randint(min, max) for _ in range(count)]"
   ]
  },
  {
   "cell_type": "code",
   "execution_count": 33,
   "metadata": {},
   "outputs": [
    {
     "name": "stdout",
     "output_type": "stream",
     "text": [
      "[[34 27 16 27 34 26 22]\n",
      " [31 27 15 23 23 24 31]\n",
      " [22 32 16 28 15 27 34]\n",
      " [27 23 32 23 27 21 24]\n",
      " [23 24 29 35 27 18 26]]\n"
     ]
    }
   ],
   "source": [
    "#2\n",
    "temperature_data = np.array([generate_temperature(15, 35, 7) for _ in range(5)])\n",
    "print(temperature_data)"
   ]
  },
  {
   "cell_type": "code",
   "execution_count": 34,
   "metadata": {},
   "outputs": [
    {
     "name": "stdout",
     "output_type": "stream",
     "text": [
      "(5, 7)\n"
     ]
    }
   ],
   "source": [
    "#3\n",
    "print(temperature_data.shape)"
   ]
  },
  {
   "cell_type": "code",
   "execution_count": 35,
   "metadata": {},
   "outputs": [
    {
     "name": "stdout",
     "output_type": "stream",
     "text": [
      "25.514285714285716\n"
     ]
    }
   ],
   "source": [
    "#4\n",
    "print(np.mean(temperature_data))"
   ]
  },
  {
   "cell_type": "code",
   "execution_count": 36,
   "metadata": {},
   "outputs": [
    {
     "data": {
      "text/plain": [
       "array([26.57142857, 24.85714286, 24.85714286, 25.28571429, 26.        ])"
      ]
     },
     "execution_count": 36,
     "metadata": {},
     "output_type": "execute_result"
    }
   ],
   "source": [
    "#5\n",
    "print(np.mean(temperature_data, axis=1))"
   ]
  },
  {
   "cell_type": "code",
   "execution_count": 38,
   "metadata": {},
   "outputs": [
    {
     "name": "stdout",
     "output_type": "stream",
     "text": [
      "[31 27 15]\n"
     ]
    }
   ],
   "source": [
    "#6\n",
    "city_b_first_3 = temperature_data[1, :3]\n",
    "print(city_b_first_3)"
   ]
  },
  {
   "cell_type": "code",
   "execution_count": 41,
   "metadata": {},
   "outputs": [
    {
     "name": "stdout",
     "output_type": "stream",
     "text": [
      "77.92571428571429\n"
     ]
    }
   ],
   "source": [
    "#7\n",
    "temperature_f = (temperature_data * 9/5)+32\n",
    "print(temperature_f.mean())"
   ]
  },
  {
   "cell_type": "code",
   "execution_count": 45,
   "metadata": {},
   "outputs": [
    {
     "name": "stdout",
     "output_type": "stream",
     "text": [
      "Day 3 had the highest temperature of 32\n"
     ]
    }
   ],
   "source": [
    "#8\n",
    "day = np.argmax(temperature_data[3])+1\n",
    "print (f\"Day {day} had the highest temperature of {temperature_data[3][day-1]}\")"
   ]
  },
  {
   "cell_type": "code",
   "execution_count": 48,
   "metadata": {},
   "outputs": [],
   "source": [
    "#9\n",
    "all_temps = temperature_data.reshape(-1)"
   ]
  },
  {
   "cell_type": "code",
   "execution_count": 57,
   "metadata": {},
   "outputs": [
    {
     "name": "stdout",
     "output_type": "stream",
     "text": [
      "[18 16 19 11 17]\n",
      "19\n"
     ]
    }
   ],
   "source": [
    "#10\n",
    "temp_differences = np.max(temperature_data, axis=1) - np.min(temperature_data, axis=1)\n",
    "print(temp_differences)\n",
    "print(np.max(temp_differences))"
   ]
  },
  {
   "cell_type": "code",
   "execution_count": 70,
   "metadata": {},
   "outputs": [
    {
     "name": "stdout",
     "output_type": "stream",
     "text": [
      "[[ 0.          4.5         5.33333333 13.5        22.66666667 21.66666667\n",
      "  22.        ]\n",
      " [ 0.          4.5         5.         11.5        15.33333333 20.\n",
      "  31.        ]\n",
      " [ 0.          5.33333333  5.33333333 14.         10.         22.5\n",
      "  34.        ]\n",
      " [ 0.          3.83333333 10.66666667 11.5        18.         17.5\n",
      "  24.        ]\n",
      " [ 0.          4.          9.66666667 17.5        18.         15.\n",
      "  26.        ]]\n"
     ]
    }
   ],
   "source": [
    "#11\n",
    "weights = np.linspace(0, 1, 7)\n",
    "weighted_temps =temperature_data * weights\n",
    "\n",
    "print(weighted_temps)"
   ]
  },
  {
   "cell_type": "code",
   "execution_count": 73,
   "metadata": {},
   "outputs": [
    {
     "name": "stdout",
     "output_type": "stream",
     "text": [
      "Total heat index for each city: [218.3 204.1 205.1 206.7 214.9]\n"
     ]
    }
   ],
   "source": [
    "heat_index_modifier = np.array([1.1, 1.2, 1.1, 1.3, 1.2, 1.1, 1.2])\n",
    "total_heat_index = np.dot(temperature_data, heat_index_modifier)\n",
    "print(\"Total heat index for each city:\", total_heat_index)"
   ]
  }
 ],
 "metadata": {
  "kernelspec": {
   "display_name": "Python 3",
   "language": "python",
   "name": "python3"
  },
  "language_info": {
   "codemirror_mode": {
    "name": "ipython",
    "version": 3
   },
   "file_extension": ".py",
   "mimetype": "text/x-python",
   "name": "python",
   "nbconvert_exporter": "python",
   "pygments_lexer": "ipython3",
   "version": "3.12.1"
  }
 },
 "nbformat": 4,
 "nbformat_minor": 2
}
