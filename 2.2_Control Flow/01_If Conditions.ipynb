# IF Conditions

`if` statements are used for conditional execution. These allow your program to execute certain parts of the code only if a specified condition is met.