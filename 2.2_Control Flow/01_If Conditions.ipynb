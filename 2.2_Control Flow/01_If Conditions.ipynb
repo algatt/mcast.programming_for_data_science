{
 "cells": [
  {
   "cell_type": "markdown",
   "metadata": {},
   "source": [
    "# IF Conditions\n",
    "\n",
    "`if` statements are used for conditional execution. These allow your program to execute certain parts of the code only if a specified condition is met.\n",
    "\n",
    "The basic syntax for `if` is"
   ]
  },
  {
   "cell_type": "code",
   "execution_count": 2,
   "metadata": {},
   "outputs": [
    {
     "name": "stdout",
     "output_type": "stream",
     "text": [
      "x is less than 10\n"
     ]
    }
   ],
   "source": [
    "x = 4\n",
    "if x < 10 :\n",
    "    # this will only execute if x is less than 10\n",
    "    print ('x is less than 10')"
   ]
  },
  {
   "cell_type": "markdown",
   "metadata": {},
   "source": [
    "We can also add additional conditions that will be checked if the first condition resulted to False."
   ]
  },
  {
   "cell_type": "code",
   "execution_count": 3,
   "metadata": {},
   "outputs": [
    {
     "name": "stdout",
     "output_type": "stream",
     "text": [
      "x is bigger than 30\n"
     ]
    }
   ],
   "source": [
    "x = 50\n",
    "if x < 10 :\n",
    "    # this will only execute if x is less than 10\n",
    "    print ('x is less than 10')\n",
    "elif x <=30:\n",
    "    # this will only execute if x is less than 30\n",
    "    print ('x is less or equal to 30')\n",
    "else:\n",
    "    print('x is bigger than 30')"
   ]
  },
  {
   "cell_type": "markdown",
   "metadata": {},
   "source": [
    "`if`: This is used to specify a condition; the code block under an if statement executes if the condition evaluates to `True`.\n",
    "\n",
    "`elif`: This is placed after an `if` or another `elif` statement. Its code block executes if its condition is `True` and all preceding conditions are `False`.\n",
    "\n",
    "`else`: This catches all cases not caught by preceding `if` and `elif` statements. It does not have a condition; its code block executes if all preceding conditions are `False`."
   ]
  },
  {
   "cell_type": "markdown",
   "metadata": {},
   "source": [
    "We can also combine multiple conditions using `and` or `or`."
   ]
  },
  {
   "cell_type": "code",
   "execution_count": 4,
   "metadata": {},
   "outputs": [
    {
     "name": "stdout",
     "output_type": "stream",
     "text": [
      "You cannot come in.\n"
     ]
    }
   ],
   "source": [
    "age = 19\n",
    "has_id = False\n",
    "if age > 18 and has_id == True:\n",
    "    print('You can come in...')\n",
    "else:\n",
    "    print('You cannot come in.')"
   ]
  },
  {
   "cell_type": "markdown",
   "metadata": {},
   "source": [
    "We can also nest `if` inside other `if` statements."
   ]
  },
  {
   "cell_type": "code",
   "execution_count": 5,
   "metadata": {},
   "outputs": [
    {
     "name": "stdout",
     "output_type": "stream",
     "text": [
      "You cannot come in since you do not have an ID.\n"
     ]
    }
   ],
   "source": [
    "age = 19\n",
    "has_id = False\n",
    "if age > 17 and has_id == True:\n",
    "    print(\"You can come in...\")\n",
    "else:\n",
    "    if age < 18:\n",
    "        print(\"You cannot come in since you're still young.\")\n",
    "    else:\n",
    "        print(\"You cannot come in since you do not have an ID.\")"
   ]
  },
  {
   "cell_type": "markdown",
   "metadata": {},
   "source": [
    "Also, you can check the opposite of a condition using `not`."
   ]
  },
  {
   "cell_type": "code",
   "execution_count": 6,
   "metadata": {},
   "outputs": [
    {
     "name": "stdout",
     "output_type": "stream",
     "text": [
      "You can come in.\n"
     ]
    }
   ],
   "source": [
    "age = 18\n",
    "if not age < 18:\n",
    "    print('You can come in.') "
   ]
  }
 ],
 "metadata": {
  "kernelspec": {
   "display_name": "Python 3",
   "language": "python",
   "name": "python3"
  },
  "language_info": {
   "codemirror_mode": {
    "name": "ipython",
    "version": 3
   },
   "file_extension": ".py",
   "mimetype": "text/x-python",
   "name": "python",
   "nbconvert_exporter": "python",
   "pygments_lexer": "ipython3",
   "version": "3.12.1"
  }
 },
 "nbformat": 4,
 "nbformat_minor": 2
}
