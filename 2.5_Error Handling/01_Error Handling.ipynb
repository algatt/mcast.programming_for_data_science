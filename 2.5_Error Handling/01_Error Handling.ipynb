{
 "cells": [
  {
   "cell_type": "markdown",
   "metadata": {},
   "source": [
    "# Error Handling\n",
    "\n",
    "Error handling is very important in programming since it involves anticipating and responding to errors or exceptions that may occur during the execution of a program. \n",
    "\n",
    "In Python, error handling is accomplished through the use of `try-except` blocks, allowing programmers to manage and mitigate potential issues without crashing the program.\n",
    "\n",
    "Python categorizes errors into two main types: syntax errors and exceptions. Syntax errors occur when the parser detects an incorrect statement, while exceptions happen during the execution of a correct syntax due to various reasons like dividing by zero, file not found, type errors, etc.\n",
    "\n",
    "## Basic Structure of Error Handling\n",
    "\n",
    "The basic structure of error handling in Python involves `try`, `except`, `else`, and `finally` blocks:\n",
    "\n",
    "- `try` - This is where you write the code that might raise an exception. The code inside a try block is executed first.\n",
    "- `except` - If an exception occurs in the try block, Python stops executing the `try` block and jumps to the `except` block. You can specify different `except` blocks for different exception types.\n",
    "- `else` - This is optional, if no exceptions are raised in the `try` block, the `else` block is executed after the `try` block. It's a good place for code that should run only if the `try` block did not generate an exception.\n",
    "- `finally` - This is optional as well. This block is executed no matter what, and is typically used for cleaning up resources, like closing files or releasing external resources.\n",
    "\n",
    "## Complete Example"
   ]
  },
  {
   "cell_type": "code",
   "execution_count": 2,
   "metadata": {},
   "outputs": [
    {
     "name": "stdout",
     "output_type": "stream",
     "text": [
      "That's not a valid number!\n",
      "Execution completed.\n"
     ]
    }
   ],
   "source": [
    "try:\n",
    "    # Try to convert an input to an integer\n",
    "    num = int(input(\"Enter a number: \"))\n",
    "except ValueError:\n",
    "    # Handle the case where the conversion fails\n",
    "    print(\"That's not a valid number!\")\n",
    "else:\n",
    "    # This block executes if there's no exception\n",
    "    print(\"You entered:\", num)\n",
    "finally:\n",
    "    # This block executes no matter what\n",
    "    print(\"Execution completed.\")"
   ]
  },
  {
   "cell_type": "markdown",
   "metadata": {},
   "source": [
    "In this example:\n",
    "- if the user enters a valid number, it's printed out, and `Execution completed.` is shown.\n",
    "- if the user enters something that can't be converted to an integer (raising a `ValueError`), `That's not a valid number!` is printed followed by `Execution completed.`\n",
    "- The `finally` block ensures `Execution completed.` is printed whether there was an exception or not."
   ]
  },
  {
   "cell_type": "markdown",
   "metadata": {},
   "source": [
    "## Various Examples\n",
    "\n",
    "### Basic `try` and `except`\n",
    "\n",
    "This code block handles a division error."
   ]
  },
  {
   "cell_type": "code",
   "execution_count": 3,
   "metadata": {},
   "outputs": [
    {
     "name": "stdout",
     "output_type": "stream",
     "text": [
      "Error: You cannot divide by zero.\n"
     ]
    }
   ],
   "source": [
    "try:\n",
    "    a = int(input(\"Enter a number: \"))\n",
    "    b = int(input(\"Enter another number: \"))\n",
    "    result = a / b\n",
    "except ZeroDivisionError:\n",
    "    print(\"Error: You cannot divide by zero.\")\n",
    "else:\n",
    "    print(f\"Result: {result}\")\n"
   ]
  },
  {
   "cell_type": "markdown",
   "metadata": {},
   "source": [
    "### Multiple `except` Blocks\n",
    "\n",
    "You can also provide multiple `except` blocks to handle different type of exceptions."
   ]
  },
  {
   "cell_type": "code",
   "execution_count": 5,
   "metadata": {},
   "outputs": [
    {
     "name": "stdout",
     "output_type": "stream",
     "text": [
      "Error: Please enter a valid integer.\n"
     ]
    }
   ],
   "source": [
    "try:\n",
    "    index = int(input(\"Enter an index: \"))\n",
    "    my_list = [1, 2, 3]\n",
    "    print(my_list[index])\n",
    "except ValueError:\n",
    "    print(\"Error: Please enter a valid integer.\")\n",
    "except IndexError:\n",
    "    print(\"Error: The index is out of bounds.\")\n"
   ]
  },
  {
   "cell_type": "markdown",
   "metadata": {},
   "source": [
    "### Catching Multiple Exception Types\n",
    "\n",
    "We can also catch multiple exception types using the same `except` block."
   ]
  },
  {
   "cell_type": "code",
   "execution_count": 6,
   "metadata": {},
   "outputs": [
    {
     "name": "stdout",
     "output_type": "stream",
     "text": [
      "0.43478260869565216\n"
     ]
    }
   ],
   "source": [
    "try:\n",
    "    value = int(input(\"Enter a number: \"))\n",
    "    print(10 / value)\n",
    "except (ValueError, ZeroDivisionError) as e:\n",
    "    print(f\"Error: {e}\")"
   ]
  },
  {
   "cell_type": "markdown",
   "metadata": {},
   "source": [
    "### `except` Block without Exception Type\n",
    "\n",
    "In this case we are catching all type of exceptions."
   ]
  },
  {
   "cell_type": "code",
   "execution_count": 7,
   "metadata": {},
   "outputs": [
    {
     "name": "stdout",
     "output_type": "stream",
     "text": [
      "Something went wrong.\n"
     ]
    }
   ],
   "source": [
    "try:\n",
    "    # risky code\n",
    "    result = 1 / 0\n",
    "except:\n",
    "    print(\"Something went wrong.\")\n"
   ]
  },
  {
   "cell_type": "markdown",
   "metadata": {},
   "source": [
    "### Using `try`, `except`, and `else`\n",
    "\n",
    "Using `else` for code that should run only if the `try` block doesn't raise an exception."
   ]
  },
  {
   "cell_type": "code",
   "execution_count": null,
   "metadata": {},
   "outputs": [],
   "source": [
    "try:\n",
    "    number = int(input(\"Enter a number: \"))\n",
    "except ValueError:\n",
    "    print(\"That's not a number!\")\n",
    "else:\n",
    "    print(f\"You entered {number}\")"
   ]
  },
  {
   "cell_type": "markdown",
   "metadata": {},
   "source": [
    "### Using `try`, `except`, and `finally`\n",
    "\n",
    "Ensuring some code runs no matter what happens."
   ]
  },
  {
   "cell_type": "code",
   "execution_count": 12,
   "metadata": {},
   "outputs": [
    {
     "name": "stdout",
     "output_type": "stream",
     "text": [
      "The file was not found.\n"
     ]
    }
   ],
   "source": [
    "file = None\n",
    "try:\n",
    "    file = open(\"example.txt\", \"r\")\n",
    "    print(file.read())\n",
    "except FileNotFoundError:\n",
    "    print(\"The file was not found.\")\n",
    "finally:\n",
    "    if file:\n",
    "        print(\"Closing the file.\")\n",
    "        file.close()\n"
   ]
  },
  {
   "cell_type": "markdown",
   "metadata": {},
   "source": [
    "### Using `try`, `except`, `else` and `finally`\n",
    "\n",
    "Now we're combining all the blocks together. \n",
    "\n",
    "In this example you can also see the use of `raise` which allows us to modify the error message."
   ]
  },
  {
   "cell_type": "code",
   "execution_count": 11,
   "metadata": {},
   "outputs": [
    {
     "name": "stdout",
     "output_type": "stream",
     "text": [
      "Error: That's not a positive number!\n",
      "Operation completed.\n"
     ]
    }
   ],
   "source": [
    "try:\n",
    "    num = int(input(\"Enter a positive number: \"))\n",
    "    if num < 0:\n",
    "        raise ValueError(\"That's not a positive number!\")\n",
    "except ValueError as e:\n",
    "    print(f\"Error: {e}\")\n",
    "else:\n",
    "    print(\"You entered a positive number.\")\n",
    "finally:\n",
    "    print(\"Operation completed.\")"
   ]
  },
  {
   "cell_type": "markdown",
   "metadata": {},
   "source": [
    "## Exceptions\n",
    "\n",
    "Using the `raise` statement in Python allows you to trigger exceptions manually. This can be useful for enforcing certain conditions in your code.\n",
    "\n",
    "### Raising a Generic Exception\n",
    "\n",
    "Here, a generic exception is raised with a custom error message. This approach is very simple and offers less granularity for error handling compared to specific exceptions."
   ]
  },
  {
   "cell_type": "code",
   "execution_count": 13,
   "metadata": {},
   "outputs": [
    {
     "name": "stdout",
     "output_type": "stream",
     "text": [
      "Error: Username must be at least 6 characters long.\n"
     ]
    }
   ],
   "source": [
    "def check_username(username):\n",
    "    if len(username) < 6:\n",
    "        raise Exception(\"Username must be at least 6 characters long.\")\n",
    "    else:\n",
    "        print(f\"Username '{username}' is valid.\")\n",
    "\n",
    "try:\n",
    "    check_username(\"user\")\n",
    "except Exception as e:\n",
    "    print(f\"Error: {e}\")"
   ]
  },
  {
   "cell_type": "markdown",
   "metadata": {},
   "source": [
    "### Raising a Specific Exception\n",
    "\n",
    "Raising a specific exception is more precise and allows for more targeted error handling. Python has many built-in exceptions (like `ValueError`, `TypeError`, `FileNotFoundError`, etc.), and you can also define custom exceptions.\n"
   ]
  },
  {
   "cell_type": "code",
   "execution_count": 14,
   "metadata": {},
   "outputs": [
    {
     "name": "stdout",
     "output_type": "stream",
     "text": [
      "Error: Cannot divide by zero.\n"
     ]
    }
   ],
   "source": [
    "def divide(a, b):\n",
    "    if b == 0:\n",
    "        raise ZeroDivisionError(\"Cannot divide by zero.\")\n",
    "    return a / b\n",
    "\n",
    "try:\n",
    "    result = divide(10, 0)\n",
    "except ZeroDivisionError as e:\n",
    "    print(f\"Error: {e}\")\n",
    "else:\n",
    "    print(f\"Result: {result}\")\n"
   ]
  }
 ],
 "metadata": {
  "kernelspec": {
   "display_name": "Python 3",
   "language": "python",
   "name": "python3"
  },
  "language_info": {
   "codemirror_mode": {
    "name": "ipython",
    "version": 3
   },
   "file_extension": ".py",
   "mimetype": "text/x-python",
   "name": "python",
   "nbconvert_exporter": "python",
   "pygments_lexer": "ipython3",
   "version": "3.12.1"
  }
 },
 "nbformat": 4,
 "nbformat_minor": 2
}
