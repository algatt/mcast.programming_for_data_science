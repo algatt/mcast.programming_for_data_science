{
 "cells": [
  {
   "cell_type": "markdown",
   "metadata": {},
   "source": [
    "# Data Cleaning\n",
    "\n",
    "Pandas and NumPy libraries are powerful tools for data manipulation and cleaning, and these two tools are often used in data analysis and machine learning pipelines. \n",
    "\n",
    "Data cleaning is very important for obtaining accurate insights, as it involves preparing and tidying data for analysis by handling missing values, removing duplicates,and correcting errors amongst others. \n",
    "\n",
    "Next, we are going to see various tasks that can be done during the data cleaning stage.\n",
    "\n",
    "## Handling Missing Data\n",
    "\n",
    "- **Identifying Missing Data**: Detecting null or missing values using methods like `isnull()`.\n",
    "- **Filling Missing Values**: Inputing missing values with a specific number like the mean, media, or model of a column using the function `fillna()`.\n",
    "- **Dropping Missing Values**: Removing rows or columns with missing values using `dropna()`.\n",
    "\n",
    "### Identifying Missing Data\n",
    "\n",
    "You can detect missing values in a DataFrame using `isnull()`, which returns a boolean mask indicating missing values."
   ]
  },
  {
   "cell_type": "code",
   "execution_count": 4,
   "metadata": {},
   "outputs": [
    {
     "name": "stdout",
     "output_type": "stream",
     "text": [
      "       A      B\n",
      "0  False  False\n",
      "1   True  False\n",
      "2  False   True\n"
     ]
    }
   ],
   "source": [
    "import pandas as pd\n",
    "\n",
    "# Sample DataFrame\n",
    "df = pd.DataFrame({'A': [1, None, 3], 'B': [4, 5, None]})\n",
    "print(df.isnull())\n"
   ]
  },
  {
   "cell_type": "markdown",
   "metadata": {},
   "source": [
    "### Filling Missing Values\n",
    "\n",
    "Missing values can be imputed using `fillna()`. This can be done with a specific value, or using the mean, median, or mode."
   ]
  },
  {
   "cell_type": "code",
   "execution_count": 10,
   "metadata": {},
   "outputs": [
    {
     "name": "stdout",
     "output_type": "stream",
     "text": [
      "     A    B\n",
      "0  1.0  4.0\n",
      "1  0.0  5.0\n",
      "2  3.0  0.0\n",
      "     A    B\n",
      "0  1.0  4.0\n",
      "1  2.0  5.0\n",
      "2  3.0  NaN\n"
     ]
    }
   ],
   "source": [
    "df_temp1 = df.copy()\n",
    "df_temp2 = df.copy()\n",
    "\n",
    "# Filling missing values with a specific value\n",
    "df_temp1.fillna(0, inplace=True)\n",
    "print(df_temp1)\n",
    "\n",
    "# Filling with the mean of the column\n",
    "df_temp2['A'] = df_temp2['A'].fillna(df_temp2['A'].mean())\n",
    "print(df_temp2)\n",
    "\n"
   ]
  },
  {
   "cell_type": "markdown",
   "metadata": {},
   "source": [
    "### Dropping Missing Values\n",
    "\n",
    "Rows or columns with missing data can be removed using `dropna()`."
   ]
  },
  {
   "cell_type": "code",
   "execution_count": 12,
   "metadata": {},
   "outputs": [
    {
     "name": "stdout",
     "output_type": "stream",
     "text": [
      "     A    B\n",
      "0  1.0  4.0\n",
      "\n",
      "\n",
      "Empty DataFrame\n",
      "Columns: []\n",
      "Index: [0, 1, 2]\n"
     ]
    }
   ],
   "source": [
    "df_temp1 = df.copy()\n",
    "df_temp2 = df.copy()\n",
    "\n",
    "# Dropping rows with any missing values\n",
    "df_temp1.dropna(inplace=True)\n",
    "print(df_temp1)\n",
    "print('\\n')\n",
    "\n",
    "# Dropping columns with any missing values\n",
    "df_temp2.dropna(axis=1, inplace=True)\n",
    "print(df_temp2)"
   ]
  },
  {
   "cell_type": "markdown",
   "metadata": {},
   "source": [
    "## Data Type Conversion\n",
    "\n",
    "- **Type Casting**: Changing the data type of columns to the correct type (e.g. converting strings to numeric types) using `astype()`."
   ]
  },
  {
   "cell_type": "code",
   "execution_count": 16,
   "metadata": {},
   "outputs": [
    {
     "name": "stdout",
     "output_type": "stream",
     "text": [
      "A     object\n",
      "B    float64\n",
      "dtype: object\n",
      "A    float64\n",
      "B    float64\n",
      "dtype: object\n"
     ]
    }
   ],
   "source": [
    "df = pd.DataFrame({'A': ['1', None, '3'], 'B': [4, 5, None]})\n",
    "print(df.dtypes)\n",
    "\n",
    "df['A'] = df['A'].astype('float64')\n",
    "print(df.dtypes)"
   ]
  },
  {
   "cell_type": "markdown",
   "metadata": {},
   "source": [
    "## Renaming Columns\n",
    "\n",
    "- **Changing Column Names**: Renaming one or more columns for better readability of consistency using `rename()`."
   ]
  },
  {
   "cell_type": "code",
   "execution_count": 17,
   "metadata": {},
   "outputs": [
    {
     "data": {
      "text/html": [
       "<div>\n",
       "<style scoped>\n",
       "    .dataframe tbody tr th:only-of-type {\n",
       "        vertical-align: middle;\n",
       "    }\n",
       "\n",
       "    .dataframe tbody tr th {\n",
       "        vertical-align: top;\n",
       "    }\n",
       "\n",
       "    .dataframe thead th {\n",
       "        text-align: right;\n",
       "    }\n",
       "</style>\n",
       "<table border=\"1\" class=\"dataframe\">\n",
       "  <thead>\n",
       "    <tr style=\"text-align: right;\">\n",
       "      <th></th>\n",
       "      <th>English</th>\n",
       "      <th>Maths</th>\n",
       "    </tr>\n",
       "  </thead>\n",
       "  <tbody>\n",
       "    <tr>\n",
       "      <th>0</th>\n",
       "      <td>34</td>\n",
       "      <td>41</td>\n",
       "    </tr>\n",
       "    <tr>\n",
       "      <th>1</th>\n",
       "      <td>100</td>\n",
       "      <td>51</td>\n",
       "    </tr>\n",
       "    <tr>\n",
       "      <th>2</th>\n",
       "      <td>92</td>\n",
       "      <td>98</td>\n",
       "    </tr>\n",
       "  </tbody>\n",
       "</table>\n",
       "</div>"
      ],
      "text/plain": [
       "   English  Maths\n",
       "0       34     41\n",
       "1      100     51\n",
       "2       92     98"
      ]
     },
     "execution_count": 17,
     "metadata": {},
     "output_type": "execute_result"
    }
   ],
   "source": [
    "df = pd.DataFrame({'A': [34, 100, 92], 'B': [41, 51, 98]})\n",
    "df.rename(columns={'A': 'English', 'B': 'Maths'}, inplace=True)\n",
    "df.head()\n"
   ]
  },
  {
   "cell_type": "markdown",
   "metadata": {},
   "source": [
    "## Handling Duplicates\n",
    "\n",
    "- **Detecting Duplicates**: Identifying duplicate rows using `duplicated()`. \n",
    "- **Removing Duplicates**: Deleting duplicate rows to ensure data uniqueness using `drop_duplicates()`.\n",
    "\n",
    "### Detecting Duplicates\n",
    "\n",
    "You can identify duplicate rows using `duplicated()`."
   ]
  },
  {
   "cell_type": "code",
   "execution_count": 25,
   "metadata": {},
   "outputs": [
    {
     "name": "stdout",
     "output_type": "stream",
     "text": [
      "     A   B\n",
      "0   34  13\n",
      "1  100  51\n",
      "2   92  98\n",
      "3   34  13\n"
     ]
    },
    {
     "data": {
      "text/plain": [
       "0    False\n",
       "1    False\n",
       "2    False\n",
       "3     True\n",
       "dtype: bool"
      ]
     },
     "execution_count": 25,
     "metadata": {},
     "output_type": "execute_result"
    }
   ],
   "source": [
    "df = pd.DataFrame({'A': [34, 100, 92, 34], 'B': [13, 51, 98, 13]})\n",
    "print(df.head())\n",
    "\n",
    "# Last row with values (34, 13) already exists (row 0)\n",
    "df.duplicated()"
   ]
  },
  {
   "cell_type": "markdown",
   "metadata": {},
   "source": [
    "### Removing Duplicates\n",
    "\n",
    "Duplicate rows can be removed with `drop_duplicates()`."
   ]
  },
  {
   "cell_type": "code",
   "execution_count": 27,
   "metadata": {},
   "outputs": [
    {
     "name": "stdout",
     "output_type": "stream",
     "text": [
      "     A   B\n",
      "0   34  13\n",
      "1  100  51\n",
      "2   92  98\n",
      "3   34  13\n",
      "\n",
      "\n",
      "     A   B\n",
      "0   34  13\n",
      "1  100  51\n",
      "2   92  98\n"
     ]
    }
   ],
   "source": [
    "df = pd.DataFrame({'A': [34, 100, 92, 34], 'B': [13, 51, 98, 13]})\n",
    "print(df.head())\n",
    "print(\"\\n\")\n",
    "\n",
    "df.drop_duplicates(inplace=True)\n",
    "print(df.head())"
   ]
  },
  {
   "cell_type": "markdown",
   "metadata": {},
   "source": [
    "## Filtering Data\n",
    "\n",
    "- **Row or Column Selection**: Selecting a subset of rows or columns based on specific criteria using slicing, `loc[]`, or `iloc[]`.\n",
    "- **Conditional Filtering**: Filtering data based on certain conditions using boolean indexing.\n",
    "\n",
    "### Row or Column Selection"
   ]
  },
  {
   "cell_type": "code",
   "execution_count": 29,
   "metadata": {},
   "outputs": [
    {
     "name": "stdout",
     "output_type": "stream",
     "text": [
      "     A   B\n",
      "0   34  13\n",
      "1  100  51\n",
      "2   92  98\n",
      "     A   B\n",
      "1  100  51\n",
      "2   92  98\n"
     ]
    }
   ],
   "source": [
    "df = pd.DataFrame({'A': [34, 100, 92, 34], 'B': [13, 51, 98, 13]})\n",
    "\n",
    "# select rows 0 to 2\n",
    "print(df.iloc[0:3])\n",
    "\n",
    "#select rows where column A is greater than 50\n",
    "print(df.loc[df['A']>50])"
   ]
  },
  {
   "cell_type": "markdown",
   "metadata": {},
   "source": [
    "### Conditional Filtering\n",
    "\n",
    "Rows can be filtered based on conditions applied to column values."
   ]
  },
  {
   "cell_type": "code",
   "execution_count": 30,
   "metadata": {},
   "outputs": [
    {
     "data": {
      "text/html": [
       "<div>\n",
       "<style scoped>\n",
       "    .dataframe tbody tr th:only-of-type {\n",
       "        vertical-align: middle;\n",
       "    }\n",
       "\n",
       "    .dataframe tbody tr th {\n",
       "        vertical-align: top;\n",
       "    }\n",
       "\n",
       "    .dataframe thead th {\n",
       "        text-align: right;\n",
       "    }\n",
       "</style>\n",
       "<table border=\"1\" class=\"dataframe\">\n",
       "  <thead>\n",
       "    <tr style=\"text-align: right;\">\n",
       "      <th></th>\n",
       "      <th>A</th>\n",
       "      <th>B</th>\n",
       "    </tr>\n",
       "  </thead>\n",
       "  <tbody>\n",
       "    <tr>\n",
       "      <th>1</th>\n",
       "      <td>100</td>\n",
       "      <td>51</td>\n",
       "    </tr>\n",
       "    <tr>\n",
       "      <th>2</th>\n",
       "      <td>92</td>\n",
       "      <td>98</td>\n",
       "    </tr>\n",
       "  </tbody>\n",
       "</table>\n",
       "</div>"
      ],
      "text/plain": [
       "     A   B\n",
       "1  100  51\n",
       "2   92  98"
      ]
     },
     "execution_count": 30,
     "metadata": {},
     "output_type": "execute_result"
    }
   ],
   "source": [
    "df = pd.DataFrame({'A': [34, 100, 92, 34], 'B': [13, 51, 98, 13]})\n",
    "\n",
    "filtered_df = df[df['A']>50]\n",
    "filtered_df.head()"
   ]
  },
  {
   "cell_type": "markdown",
   "metadata": {},
   "source": [
    "## Data Normalisation and Standardisation\n",
    "\n",
    "- **Feature Scaling**: Rescaling features to a certain range or standard deviation to normalise data distribution using methods like Min-Max Scaling, or Z-score normalisation."
   ]
  },
  {
   "cell_type": "code",
   "execution_count": 31,
   "metadata": {},
   "outputs": [
    {
     "data": {
      "text/html": [
       "<div>\n",
       "<style scoped>\n",
       "    .dataframe tbody tr th:only-of-type {\n",
       "        vertical-align: middle;\n",
       "    }\n",
       "\n",
       "    .dataframe tbody tr th {\n",
       "        vertical-align: top;\n",
       "    }\n",
       "\n",
       "    .dataframe thead th {\n",
       "        text-align: right;\n",
       "    }\n",
       "</style>\n",
       "<table border=\"1\" class=\"dataframe\">\n",
       "  <thead>\n",
       "    <tr style=\"text-align: right;\">\n",
       "      <th></th>\n",
       "      <th>A</th>\n",
       "      <th>B</th>\n",
       "    </tr>\n",
       "  </thead>\n",
       "  <tbody>\n",
       "    <tr>\n",
       "      <th>0</th>\n",
       "      <td>0.000000</td>\n",
       "      <td>13</td>\n",
       "    </tr>\n",
       "    <tr>\n",
       "      <th>1</th>\n",
       "      <td>1.000000</td>\n",
       "      <td>51</td>\n",
       "    </tr>\n",
       "    <tr>\n",
       "      <th>2</th>\n",
       "      <td>0.878788</td>\n",
       "      <td>98</td>\n",
       "    </tr>\n",
       "    <tr>\n",
       "      <th>3</th>\n",
       "      <td>0.000000</td>\n",
       "      <td>13</td>\n",
       "    </tr>\n",
       "  </tbody>\n",
       "</table>\n",
       "</div>"
      ],
      "text/plain": [
       "          A   B\n",
       "0  0.000000  13\n",
       "1  1.000000  51\n",
       "2  0.878788  98\n",
       "3  0.000000  13"
      ]
     },
     "execution_count": 31,
     "metadata": {},
     "output_type": "execute_result"
    }
   ],
   "source": [
    "df = pd.DataFrame({'A': [34, 100, 92, 34], 'B': [13, 51, 98, 13]})\n",
    "\n",
    "# Manual Min-Max Scaling to [0, 1] range\n",
    "df['A'] = (df['A'] - df['A'].min()) / (df['A'].max() - df['A'].min())\n",
    "\n",
    "df.head()\n"
   ]
  },
  {
   "cell_type": "markdown",
   "metadata": {},
   "source": [
    "We can also extract this in a function."
   ]
  },
  {
   "cell_type": "code",
   "execution_count": 33,
   "metadata": {},
   "outputs": [
    {
     "data": {
      "text/html": [
       "<div>\n",
       "<style scoped>\n",
       "    .dataframe tbody tr th:only-of-type {\n",
       "        vertical-align: middle;\n",
       "    }\n",
       "\n",
       "    .dataframe tbody tr th {\n",
       "        vertical-align: top;\n",
       "    }\n",
       "\n",
       "    .dataframe thead th {\n",
       "        text-align: right;\n",
       "    }\n",
       "</style>\n",
       "<table border=\"1\" class=\"dataframe\">\n",
       "  <thead>\n",
       "    <tr style=\"text-align: right;\">\n",
       "      <th></th>\n",
       "      <th>A</th>\n",
       "      <th>B</th>\n",
       "    </tr>\n",
       "  </thead>\n",
       "  <tbody>\n",
       "    <tr>\n",
       "      <th>0</th>\n",
       "      <td>0.000000</td>\n",
       "      <td>0.000000</td>\n",
       "    </tr>\n",
       "    <tr>\n",
       "      <th>1</th>\n",
       "      <td>1.000000</td>\n",
       "      <td>0.447059</td>\n",
       "    </tr>\n",
       "    <tr>\n",
       "      <th>2</th>\n",
       "      <td>0.878788</td>\n",
       "      <td>1.000000</td>\n",
       "    </tr>\n",
       "    <tr>\n",
       "      <th>3</th>\n",
       "      <td>0.000000</td>\n",
       "      <td>0.000000</td>\n",
       "    </tr>\n",
       "  </tbody>\n",
       "</table>\n",
       "</div>"
      ],
      "text/plain": [
       "          A         B\n",
       "0  0.000000  0.000000\n",
       "1  1.000000  0.447059\n",
       "2  0.878788  1.000000\n",
       "3  0.000000  0.000000"
      ]
     },
     "execution_count": 33,
     "metadata": {},
     "output_type": "execute_result"
    }
   ],
   "source": [
    "def normalize(col):\n",
    "   return (col - col.min()) / (col.max() - col.min())\n",
    "\n",
    "df = pd.DataFrame({'A': [34, 100, 92, 34], 'B': [13, 51, 98, 13]})\n",
    "df_normalised = df.copy()\n",
    "df_normalised = df_normalised.apply(normalize)\n",
    "df_normalised.head()"
   ]
  },
  {
   "cell_type": "markdown",
   "metadata": {},
   "source": [
    "## Data Transformation\n",
    "\n",
    "- **Applying Functions**: Using `apply()` to apply a function to each element, row or column.\n",
    "- **Aggregation**: Summarising data using aggregation functions like `sum()`, `mean()`, `median()`, `max()`, and `min()` with `groupby()` for grouped operations.\n",
    "\n",
    "### Applying Functions\n",
    "\n",
    "The `apply()` method allows applying a function along an axis of the DataFrame.\n"
   ]
  },
  {
   "cell_type": "code",
   "execution_count": 39,
   "metadata": {},
   "outputs": [
    {
     "data": {
      "text/html": [
       "<div>\n",
       "<style scoped>\n",
       "    .dataframe tbody tr th:only-of-type {\n",
       "        vertical-align: middle;\n",
       "    }\n",
       "\n",
       "    .dataframe tbody tr th {\n",
       "        vertical-align: top;\n",
       "    }\n",
       "\n",
       "    .dataframe thead th {\n",
       "        text-align: right;\n",
       "    }\n",
       "</style>\n",
       "<table border=\"1\" class=\"dataframe\">\n",
       "  <thead>\n",
       "    <tr style=\"text-align: right;\">\n",
       "      <th></th>\n",
       "      <th>A</th>\n",
       "      <th>B</th>\n",
       "    </tr>\n",
       "  </thead>\n",
       "  <tbody>\n",
       "    <tr>\n",
       "      <th>0</th>\n",
       "      <td>0.523077</td>\n",
       "      <td>13</td>\n",
       "    </tr>\n",
       "    <tr>\n",
       "      <th>1</th>\n",
       "      <td>1.538462</td>\n",
       "      <td>51</td>\n",
       "    </tr>\n",
       "    <tr>\n",
       "      <th>2</th>\n",
       "      <td>1.415385</td>\n",
       "      <td>98</td>\n",
       "    </tr>\n",
       "    <tr>\n",
       "      <th>3</th>\n",
       "      <td>0.523077</td>\n",
       "      <td>13</td>\n",
       "    </tr>\n",
       "  </tbody>\n",
       "</table>\n",
       "</div>"
      ],
      "text/plain": [
       "          A   B\n",
       "0  0.523077  13\n",
       "1  1.538462  51\n",
       "2  1.415385  98\n",
       "3  0.523077  13"
      ]
     },
     "execution_count": 39,
     "metadata": {},
     "output_type": "execute_result"
    }
   ],
   "source": [
    "df = pd.DataFrame({'A': [34, 100, 92, 34], 'B': [13, 51, 98, 13]})\n",
    "\n",
    "df['A'] = df['A'].apply(lambda x: x/df['A'].mean())\n",
    "df.head()"
   ]
  },
  {
   "cell_type": "markdown",
   "metadata": {},
   "source": [
    "### Aggregation\n",
    "\n",
    "Data can be aggregated using functions like `sum()`, `mean()`, etc., particularly after grouping."
   ]
  },
  {
   "cell_type": "code",
   "execution_count": 43,
   "metadata": {},
   "outputs": [
    {
     "name": "stdout",
     "output_type": "stream",
     "text": [
      "Subject\n",
      "English    73.0\n",
      "French     12.0\n",
      "Maths      25.0\n",
      "Name: Grades, dtype: float64\n"
     ]
    }
   ],
   "source": [
    "df = pd.DataFrame({'Subject': ['English', 'Maths', 'English', 'Maths', 'French'], 'Grades': [90,40,56, 10, 12]})\n",
    "print(df.groupby('Subject')['Grades'].mean())\n"
   ]
  },
  {
   "cell_type": "markdown",
   "metadata": {},
   "source": [
    "## Data and Time Handling\n",
    "\n",
    "- **Parsing Dates**: Converting string representations of dates and times into datetime objects using `pd.to_datetime()`.\n",
    "- **Date Manipulation**: Extracting or modifying components of dates (like day, month, year) and performing date arithmetic.\n",
    "\n",
    "### Parsing Dates\n",
    "\n",
    "Strings representing dates and times can be converted to datetime objects."
   ]
  },
  {
   "cell_type": "code",
   "execution_count": 46,
   "metadata": {},
   "outputs": [
    {
     "name": "stdout",
     "output_type": "stream",
     "text": [
      "Person    object\n",
      "DOB       object\n",
      "dtype: object\n",
      "\n",
      "\n",
      "Person            object\n",
      "DOB       datetime64[ns]\n",
      "dtype: object\n",
      "  Person        DOB\n",
      "0   Alex 2010-01-01\n",
      "1  Sarah 1990-04-21\n",
      "2   Joee 1992-06-12\n"
     ]
    }
   ],
   "source": [
    "df = pd.DataFrame({'Person': ['Alex', 'Sarah', 'Joee'], 'DOB': ['2010-01-01', '1990-04-21', '1992-06-12']})\n",
    "print(df.dtypes)\n",
    "print(\"\\n\")\n",
    "\n",
    "df['DOB'] = pd.to_datetime(df['DOB'])\n",
    "print(df.dtypes)\n",
    "print(df.head())\n"
   ]
  },
  {
   "cell_type": "markdown",
   "metadata": {},
   "source": [
    "### Data Manipulation\n",
    "\n",
    "Components of dates can be extracted or manipulated.\n"
   ]
  },
  {
   "cell_type": "code",
   "execution_count": 47,
   "metadata": {},
   "outputs": [
    {
     "data": {
      "text/html": [
       "<div>\n",
       "<style scoped>\n",
       "    .dataframe tbody tr th:only-of-type {\n",
       "        vertical-align: middle;\n",
       "    }\n",
       "\n",
       "    .dataframe tbody tr th {\n",
       "        vertical-align: top;\n",
       "    }\n",
       "\n",
       "    .dataframe thead th {\n",
       "        text-align: right;\n",
       "    }\n",
       "</style>\n",
       "<table border=\"1\" class=\"dataframe\">\n",
       "  <thead>\n",
       "    <tr style=\"text-align: right;\">\n",
       "      <th></th>\n",
       "      <th>Person</th>\n",
       "      <th>DOB</th>\n",
       "      <th>Year</th>\n",
       "    </tr>\n",
       "  </thead>\n",
       "  <tbody>\n",
       "    <tr>\n",
       "      <th>0</th>\n",
       "      <td>Alex</td>\n",
       "      <td>2010-01-01</td>\n",
       "      <td>2010</td>\n",
       "    </tr>\n",
       "    <tr>\n",
       "      <th>1</th>\n",
       "      <td>Sarah</td>\n",
       "      <td>1990-04-21</td>\n",
       "      <td>1990</td>\n",
       "    </tr>\n",
       "    <tr>\n",
       "      <th>2</th>\n",
       "      <td>Joee</td>\n",
       "      <td>1992-06-12</td>\n",
       "      <td>1992</td>\n",
       "    </tr>\n",
       "  </tbody>\n",
       "</table>\n",
       "</div>"
      ],
      "text/plain": [
       "  Person        DOB  Year\n",
       "0   Alex 2010-01-01  2010\n",
       "1  Sarah 1990-04-21  1990\n",
       "2   Joee 1992-06-12  1992"
      ]
     },
     "execution_count": 47,
     "metadata": {},
     "output_type": "execute_result"
    }
   ],
   "source": [
    "df = pd.DataFrame({'Person': ['Alex', 'Sarah', 'Joee'], 'DOB': ['2010-01-01', '1990-04-21', '1992-06-12']})\n",
    "df['DOB'] = pd.to_datetime(df['DOB'])\n",
    "df['Year'] = df['DOB'].dt.year\n",
    "df.head()"
   ]
  },
  {
   "cell_type": "markdown",
   "metadata": {},
   "source": [
    "## Categorical Data Handling\n",
    "\n",
    "- **Encoding Categorical Variables**: Transforming categorical variables into a form that could be provided to machine-learning algorithms using methods like one-hot encoding with `pd.get_dummies()`."
   ]
  },
  {
   "cell_type": "code",
   "execution_count": 48,
   "metadata": {},
   "outputs": [
    {
     "data": {
      "text/html": [
       "<div>\n",
       "<style scoped>\n",
       "    .dataframe tbody tr th:only-of-type {\n",
       "        vertical-align: middle;\n",
       "    }\n",
       "\n",
       "    .dataframe tbody tr th {\n",
       "        vertical-align: top;\n",
       "    }\n",
       "\n",
       "    .dataframe thead th {\n",
       "        text-align: right;\n",
       "    }\n",
       "</style>\n",
       "<table border=\"1\" class=\"dataframe\">\n",
       "  <thead>\n",
       "    <tr style=\"text-align: right;\">\n",
       "      <th></th>\n",
       "      <th>Sensor A</th>\n",
       "      <th>Temperature</th>\n",
       "      <th>Location_Ground</th>\n",
       "      <th>Location_Roof</th>\n",
       "    </tr>\n",
       "  </thead>\n",
       "  <tbody>\n",
       "    <tr>\n",
       "      <th>0</th>\n",
       "      <td>12</td>\n",
       "      <td>23</td>\n",
       "      <td>False</td>\n",
       "      <td>True</td>\n",
       "    </tr>\n",
       "    <tr>\n",
       "      <th>1</th>\n",
       "      <td>45</td>\n",
       "      <td>23</td>\n",
       "      <td>False</td>\n",
       "      <td>True</td>\n",
       "    </tr>\n",
       "    <tr>\n",
       "      <th>2</th>\n",
       "      <td>12</td>\n",
       "      <td>25</td>\n",
       "      <td>True</td>\n",
       "      <td>False</td>\n",
       "    </tr>\n",
       "  </tbody>\n",
       "</table>\n",
       "</div>"
      ],
      "text/plain": [
       "   Sensor A  Temperature  Location_Ground  Location_Roof\n",
       "0        12           23            False           True\n",
       "1        45           23            False           True\n",
       "2        12           25             True          False"
      ]
     },
     "execution_count": 48,
     "metadata": {},
     "output_type": "execute_result"
    }
   ],
   "source": [
    "df = pd.DataFrame({'Sensor A': [12, 45, 12], 'Temperature': [23, 23, 25], 'Location': ['Roof', 'Roof', 'Ground']})\n",
    "df = pd.get_dummies(df, columns=['Location'])\n",
    "df.head()"
   ]
  },
  {
   "cell_type": "markdown",
   "metadata": {},
   "source": [
    "## Text Data Cleaning\n",
    "\n",
    "- **String Operations**: Applying string methods over series objects to clean text data, such as removing whitespace, changing case, or using regular expressions for pattern matching.\n"
   ]
  },
  {
   "cell_type": "code",
   "execution_count": 51,
   "metadata": {},
   "outputs": [
    {
     "data": {
      "text/html": [
       "<div>\n",
       "<style scoped>\n",
       "    .dataframe tbody tr th:only-of-type {\n",
       "        vertical-align: middle;\n",
       "    }\n",
       "\n",
       "    .dataframe tbody tr th {\n",
       "        vertical-align: top;\n",
       "    }\n",
       "\n",
       "    .dataframe thead th {\n",
       "        text-align: right;\n",
       "    }\n",
       "</style>\n",
       "<table border=\"1\" class=\"dataframe\">\n",
       "  <thead>\n",
       "    <tr style=\"text-align: right;\">\n",
       "      <th></th>\n",
       "      <th>Sensor A</th>\n",
       "      <th>Temperature</th>\n",
       "      <th>Location</th>\n",
       "    </tr>\n",
       "  </thead>\n",
       "  <tbody>\n",
       "    <tr>\n",
       "      <th>0</th>\n",
       "      <td>12</td>\n",
       "      <td>23</td>\n",
       "      <td>roof</td>\n",
       "    </tr>\n",
       "    <tr>\n",
       "      <th>1</th>\n",
       "      <td>45</td>\n",
       "      <td>23</td>\n",
       "      <td>roof</td>\n",
       "    </tr>\n",
       "    <tr>\n",
       "      <th>2</th>\n",
       "      <td>12</td>\n",
       "      <td>25</td>\n",
       "      <td>ground</td>\n",
       "    </tr>\n",
       "  </tbody>\n",
       "</table>\n",
       "</div>"
      ],
      "text/plain": [
       "   Sensor A  Temperature Location\n",
       "0        12           23     roof\n",
       "1        45           23     roof\n",
       "2        12           25   ground"
      ]
     },
     "execution_count": 51,
     "metadata": {},
     "output_type": "execute_result"
    }
   ],
   "source": [
    "df = pd.DataFrame({'Sensor A': [12, 45, 12], 'Temperature': [23, 23, 25], 'Location': ['ROOF', '  Roof', 'GrounD ']})\n",
    "df.head()\n",
    "\n",
    "df['Location'] = df['Location'].str.lower().str.strip()\n",
    "df.head()"
   ]
  },
  {
   "cell_type": "markdown",
   "metadata": {},
   "source": [
    "## Outlier Detection and Handling\n",
    "\n",
    "- **Identifying Outliers**: Using statistical methods or visualization to detect outliers.\n",
    "- **Handling Outliers**: Removing, capping, or otherwise adjusting outliers to minimize their effect on data analysis.\n",
    "\n",
    "### Identifying Outliers\n",
    "\n",
    "Outlicers can be identified usign varoius statistical methods. In this case we are finding outliers have a z-score of greater than 2. Z-score tells us the number of standard deviations a value is from the mean.\n"
   ]
  },
  {
   "cell_type": "code",
   "execution_count": 74,
   "metadata": {},
   "outputs": [
    {
     "name": "stdout",
     "output_type": "stream",
     "text": [
      "   Sales\n",
      "5    900\n"
     ]
    }
   ],
   "source": [
    "data = pd.DataFrame({\"Sales\" : [45, 50, 30, 20, 50, 900]})\n",
    "\n",
    "mean = data[\"Sales\"].mean()\n",
    "std = data[\"Sales\"].std()\n",
    "\n",
    "outliers = data[(data[\"Sales\"]-mean).abs()/std > 2]\n",
    "print(outliers)"
   ]
  },
  {
   "cell_type": "markdown",
   "metadata": {},
   "source": [
    "### Handling Outliers\n",
    "\n",
    "In certain instances outliers can be removed."
   ]
  },
  {
   "cell_type": "code",
   "execution_count": 75,
   "metadata": {},
   "outputs": [
    {
     "name": "stdout",
     "output_type": "stream",
     "text": [
      "   Sales\n",
      "0     45\n",
      "1     50\n",
      "2     30\n",
      "3     20\n",
      "4     50\n"
     ]
    }
   ],
   "source": [
    "data = pd.DataFrame({\"Sales\" : [45, 50, 30, 20, 50, 900]})\n",
    "\n",
    "mean = data[\"Sales\"].mean()\n",
    "std = data[\"Sales\"].std()\n",
    "\n",
    "no_outliers = data[(data[\"Sales\"]-mean).abs()/std < 2]\n",
    "print(no_outliers)"
   ]
  },
  {
   "cell_type": "markdown",
   "metadata": {},
   "source": [
    "## Statiscial Analysis with Pandas and NumPy\n",
    "\n",
    "### Mean\n",
    "\n",
    "The mean is hte average of all numbers and is typically used to find the central tendency of data."
   ]
  },
  {
   "cell_type": "code",
   "execution_count": 78,
   "metadata": {},
   "outputs": [
    {
     "name": "stdout",
     "output_type": "stream",
     "text": [
      "182.5\n",
      "182.5\n"
     ]
    }
   ],
   "source": [
    "import pandas as pd\n",
    "import numpy as np\n",
    "\n",
    "data = pd.DataFrame({\"Sales\" : [45, 50, 30, 20, 50, 900]})\n",
    "\n",
    "print(data[\"Sales\"].mean())\n",
    "\n",
    "#or\n",
    "print(np.mean(data[\"Sales\"]))"
   ]
  },
  {
   "cell_type": "markdown",
   "metadata": {},
   "source": [
    "### Median\n",
    "\n",
    "The median is the middle value when the data points are arranged in order. It's useful in skewed distributions as it better represents the center of the data."
   ]
  },
  {
   "cell_type": "code",
   "execution_count": 79,
   "metadata": {},
   "outputs": [
    {
     "name": "stdout",
     "output_type": "stream",
     "text": [
      "47.5\n",
      "47.5\n"
     ]
    }
   ],
   "source": [
    "import pandas as pd\n",
    "import numpy as np\n",
    "\n",
    "data = pd.DataFrame({\"Sales\" : [45, 50, 30, 20, 50, 900]})\n",
    "\n",
    "print(data[\"Sales\"].median())\n",
    "\n",
    "#or\n",
    "print(np.median(data[\"Sales\"]))"
   ]
  },
  {
   "cell_type": "markdown",
   "metadata": {},
   "source": [
    "### Mode\n",
    "\n",
    "The mode is the value that appears most frequently in a data set. A set of data may have one mode, more than one mode, or no mode at all."
   ]
  },
  {
   "cell_type": "code",
   "execution_count": 81,
   "metadata": {},
   "outputs": [
    {
     "name": "stdout",
     "output_type": "stream",
     "text": [
      "50\n"
     ]
    }
   ],
   "source": [
    "import pandas as pd\n",
    "import numpy as np\n",
    "\n",
    "data = pd.DataFrame({\"Sales\" : [45, 50, 30, 20, 50, 900]})\n",
    "\n",
    "print(data[\"Sales\"].mode()[0])"
   ]
  },
  {
   "cell_type": "markdown",
   "metadata": {},
   "source": [
    "### Standard Deviation\n",
    "\n",
    "Standard deviation measures the amount of variation or dispersion of a set of values. A low standard deviation means that the values tend to be close to the mean, whereas a high standard deviation means that the values are spread out over a wider range."
   ]
  },
  {
   "cell_type": "code",
   "execution_count": 87,
   "metadata": {},
   "outputs": [
    {
     "name": "stdout",
     "output_type": "stream",
     "text": [
      "351.7065538200845\n",
      "351.7065538200845\n"
     ]
    }
   ],
   "source": [
    "import pandas as pd\n",
    "import numpy as np\n",
    "\n",
    "data = pd.DataFrame({\"Sales\" : [45, 50, 30, 20, 50, 900]})\n",
    "\n",
    "print(data[\"Sales\"].std())\n",
    "\n",
    "#or\n",
    "print(np.std(data[\"Sales\"], ddof=1))\n",
    "# if ddof is 0, population is used"
   ]
  },
  {
   "cell_type": "markdown",
   "metadata": {},
   "source": [
    "### Additional Statistical Functions\n",
    "\n",
    "Both Pandas and NumPy offer additional functions to compute other statistical measures, such as:\n",
    "\n",
    "- **Variance**: Measures how much the data are spread out from the mean.\n",
    "- **Quantiles/Percentiles**: Indicate the value below which a given percentage of observations in a group of observations fall.\n",
    "- **Sum**: Total sum of all values in a dataset.\n",
    "- **Count**: Number of non-NA/null observations.\n",
    "- **Min/Max**: Minimum and maximum values in a dataset."
   ]
  },
  {
   "cell_type": "code",
   "execution_count": 90,
   "metadata": {},
   "outputs": [
    {
     "name": "stdout",
     "output_type": "stream",
     "text": [
      "Variance: 123697.5\n",
      "25th Percentile: 33.75\n",
      "Sum: 1095\n",
      "Count: 6\n",
      "Min: 20\n",
      "Max: 900\n"
     ]
    }
   ],
   "source": [
    "variance = data['Sales'].var()\n",
    "quantile_25 = data['Sales'].quantile(0.25)  # 25th percentile\n",
    "sum_values = data['Sales'].sum()\n",
    "count_values = data['Sales'].count()\n",
    "min_value = data['Sales'].min()\n",
    "max_value = data['Sales'].max()\n",
    "\n",
    "print(f\"Variance: {variance}\")\n",
    "print(f\"25th Percentile: {quantile_25}\")\n",
    "print(f\"Sum: {sum_values}\")\n",
    "print(f\"Count: {count_values}\")\n",
    "print(f\"Min: {min_value}\")\n",
    "print(f\"Max: {max_value}\")"
   ]
  },
  {
   "cell_type": "markdown",
   "metadata": {},
   "source": [
    "The same can be done using NumPy."
   ]
  },
  {
   "cell_type": "code",
   "execution_count": 92,
   "metadata": {},
   "outputs": [
    {
     "name": "stdout",
     "output_type": "stream",
     "text": [
      "Variance: 123697.5\n",
      "25th Percentile: 33.75\n",
      "Sum: 1095\n",
      "Count: 6\n",
      "Min: 20\n",
      "Max: 900\n"
     ]
    }
   ],
   "source": [
    "variance = np.var(data['Sales'], ddof=1)\n",
    "quantile_25 = np.quantile(data['Sales'], 0.25)\n",
    "sum_values = np.sum(data['Sales'])\n",
    "count_values = np.size(data['Sales'])\n",
    "min_value = np.min(data['Sales'])\n",
    "max_value = np.max(data['Sales'])\n",
    "\n",
    "print(f\"Variance: {variance}\")\n",
    "print(f\"25th Percentile: {quantile_25}\")\n",
    "print(f\"Sum: {sum_values}\")\n",
    "print(f\"Count: {count_values}\")\n",
    "print(f\"Min: {min_value}\")\n",
    "print(f\"Max: {max_value}\")"
   ]
  }
 ],
 "metadata": {
  "kernelspec": {
   "display_name": "Python 3",
   "language": "python",
   "name": "python3"
  },
  "language_info": {
   "codemirror_mode": {
    "name": "ipython",
    "version": 3
   },
   "file_extension": ".py",
   "mimetype": "text/x-python",
   "name": "python",
   "nbconvert_exporter": "python",
   "pygments_lexer": "ipython3",
   "version": "3.12.1"
  }
 },
 "nbformat": 4,
 "nbformat_minor": 2
}
