{
 "cells": [
  {
   "cell_type": "code",
   "execution_count": 63,
   "metadata": {},
   "outputs": [],
   "source": [
    "import pandas as pd\n",
    "import numpy as np"
   ]
  },
  {
   "cell_type": "code",
   "execution_count": 64,
   "metadata": {},
   "outputs": [],
   "source": [
    "#q1\n",
    "df_sales = pd.read_csv('./assets/sales_data.csv')\n",
    "df_sales_extra = pd.read_csv('./assets/sales_data_extra.csv')"
   ]
  },
  {
   "cell_type": "code",
   "execution_count": 65,
   "metadata": {},
   "outputs": [],
   "source": [
    "#q2\n",
    "sales = pd.concat([df_sales, df_sales_extra])"
   ]
  },
  {
   "cell_type": "code",
   "execution_count": 66,
   "metadata": {},
   "outputs": [
    {
     "name": "stdout",
     "output_type": "stream",
     "text": [
      "         Date  Sales  CustomerID    Product  Quantity\n",
      "0  2021-01-13  362.0          11  Product D         3\n",
      "1  2021-01-16  147.0           5  Product A         5\n",
      "2  2021-01-22  227.0           4  Product C         8\n",
      "3  2021-01-01  231.0           9  Product B         5\n",
      "4  2021-01-04  456.0          15  Product C         5\n",
      "Date           object\n",
      "Sales         float64\n",
      "CustomerID      int64\n",
      "Product        object\n",
      "Quantity        int64\n",
      "dtype: object\n",
      "             Sales  CustomerID    Quantity\n",
      "count    97.000000  105.000000  105.000000\n",
      "mean    430.175258   10.104762    5.133333\n",
      "std     667.758627    5.347400    2.410181\n",
      "min     100.000000    1.000000    1.000000\n",
      "25%     195.000000    5.000000    3.000000\n",
      "50%     297.000000   10.000000    5.000000\n",
      "75%     417.000000   15.000000    7.000000\n",
      "max    4520.000000   19.000000    9.000000\n"
     ]
    }
   ],
   "source": [
    "#3\n",
    "print(sales.head())\n",
    "print(sales.dtypes)\n",
    "print(sales.describe())"
   ]
  },
  {
   "cell_type": "code",
   "execution_count": 67,
   "metadata": {},
   "outputs": [
    {
     "name": "stdout",
     "output_type": "stream",
     "text": [
      "Date          0\n",
      "Sales         8\n",
      "CustomerID    0\n",
      "Product       0\n",
      "Quantity      0\n",
      "dtype: int64\n"
     ]
    }
   ],
   "source": [
    "#4\n",
    "print(sales.isnull().sum())"
   ]
  },
  {
   "cell_type": "code",
   "execution_count": 68,
   "metadata": {},
   "outputs": [
    {
     "name": "stdout",
     "output_type": "stream",
     "text": [
      "Date          0\n",
      "Sales         0\n",
      "CustomerID    0\n",
      "Product       0\n",
      "Quantity      0\n",
      "dtype: int64\n"
     ]
    }
   ],
   "source": [
    "#5 \n",
    "sales.fillna({\"Sales\": sales[\"Sales\"].median()}, inplace=True)\n",
    "print(sales.isnull().sum())"
   ]
  },
  {
   "cell_type": "code",
   "execution_count": 69,
   "metadata": {},
   "outputs": [
    {
     "name": "stdout",
     "output_type": "stream",
     "text": [
      "Date           object\n",
      "Sales         float64\n",
      "CustomerID      int64\n",
      "Product        object\n",
      "Quantity        int64\n",
      "dtype: object\n"
     ]
    }
   ],
   "source": [
    "print(sales.dtypes)"
   ]
  },
  {
   "cell_type": "code",
   "execution_count": 70,
   "metadata": {},
   "outputs": [
    {
     "name": "stdout",
     "output_type": "stream",
     "text": [
      "Date          datetime64[ns]\n",
      "Sales                float64\n",
      "CustomerID             int64\n",
      "Product               object\n",
      "Quantity               int64\n",
      "dtype: object\n"
     ]
    }
   ],
   "source": [
    "#6\n",
    "sales[\"Date\"] = pd.to_datetime(sales[\"Date\"])\n",
    "sales[\"Sales\"] = sales[\"Sales\"].astype(float)\n",
    "print(sales.dtypes)"
   ]
  },
  {
   "cell_type": "code",
   "execution_count": 71,
   "metadata": {},
   "outputs": [
    {
     "name": "stdout",
     "output_type": "stream",
     "text": [
      "5\n"
     ]
    }
   ],
   "source": [
    "#7\n",
    "print(sales.duplicated().sum())\n",
    "sales.drop_duplicates(inplace=True)\n"
   ]
  },
  {
   "cell_type": "code",
   "execution_count": 72,
   "metadata": {},
   "outputs": [
    {
     "data": {
      "text/html": [
       "<div>\n",
       "<style scoped>\n",
       "    .dataframe tbody tr th:only-of-type {\n",
       "        vertical-align: middle;\n",
       "    }\n",
       "\n",
       "    .dataframe tbody tr th {\n",
       "        vertical-align: top;\n",
       "    }\n",
       "\n",
       "    .dataframe thead th {\n",
       "        text-align: right;\n",
       "    }\n",
       "</style>\n",
       "<table border=\"1\" class=\"dataframe\">\n",
       "  <thead>\n",
       "    <tr style=\"text-align: right;\">\n",
       "      <th></th>\n",
       "      <th>date</th>\n",
       "      <th>sales</th>\n",
       "      <th>customerid</th>\n",
       "      <th>product</th>\n",
       "      <th>quantity</th>\n",
       "    </tr>\n",
       "  </thead>\n",
       "  <tbody>\n",
       "    <tr>\n",
       "      <th>0</th>\n",
       "      <td>2021-01-13</td>\n",
       "      <td>362.0</td>\n",
       "      <td>11</td>\n",
       "      <td>Product D</td>\n",
       "      <td>3</td>\n",
       "    </tr>\n",
       "    <tr>\n",
       "      <th>1</th>\n",
       "      <td>2021-01-16</td>\n",
       "      <td>147.0</td>\n",
       "      <td>5</td>\n",
       "      <td>Product A</td>\n",
       "      <td>5</td>\n",
       "    </tr>\n",
       "    <tr>\n",
       "      <th>2</th>\n",
       "      <td>2021-01-22</td>\n",
       "      <td>227.0</td>\n",
       "      <td>4</td>\n",
       "      <td>Product C</td>\n",
       "      <td>8</td>\n",
       "    </tr>\n",
       "    <tr>\n",
       "      <th>3</th>\n",
       "      <td>2021-01-01</td>\n",
       "      <td>231.0</td>\n",
       "      <td>9</td>\n",
       "      <td>Product B</td>\n",
       "      <td>5</td>\n",
       "    </tr>\n",
       "    <tr>\n",
       "      <th>4</th>\n",
       "      <td>2021-01-04</td>\n",
       "      <td>456.0</td>\n",
       "      <td>15</td>\n",
       "      <td>Product C</td>\n",
       "      <td>5</td>\n",
       "    </tr>\n",
       "  </tbody>\n",
       "</table>\n",
       "</div>"
      ],
      "text/plain": [
       "        date  sales  customerid    product  quantity\n",
       "0 2021-01-13  362.0          11  Product D         3\n",
       "1 2021-01-16  147.0           5  Product A         5\n",
       "2 2021-01-22  227.0           4  Product C         8\n",
       "3 2021-01-01  231.0           9  Product B         5\n",
       "4 2021-01-04  456.0          15  Product C         5"
      ]
     },
     "execution_count": 72,
     "metadata": {},
     "output_type": "execute_result"
    }
   ],
   "source": [
    "#8\n",
    "sales.columns = sales.columns.str.lower()\n",
    "sales.head()"
   ]
  },
  {
   "cell_type": "code",
   "execution_count": 73,
   "metadata": {},
   "outputs": [],
   "source": [
    "#q9\n",
    "Q1 = sales[\"sales\"].quantile(0.25)\n",
    "Q3 = sales[\"sales\"].quantile(0.75)\n",
    "IQR = Q3 - Q1\n",
    "sales = sales[(sales[\"sales\"] >= (Q1-1.5*IQR)) | (sales[\"sales\"] <= (Q3+1.5*IQR))]\n",
    "\n",
    "\n"
   ]
  },
  {
   "cell_type": "code",
   "execution_count": 74,
   "metadata": {},
   "outputs": [
    {
     "data": {
      "text/html": [
       "<div>\n",
       "<style scoped>\n",
       "    .dataframe tbody tr th:only-of-type {\n",
       "        vertical-align: middle;\n",
       "    }\n",
       "\n",
       "    .dataframe tbody tr th {\n",
       "        vertical-align: top;\n",
       "    }\n",
       "\n",
       "    .dataframe thead th {\n",
       "        text-align: right;\n",
       "    }\n",
       "</style>\n",
       "<table border=\"1\" class=\"dataframe\">\n",
       "  <thead>\n",
       "    <tr style=\"text-align: right;\">\n",
       "      <th></th>\n",
       "      <th>date</th>\n",
       "      <th>sales</th>\n",
       "      <th>quantity</th>\n",
       "      <th>customerid_1</th>\n",
       "      <th>customerid_2</th>\n",
       "      <th>customerid_3</th>\n",
       "      <th>customerid_4</th>\n",
       "      <th>customerid_5</th>\n",
       "      <th>customerid_6</th>\n",
       "      <th>customerid_7</th>\n",
       "      <th>...</th>\n",
       "      <th>customerid_14</th>\n",
       "      <th>customerid_15</th>\n",
       "      <th>customerid_16</th>\n",
       "      <th>customerid_17</th>\n",
       "      <th>customerid_18</th>\n",
       "      <th>customerid_19</th>\n",
       "      <th>product_Product A</th>\n",
       "      <th>product_Product B</th>\n",
       "      <th>product_Product C</th>\n",
       "      <th>product_Product D</th>\n",
       "    </tr>\n",
       "  </thead>\n",
       "  <tbody>\n",
       "    <tr>\n",
       "      <th>0</th>\n",
       "      <td>2021-01-13</td>\n",
       "      <td>362.0</td>\n",
       "      <td>3</td>\n",
       "      <td>False</td>\n",
       "      <td>False</td>\n",
       "      <td>False</td>\n",
       "      <td>False</td>\n",
       "      <td>False</td>\n",
       "      <td>False</td>\n",
       "      <td>False</td>\n",
       "      <td>...</td>\n",
       "      <td>False</td>\n",
       "      <td>False</td>\n",
       "      <td>False</td>\n",
       "      <td>False</td>\n",
       "      <td>False</td>\n",
       "      <td>False</td>\n",
       "      <td>False</td>\n",
       "      <td>False</td>\n",
       "      <td>False</td>\n",
       "      <td>True</td>\n",
       "    </tr>\n",
       "    <tr>\n",
       "      <th>1</th>\n",
       "      <td>2021-01-16</td>\n",
       "      <td>147.0</td>\n",
       "      <td>5</td>\n",
       "      <td>False</td>\n",
       "      <td>False</td>\n",
       "      <td>False</td>\n",
       "      <td>False</td>\n",
       "      <td>True</td>\n",
       "      <td>False</td>\n",
       "      <td>False</td>\n",
       "      <td>...</td>\n",
       "      <td>False</td>\n",
       "      <td>False</td>\n",
       "      <td>False</td>\n",
       "      <td>False</td>\n",
       "      <td>False</td>\n",
       "      <td>False</td>\n",
       "      <td>True</td>\n",
       "      <td>False</td>\n",
       "      <td>False</td>\n",
       "      <td>False</td>\n",
       "    </tr>\n",
       "    <tr>\n",
       "      <th>2</th>\n",
       "      <td>2021-01-22</td>\n",
       "      <td>227.0</td>\n",
       "      <td>8</td>\n",
       "      <td>False</td>\n",
       "      <td>False</td>\n",
       "      <td>False</td>\n",
       "      <td>True</td>\n",
       "      <td>False</td>\n",
       "      <td>False</td>\n",
       "      <td>False</td>\n",
       "      <td>...</td>\n",
       "      <td>False</td>\n",
       "      <td>False</td>\n",
       "      <td>False</td>\n",
       "      <td>False</td>\n",
       "      <td>False</td>\n",
       "      <td>False</td>\n",
       "      <td>False</td>\n",
       "      <td>False</td>\n",
       "      <td>True</td>\n",
       "      <td>False</td>\n",
       "    </tr>\n",
       "    <tr>\n",
       "      <th>3</th>\n",
       "      <td>2021-01-01</td>\n",
       "      <td>231.0</td>\n",
       "      <td>5</td>\n",
       "      <td>False</td>\n",
       "      <td>False</td>\n",
       "      <td>False</td>\n",
       "      <td>False</td>\n",
       "      <td>False</td>\n",
       "      <td>False</td>\n",
       "      <td>False</td>\n",
       "      <td>...</td>\n",
       "      <td>False</td>\n",
       "      <td>False</td>\n",
       "      <td>False</td>\n",
       "      <td>False</td>\n",
       "      <td>False</td>\n",
       "      <td>False</td>\n",
       "      <td>False</td>\n",
       "      <td>True</td>\n",
       "      <td>False</td>\n",
       "      <td>False</td>\n",
       "    </tr>\n",
       "    <tr>\n",
       "      <th>4</th>\n",
       "      <td>2021-01-04</td>\n",
       "      <td>456.0</td>\n",
       "      <td>5</td>\n",
       "      <td>False</td>\n",
       "      <td>False</td>\n",
       "      <td>False</td>\n",
       "      <td>False</td>\n",
       "      <td>False</td>\n",
       "      <td>False</td>\n",
       "      <td>False</td>\n",
       "      <td>...</td>\n",
       "      <td>False</td>\n",
       "      <td>True</td>\n",
       "      <td>False</td>\n",
       "      <td>False</td>\n",
       "      <td>False</td>\n",
       "      <td>False</td>\n",
       "      <td>False</td>\n",
       "      <td>False</td>\n",
       "      <td>True</td>\n",
       "      <td>False</td>\n",
       "    </tr>\n",
       "  </tbody>\n",
       "</table>\n",
       "<p>5 rows × 26 columns</p>\n",
       "</div>"
      ],
      "text/plain": [
       "        date  sales  quantity  customerid_1  customerid_2  customerid_3  \\\n",
       "0 2021-01-13  362.0         3         False         False         False   \n",
       "1 2021-01-16  147.0         5         False         False         False   \n",
       "2 2021-01-22  227.0         8         False         False         False   \n",
       "3 2021-01-01  231.0         5         False         False         False   \n",
       "4 2021-01-04  456.0         5         False         False         False   \n",
       "\n",
       "   customerid_4  customerid_5  customerid_6  customerid_7  ...  customerid_14  \\\n",
       "0         False         False         False         False  ...          False   \n",
       "1         False          True         False         False  ...          False   \n",
       "2          True         False         False         False  ...          False   \n",
       "3         False         False         False         False  ...          False   \n",
       "4         False         False         False         False  ...          False   \n",
       "\n",
       "   customerid_15  customerid_16  customerid_17  customerid_18  customerid_19  \\\n",
       "0          False          False          False          False          False   \n",
       "1          False          False          False          False          False   \n",
       "2          False          False          False          False          False   \n",
       "3          False          False          False          False          False   \n",
       "4           True          False          False          False          False   \n",
       "\n",
       "   product_Product A  product_Product B  product_Product C  product_Product D  \n",
       "0              False              False              False               True  \n",
       "1               True              False              False              False  \n",
       "2              False              False               True              False  \n",
       "3              False               True              False              False  \n",
       "4              False              False               True              False  \n",
       "\n",
       "[5 rows x 26 columns]"
      ]
     },
     "execution_count": 74,
     "metadata": {},
     "output_type": "execute_result"
    }
   ],
   "source": [
    "#q10\n",
    "sales = pd.get_dummies(sales, columns=[\"customerid\", \"product\"])\n",
    "sales.head()"
   ]
  },
  {
   "cell_type": "code",
   "execution_count": 75,
   "metadata": {},
   "outputs": [],
   "source": [
    "#q11\n",
    "sales['year'] = sales['date'].dt.year\n",
    "sales['month'] = sales['date'].dt.month"
   ]
  },
  {
   "cell_type": "code",
   "execution_count": 78,
   "metadata": {},
   "outputs": [],
   "source": [
    "#q12\n",
    "from sklearn.preprocessing import MinMaxScaler\n",
    "scaler = MinMaxScaler()\n",
    "sales[['sales', 'quantity']] = scaler.fit_transform(sales[[\"sales\", \"quantity\"]])"
   ]
  },
  {
   "cell_type": "code",
   "execution_count": 80,
   "metadata": {},
   "outputs": [],
   "source": [
    "#13\n",
    "sales.to_csv(\"./assets/sales_cleaned.csv\", index=False)"
   ]
  }
 ],
 "metadata": {
  "kernelspec": {
   "display_name": "Python 3",
   "language": "python",
   "name": "python3"
  },
  "language_info": {
   "codemirror_mode": {
    "name": "ipython",
    "version": 3
   },
   "file_extension": ".py",
   "mimetype": "text/x-python",
   "name": "python",
   "nbconvert_exporter": "python",
   "pygments_lexer": "ipython3",
   "version": "3.12.1"
  }
 },
 "nbformat": 4,
 "nbformat_minor": 2
}
