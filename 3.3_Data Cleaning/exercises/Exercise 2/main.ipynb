{
 "cells": [
  {
   "cell_type": "code",
   "execution_count": 42,
   "metadata": {},
   "outputs": [],
   "source": [
    "import myutils"
   ]
  },
  {
   "cell_type": "code",
   "execution_count": 43,
   "metadata": {},
   "outputs": [],
   "source": [
    "users = myutils.get_users()"
   ]
  },
  {
   "cell_type": "code",
   "execution_count": 44,
   "metadata": {},
   "outputs": [],
   "source": [
    "fields = ['age', 'weight', 'gender', 'bloodGroup']\n",
    "stats = {}"
   ]
  },
  {
   "cell_type": "code",
   "execution_count": 46,
   "metadata": {},
   "outputs": [],
   "source": [
    "for field in fields:\n",
    "    if type(users[0][field])==str:\n",
    "        stats[field] = myutils.get_string_stats(users, field)\n",
    "    else:\n",
    "        stats[field] = myutils.get_numeric_stats(users,field)"
   ]
  },
  {
   "cell_type": "code",
   "execution_count": 41,
   "metadata": {},
   "outputs": [
    {
     "data": {
      "text/plain": [
       "{'age': {'total': 1046, 'count': 30, 'average': 34.86666666666667},\n",
       " 'weight': {'total': 2489.8999999999996,\n",
       "  'count': 30,\n",
       "  'average': 82.99666666666666},\n",
       " 'gender': {'male': 17, 'female': 13},\n",
       " 'bloodGroup': {'A-': 7,\n",
       "  'O+': 7,\n",
       "  'B+': 2,\n",
       "  'A+': 3,\n",
       "  'B-': 4,\n",
       "  'O-': 6,\n",
       "  'AB-': 1}}"
      ]
     },
     "execution_count": 41,
     "metadata": {},
     "output_type": "execute_result"
    }
   ],
   "source": [
    "stats"
   ]
  },
  {
   "cell_type": "code",
   "execution_count": 17,
   "metadata": {},
   "outputs": [
    {
     "data": {
      "text/plain": [
       "{'male': 17, 'female': 13}"
      ]
     },
     "execution_count": 17,
     "metadata": {},
     "output_type": "execute_result"
    }
   ],
   "source": [
    "myutils.get_string_stats(users,'gender')"
   ]
  }
 ],
 "metadata": {
  "kernelspec": {
   "display_name": "my-env",
   "language": "python",
   "name": "python3"
  },
  "language_info": {
   "codemirror_mode": {
    "name": "ipython",
    "version": 3
   },
   "file_extension": ".py",
   "mimetype": "text/x-python",
   "name": "python",
   "nbconvert_exporter": "python",
   "pygments_lexer": "ipython3",
   "version": "3.12.2"
  }
 },
 "nbformat": 4,
 "nbformat_minor": 2
}
