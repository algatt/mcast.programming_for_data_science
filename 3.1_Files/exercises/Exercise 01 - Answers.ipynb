{
 "cells": [
  {
   "cell_type": "code",
   "execution_count": 16,
   "metadata": {},
   "outputs": [],
   "source": [
    "#1\n",
    "import random\n",
    "\n",
    "def generate_random_data(filename, num_lines):\n",
    "    data = []\n",
    "    word_list = [\"apple\", \"banana\", \"cherry\", \"pineapple\", \"kiwi\"]\n",
    "    for i in range(num_lines):\n",
    "        if random.randint(1, 2) == 1:\n",
    "            data.append(random.randint(0,100))\n",
    "        else:\n",
    "            data.append(random.choice(word_list))\n",
    "    with open(filename, \"w\") as file:\n",
    "        for item in data:\n",
    "            file.write(str(item)+\"\\n\")"
   ]
  },
  {
   "cell_type": "code",
   "execution_count": 19,
   "metadata": {},
   "outputs": [],
   "source": [
    "#2\n",
    "generate_random_data('./assets/file_1.txt', 25)"
   ]
  },
  {
   "cell_type": "code",
   "execution_count": 20,
   "metadata": {},
   "outputs": [
    {
     "name": "stdout",
     "output_type": "stream",
     "text": [
      "cherry\n",
      "\n",
      "77\n",
      "\n",
      "apple\n",
      "\n",
      "kiwi\n",
      "\n",
      "pineapple\n",
      "\n",
      "cherry\n",
      "\n",
      "banana\n",
      "\n",
      "25\n",
      "\n",
      "cherry\n",
      "\n",
      "pineapple\n",
      "\n",
      "apple\n",
      "\n",
      "cherry\n",
      "\n",
      "pineapple\n",
      "\n",
      "13\n",
      "\n",
      "pineapple\n",
      "\n",
      "56\n",
      "\n",
      "kiwi\n",
      "\n",
      "banana\n",
      "\n",
      "pineapple\n",
      "\n",
      "35\n",
      "\n",
      "76\n",
      "\n",
      "kiwi\n",
      "\n",
      "42\n",
      "\n",
      "kiwi\n",
      "\n",
      "banana\n",
      "\n"
     ]
    }
   ],
   "source": [
    "def read_file(filename):\n",
    "    with open(filename, 'r') as file:\n",
    "        for line in file:\n",
    "            print(line)\n",
    "\n",
    "read_file('./assets/file_1.txt')"
   ]
  },
  {
   "cell_type": "code",
   "execution_count": 22,
   "metadata": {},
   "outputs": [
    {
     "data": {
      "text/plain": [
       "25"
      ]
     },
     "execution_count": 22,
     "metadata": {},
     "output_type": "execute_result"
    }
   ],
   "source": [
    "def count_file_lines(filename):\n",
    "    with open(filename, 'r') as file:\n",
    "        lines = 0\n",
    "        for line in file:\n",
    "            lines+=1\n",
    "    return lines\n",
    "\n",
    "count_file_lines('./assets/file_1.txt')"
   ]
  },
  {
   "cell_type": "code",
   "execution_count": 23,
   "metadata": {},
   "outputs": [],
   "source": [
    "#5\n",
    "def copy_file(source, destination):\n",
    "    with open(source, 'r') as src, open(destination, \"w\") as dest:\n",
    "        dest.write(src.read())\n",
    "\n",
    "copy_file(\"./assets/file_1.txt\", \"./assets/file_1_copy.txt\")"
   ]
  },
  {
   "cell_type": "code",
   "execution_count": 26,
   "metadata": {},
   "outputs": [
    {
     "name": "stdout",
     "output_type": "stream",
     "text": [
      "324\n"
     ]
    }
   ],
   "source": [
    "#6\n",
    "def calculate_sum(filename):\n",
    "    with open(filename, \"r\") as file:\n",
    "        total = 0\n",
    "        for line in file:\n",
    "            try:\n",
    "                total += int(line)\n",
    "            except:\n",
    "                continue\n",
    "    return total\n",
    "\n",
    "print(calculate_sum(\"./assets/file_1.txt\"))\n"
   ]
  },
  {
   "cell_type": "code",
   "execution_count": 36,
   "metadata": {},
   "outputs": [
    {
     "name": "stdout",
     "output_type": "stream",
     "text": [
      "(4, 103, 477)\n"
     ]
    }
   ],
   "source": [
    "#7\n",
    "def file_stats(filename):\n",
    "    with open(filename, \"r\") as file:\n",
    "        lines = file.readlines()\n",
    "        words = 0\n",
    "        characters = 0\n",
    "        for line in lines:\n",
    "            split_words = line.split()\n",
    "            words += len(split_words)\n",
    "            for word in split_words:\n",
    "                characters += len(word)\n",
    "    return len(lines), words, characters\n",
    "\n",
    "print(file_stats(\"./assets/great.txt\"))\n"
   ]
  },
  {
   "cell_type": "code",
   "execution_count": 47,
   "metadata": {},
   "outputs": [
    {
     "data": {
      "text/plain": [
       "{'INFO': 41, 'TRACE': 7, 'WARNING': 4}"
      ]
     },
     "execution_count": 47,
     "metadata": {},
     "output_type": "execute_result"
    }
   ],
   "source": [
    "#8\n",
    "def process_log_file(filename):\n",
    "    with open(filename, \"r\") as file:\n",
    "        counts = {}\n",
    "        for line in file:\n",
    "            split_line = line.split()\n",
    "            try:\n",
    "                key = split_line[2].replace(\":\",\"\")\n",
    "                if key not in counts:\n",
    "                    counts[key]=1\n",
    "                else:\n",
    "                    counts[key]+=1\n",
    "            except:\n",
    "                continue\n",
    "        return counts\n",
    "\n",
    "process_log_file(\"./assets/ibm_log.txt\")"
   ]
  }
 ],
 "metadata": {
  "kernelspec": {
   "display_name": "Python 3",
   "language": "python",
   "name": "python3"
  },
  "language_info": {
   "codemirror_mode": {
    "name": "ipython",
    "version": 3
   },
   "file_extension": ".py",
   "mimetype": "text/x-python",
   "name": "python",
   "nbconvert_exporter": "python",
   "pygments_lexer": "ipython3",
   "version": "3.12.1"
  }
 },
 "nbformat": 4,
 "nbformat_minor": 2
}
