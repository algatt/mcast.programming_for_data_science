{
 "cells": [
  {
   "cell_type": "code",
   "execution_count": 2,
   "metadata": {},
   "outputs": [
    {
     "data": {
      "text/html": [
       "<div>\n",
       "<style scoped>\n",
       "    .dataframe tbody tr th:only-of-type {\n",
       "        vertical-align: middle;\n",
       "    }\n",
       "\n",
       "    .dataframe tbody tr th {\n",
       "        vertical-align: top;\n",
       "    }\n",
       "\n",
       "    .dataframe thead th {\n",
       "        text-align: right;\n",
       "    }\n",
       "</style>\n",
       "<table border=\"1\" class=\"dataframe\">\n",
       "  <thead>\n",
       "    <tr style=\"text-align: right;\">\n",
       "      <th></th>\n",
       "      <th>date</th>\n",
       "      <th>product</th>\n",
       "      <th>quantity</th>\n",
       "      <th>price_sold</th>\n",
       "    </tr>\n",
       "  </thead>\n",
       "  <tbody>\n",
       "    <tr>\n",
       "      <th>0</th>\n",
       "      <td>2024-01-01</td>\n",
       "      <td>apples</td>\n",
       "      <td>100</td>\n",
       "      <td>1.2</td>\n",
       "    </tr>\n",
       "    <tr>\n",
       "      <th>1</th>\n",
       "      <td>2024-01-01</td>\n",
       "      <td>kiwis</td>\n",
       "      <td>93</td>\n",
       "      <td>0.6</td>\n",
       "    </tr>\n",
       "    <tr>\n",
       "      <th>2</th>\n",
       "      <td>2024-01-01</td>\n",
       "      <td>bananas</td>\n",
       "      <td>200</td>\n",
       "      <td>1.1</td>\n",
       "    </tr>\n",
       "    <tr>\n",
       "      <th>3</th>\n",
       "      <td>2024-01-02</td>\n",
       "      <td>apples</td>\n",
       "      <td>45</td>\n",
       "      <td>1.2</td>\n",
       "    </tr>\n",
       "    <tr>\n",
       "      <th>4</th>\n",
       "      <td>2024-01-02</td>\n",
       "      <td>kiwis</td>\n",
       "      <td>10</td>\n",
       "      <td>0.8</td>\n",
       "    </tr>\n",
       "  </tbody>\n",
       "</table>\n",
       "</div>"
      ],
      "text/plain": [
       "         date  product  quantity  price_sold\n",
       "0  2024-01-01   apples       100         1.2\n",
       "1  2024-01-01    kiwis        93         0.6\n",
       "2  2024-01-01  bananas       200         1.1\n",
       "3  2024-01-02   apples        45         1.2\n",
       "4  2024-01-02    kiwis        10         0.8"
      ]
     },
     "execution_count": 2,
     "metadata": {},
     "output_type": "execute_result"
    }
   ],
   "source": [
    "#1\n",
    "import pandas as pd\n",
    "\n",
    "sales = pd.read_csv(\"./assets/sales.csv\")\n",
    "sales.head(5)"
   ]
  },
  {
   "cell_type": "code",
   "execution_count": 3,
   "metadata": {},
   "outputs": [],
   "source": [
    "#2\n",
    "import pandas as pd\n",
    "\n",
    "sales = pd.read_csv(\"./assets/sales.csv\")\n",
    "sales.to_csv(\"./assets/sales_copy.csv\", index=False)"
   ]
  },
  {
   "cell_type": "code",
   "execution_count": 2,
   "metadata": {},
   "outputs": [
    {
     "data": {
      "text/html": [
       "<div>\n",
       "<style scoped>\n",
       "    .dataframe tbody tr th:only-of-type {\n",
       "        vertical-align: middle;\n",
       "    }\n",
       "\n",
       "    .dataframe tbody tr th {\n",
       "        vertical-align: top;\n",
       "    }\n",
       "\n",
       "    .dataframe thead th {\n",
       "        text-align: right;\n",
       "    }\n",
       "</style>\n",
       "<table border=\"1\" class=\"dataframe\">\n",
       "  <thead>\n",
       "    <tr style=\"text-align: right;\">\n",
       "      <th></th>\n",
       "      <th>Product</th>\n",
       "      <th>Quantity</th>\n",
       "      <th>Shelf</th>\n",
       "    </tr>\n",
       "  </thead>\n",
       "  <tbody>\n",
       "    <tr>\n",
       "      <th>0</th>\n",
       "      <td>Apples</td>\n",
       "      <td>100</td>\n",
       "      <td>A1</td>\n",
       "    </tr>\n",
       "    <tr>\n",
       "      <th>1</th>\n",
       "      <td>Kiwis</td>\n",
       "      <td>200</td>\n",
       "      <td>A2</td>\n",
       "    </tr>\n",
       "    <tr>\n",
       "      <th>2</th>\n",
       "      <td>Banana</td>\n",
       "      <td>300</td>\n",
       "      <td>A1</td>\n",
       "    </tr>\n",
       "    <tr>\n",
       "      <th>3</th>\n",
       "      <td>Grapefruit</td>\n",
       "      <td>100</td>\n",
       "      <td>A3</td>\n",
       "    </tr>\n",
       "    <tr>\n",
       "      <th>4</th>\n",
       "      <td>Lemons</td>\n",
       "      <td>20</td>\n",
       "      <td>A5</td>\n",
       "    </tr>\n",
       "  </tbody>\n",
       "</table>\n",
       "</div>"
      ],
      "text/plain": [
       "      Product  Quantity Shelf\n",
       "0      Apples       100    A1\n",
       "1       Kiwis       200    A2\n",
       "2      Banana       300    A1\n",
       "3  Grapefruit       100    A3\n",
       "4      Lemons        20    A5"
      ]
     },
     "execution_count": 2,
     "metadata": {},
     "output_type": "execute_result"
    }
   ],
   "source": [
    "#3\n",
    "import pandas as pd\n",
    "\n",
    "df_inventory = pd.read_excel(\"./assets/inventory.xlsx\", sheet_name=\"Stock\")\n",
    "df_inventory.head(5)"
   ]
  },
  {
   "cell_type": "code",
   "execution_count": 3,
   "metadata": {},
   "outputs": [],
   "source": [
    "#3\n",
    "import pandas as pd\n",
    "\n",
    "df_inventory = pd.read_excel(\"./assets/inventory.xlsx\", sheet_name=\"Stock\")\n",
    "df_inventory.to_excel(\"./assets/inventory_copy.xlsx\", sheet_name=\"Inventory\", index=False)"
   ]
  },
  {
   "cell_type": "code",
   "execution_count": 4,
   "metadata": {},
   "outputs": [
    {
     "name": "stdout",
     "output_type": "stream",
     "text": [
      "Error: File Not Found :(\n"
     ]
    }
   ],
   "source": [
    "#5\n",
    "import pandas as pd\n",
    "\n",
    "try:\n",
    "    sales = pd.read_csv(\"./assets/sales.cs\")\n",
    "    sales.head(5)\n",
    "except FileNotFoundError:\n",
    "    print(\"Error: File Not Found :(\")"
   ]
  },
  {
   "cell_type": "code",
   "execution_count": 7,
   "metadata": {},
   "outputs": [
    {
     "name": "stdout",
     "output_type": "stream",
     "text": [
      "         date  product  quantity\n",
      "0  2024-01-01   apples       100\n",
      "1  2024-01-01    kiwis        93\n",
      "2  2024-01-01  bananas       200\n",
      "3  2024-01-02   apples        45\n",
      "4  2024-01-02    kiwis        10\n"
     ]
    }
   ],
   "source": [
    "#6\n",
    "import pandas as pd\n",
    "\n",
    "try:\n",
    "    sales = pd.read_csv(\"./assets/sales.csv\", usecols=[\"date\", \"product\", \"quantity\"])\n",
    "    print(sales.head(5))\n",
    "except FileNotFoundError:\n",
    "    print(\"Error: File Not Found :(\")"
   ]
  },
  {
   "cell_type": "code",
   "execution_count": 8,
   "metadata": {},
   "outputs": [
    {
     "data": {
      "text/html": [
       "<div>\n",
       "<style scoped>\n",
       "    .dataframe tbody tr th:only-of-type {\n",
       "        vertical-align: middle;\n",
       "    }\n",
       "\n",
       "    .dataframe tbody tr th {\n",
       "        vertical-align: top;\n",
       "    }\n",
       "\n",
       "    .dataframe thead th {\n",
       "        text-align: right;\n",
       "    }\n",
       "</style>\n",
       "<table border=\"1\" class=\"dataframe\">\n",
       "  <thead>\n",
       "    <tr style=\"text-align: right;\">\n",
       "      <th></th>\n",
       "      <th>name</th>\n",
       "      <th>surname</th>\n",
       "      <th>age</th>\n",
       "      <th>email</th>\n",
       "      <th>phone_number</th>\n",
       "    </tr>\n",
       "  </thead>\n",
       "  <tbody>\n",
       "    <tr>\n",
       "      <th>0</th>\n",
       "      <td>Alex</td>\n",
       "      <td>Smith</td>\n",
       "      <td>29</td>\n",
       "      <td>alex.smith@email.com</td>\n",
       "      <td>555-0101</td>\n",
       "    </tr>\n",
       "    <tr>\n",
       "      <th>1</th>\n",
       "      <td>Maria</td>\n",
       "      <td>Garcia</td>\n",
       "      <td>34</td>\n",
       "      <td>maria.garcia@email.com</td>\n",
       "      <td>555-0102</td>\n",
       "    </tr>\n",
       "    <tr>\n",
       "      <th>2</th>\n",
       "      <td>James</td>\n",
       "      <td>Johnson</td>\n",
       "      <td>24</td>\n",
       "      <td>james.johnson@email.com</td>\n",
       "      <td>555-0103</td>\n",
       "    </tr>\n",
       "    <tr>\n",
       "      <th>3</th>\n",
       "      <td>Emily</td>\n",
       "      <td>Davis</td>\n",
       "      <td>28</td>\n",
       "      <td>emily.davis@email.com</td>\n",
       "      <td>555-0104</td>\n",
       "    </tr>\n",
       "    <tr>\n",
       "      <th>4</th>\n",
       "      <td>Ethan</td>\n",
       "      <td>Miller</td>\n",
       "      <td>32</td>\n",
       "      <td>ethan.miller@email.com</td>\n",
       "      <td>555-0105</td>\n",
       "    </tr>\n",
       "  </tbody>\n",
       "</table>\n",
       "</div>"
      ],
      "text/plain": [
       "    name  surname  age                    email phone_number\n",
       "0   Alex    Smith   29     alex.smith@email.com     555-0101\n",
       "1  Maria   Garcia   34   maria.garcia@email.com     555-0102\n",
       "2  James  Johnson   24  james.johnson@email.com     555-0103\n",
       "3  Emily    Davis   28    emily.davis@email.com     555-0104\n",
       "4  Ethan   Miller   32   ethan.miller@email.com     555-0105"
      ]
     },
     "execution_count": 8,
     "metadata": {},
     "output_type": "execute_result"
    }
   ],
   "source": [
    "#7\n",
    "import pandas as pd\n",
    "\n",
    "clients = pd.read_json(\"./assets/clients.json\")\n",
    "clients.head(5)"
   ]
  },
  {
   "cell_type": "code",
   "execution_count": 15,
   "metadata": {},
   "outputs": [],
   "source": [
    "#8\n",
    "import pandas as pd\n",
    "\n",
    "clients = pd.read_json(\"./assets/clients.json\")\n",
    "clients.to_json(\"./assets/clients_copy.json\", orient=\"records\", lines=True)"
   ]
  },
  {
   "cell_type": "code",
   "execution_count": 26,
   "metadata": {},
   "outputs": [
    {
     "name": "stdout",
     "output_type": "stream",
     "text": [
      "['January', 'March', 'Total Sales']\n"
     ]
    }
   ],
   "source": [
    "#9\n",
    "import pandas as pd\n",
    "\n",
    "excel = pd.ExcelFile(\"./assets/data.xlsx\")\n",
    "print(excel.sheet_names)  "
   ]
  },
  {
   "cell_type": "code",
   "execution_count": 29,
   "metadata": {},
   "outputs": [],
   "source": [
    "#10\n",
    "import pandas as pd\n",
    "\n",
    "df_jan = pd.read_csv(\"./assets/sales_jan.csv\")\n",
    "df_feb = pd.read_csv(\"./assets/sales_feb.csv\")\n",
    "df = pd.concat([df_jan, df_feb])\n",
    "df.to_csv(\"./assets/sales_janfeb.csv\", index=False)"
   ]
  },
  {
   "cell_type": "code",
   "execution_count": 31,
   "metadata": {},
   "outputs": [
    {
     "data": {
      "text/html": [
       "<div>\n",
       "<style scoped>\n",
       "    .dataframe tbody tr th:only-of-type {\n",
       "        vertical-align: middle;\n",
       "    }\n",
       "\n",
       "    .dataframe tbody tr th {\n",
       "        vertical-align: top;\n",
       "    }\n",
       "\n",
       "    .dataframe thead th {\n",
       "        text-align: right;\n",
       "    }\n",
       "</style>\n",
       "<table border=\"1\" class=\"dataframe\">\n",
       "  <thead>\n",
       "    <tr style=\"text-align: right;\">\n",
       "      <th></th>\n",
       "      <th>date</th>\n",
       "      <th>product</th>\n",
       "      <th>quantity</th>\n",
       "      <th>price_sold</th>\n",
       "    </tr>\n",
       "  </thead>\n",
       "  <tbody>\n",
       "    <tr>\n",
       "      <th>0</th>\n",
       "      <td>2024-01-01</td>\n",
       "      <td>apples</td>\n",
       "      <td>100</td>\n",
       "      <td>1.2</td>\n",
       "    </tr>\n",
       "    <tr>\n",
       "      <th>1</th>\n",
       "      <td>2024-01-01</td>\n",
       "      <td>kiwis</td>\n",
       "      <td>93</td>\n",
       "      <td>0.6</td>\n",
       "    </tr>\n",
       "    <tr>\n",
       "      <th>2</th>\n",
       "      <td>2024-01-01</td>\n",
       "      <td>bananas</td>\n",
       "      <td>200</td>\n",
       "      <td>1.1</td>\n",
       "    </tr>\n",
       "    <tr>\n",
       "      <th>5</th>\n",
       "      <td>2024-01-02</td>\n",
       "      <td>bananas</td>\n",
       "      <td>200</td>\n",
       "      <td>1.1</td>\n",
       "    </tr>\n",
       "    <tr>\n",
       "      <th>7</th>\n",
       "      <td>2024-01-03</td>\n",
       "      <td>bananas</td>\n",
       "      <td>500</td>\n",
       "      <td>0.2</td>\n",
       "    </tr>\n",
       "  </tbody>\n",
       "</table>\n",
       "</div>"
      ],
      "text/plain": [
       "         date  product  quantity  price_sold\n",
       "0  2024-01-01   apples       100         1.2\n",
       "1  2024-01-01    kiwis        93         0.6\n",
       "2  2024-01-01  bananas       200         1.1\n",
       "5  2024-01-02  bananas       200         1.1\n",
       "7  2024-01-03  bananas       500         0.2"
      ]
     },
     "execution_count": 31,
     "metadata": {},
     "output_type": "execute_result"
    }
   ],
   "source": [
    "#11\n",
    "import pandas as pd\n",
    "\n",
    "data = pd.read_csv(\"./assets/sales.csv\")\n",
    "data[data['quantity']>50]\n"
   ]
  },
  {
   "cell_type": "code",
   "execution_count": 34,
   "metadata": {},
   "outputs": [
    {
     "name": "stdout",
     "output_type": "stream",
     "text": [
      "Processing chunk 1\n",
      "Processing chunk 2\n",
      "Processing chunk 3\n"
     ]
    }
   ],
   "source": [
    "#12\n",
    "chunk_size = 1000\n",
    "chunk_count = 1\n",
    "\n",
    "for chunk in pd.read_csv(\"./assets/big_file.csv\", chunksize=chunk_size):\n",
    "    print(f\"Processing chunk {chunk_count}\")\n",
    "    chunk_count+=1\n",
    "    if chunk_count>3:\n",
    "        break"
   ]
  }
 ],
 "metadata": {
  "kernelspec": {
   "display_name": "Python 3",
   "language": "python",
   "name": "python3"
  },
  "language_info": {
   "codemirror_mode": {
    "name": "ipython",
    "version": 3
   },
   "file_extension": ".py",
   "mimetype": "text/x-python",
   "name": "python",
   "nbconvert_exporter": "python",
   "pygments_lexer": "ipython3",
   "version": "3.12.1"
  }
 },
 "nbformat": 4,
 "nbformat_minor": 2
}
