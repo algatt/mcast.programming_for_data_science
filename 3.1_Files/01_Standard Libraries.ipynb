{
 "cells": [
  {
   "cell_type": "markdown",
   "metadata": {},
   "source": [
    "# File Handling in Python\n",
    "\n",
    "File handling is an important part of various tasks in Python, such as data analysis, and automation scripts. Python provides built-in functions for reading, writing, and manipulating files.\n",
    "\n",
    "## Major File Operations \n",
    "\n",
    "### Opening a File\n",
    "\n",
    "`open()` function is used to open a file. It returns a file object, and it takes two arguments: the file name, and the mode.\n",
    "\n",
    "The mode determines the purpose of opening a file. Some of the commone modes include:\n",
    "- `'r'`: read mode which is the default\n",
    "- `'w'`: write mode, opens the file for writing, creating the file if it does not exist\n",
    "- `'a'`: append mode, opens the file for writing, appending to the end if it exists\n",
    "- `'b'`: binary mode, opens the file in binary mode used with the previous modes (e.g. `'wb'`, `'rb'`)\n",
    "\n",
    "### Reading from a File\n",
    "\n",
    "- `read(size)`: reads up to the specified number of bytes/characters `size` from the file. If `size` is not specified it reads the entire file.\n",
    "- `readline()`: reads a single line from the file\n",
    "- `readlines()`: reads all the lines in a file into a list\n",
    "\n",
    "### Writing to a File\n",
    "\n",
    "- `write(string)`: writes the `string` to the file\n",
    "- `writelines(list)`: writes a list of strings to the file\n",
    "\n",
    "### Closing the File\n",
    "\n",
    "- `close()`: closes the file. It's important to close unused files to free up system resources\n",
    "\n",
    "### Using `with`\n",
    "\n",
    "The `with` statement automatically takes care of closing the file once the nested block of code is executed, even if exceptions are raised within the block."
   ]
  },
  {
   "cell_type": "markdown",
   "metadata": {},
   "source": [
    "## Examples of File Operations\n",
    "\n",
    "### Reading Entire File at Once"
   ]
  },
  {
   "cell_type": "code",
   "execution_count": 7,
   "metadata": {},
   "outputs": [
    {
     "name": "stdout",
     "output_type": "stream",
     "text": [
      "My father's family name being Pirrip, and my Christian name Philip, my infant tongue could make of both names nothing longer or more explicit than Pip.\n",
      "So, I called myself Pip, and came to be called Pip.\n",
      "I give Pirrip as my father's family name, on the authority of his tombstone and my sister, Mrs. Joe Gargery, who married the blacksmith.\n",
      "As I never saw my father or my mother, and never saw any likeness of either of them (for their days were long before the days of photographs), my first fancies regarding what they were like were unreasonably derived from their tombstones.\n"
     ]
    }
   ],
   "source": [
    "with open(\"./assets/example.txt\", \"r\") as file:\n",
    "    content = file.read()\n",
    "    print(content)"
   ]
  },
  {
   "cell_type": "markdown",
   "metadata": {},
   "source": [
    "### Reading the File Line-by-Line"
   ]
  },
  {
   "cell_type": "code",
   "execution_count": 8,
   "metadata": {},
   "outputs": [
    {
     "name": "stdout",
     "output_type": "stream",
     "text": [
      "My father's family name being Pirrip, and my Christian name Philip, my infant tongue could make of both names nothing longer or more explicit than Pip.\n",
      "\n",
      "So, I called myself Pip, and came to be called Pip.\n",
      "\n",
      "I give Pirrip as my father's family name, on the authority of his tombstone and my sister, Mrs. Joe Gargery, who married the blacksmith.\n",
      "\n",
      "As I never saw my father or my mother, and never saw any likeness of either of them (for their days were long before the days of photographs), my first fancies regarding what they were like were unreasonably derived from their tombstones.\n"
     ]
    }
   ],
   "source": [
    "with open(\"./assets/example.txt\", \"r\") as file:\n",
    "    for line in file:\n",
    "        print(line)"
   ]
  },
  {
   "cell_type": "markdown",
   "metadata": {},
   "source": [
    "### Writing to a new File"
   ]
  },
  {
   "cell_type": "code",
   "execution_count": 14,
   "metadata": {},
   "outputs": [],
   "source": [
    "with open(\"./assets/newfile.txt\", \"w\") as file:\n",
    "    file.write(\"This is a new file!\")"
   ]
  },
  {
   "cell_type": "markdown",
   "metadata": {},
   "source": [
    "### Appending to a File"
   ]
  },
  {
   "cell_type": "code",
   "execution_count": 15,
   "metadata": {},
   "outputs": [],
   "source": [
    "with open(\"./assets/newfile.txt\", \"a\") as file:\n",
    "    file.write(\"\\nThis is a new line at the end\")"
   ]
  },
  {
   "cell_type": "markdown",
   "metadata": {},
   "source": [
    "### Reading Binary Files"
   ]
  },
  {
   "cell_type": "code",
   "execution_count": 9,
   "metadata": {},
   "outputs": [
    {
     "name": "stdout",
     "output_type": "stream",
     "text": [
      "b'\\xff\\xd8\\xff\\xe0\\x00\\x10JFIF\\x00\\x01\\x02\\x01\\x01^\\x01^\\x00\\x00\\xff\\xe1\\x1fNExif\\x00\\x00II*\\x00\\x08\\x00\\x00\\x00\\x10\\x00\\x00\\x01\\x04\\x00\\x01\\x00\\x00\\x00 \\t\\x00\\x00\\x01\\x01\\x04\\x00\\x01\\x00\\x00\\x00\\xb0\\r\\x00\\x00\\x02\\x01\\x03\\x00\\x03\\x00\\x00\\x00\\xce\\x00\\x00\\x00\\x03\\x01\\x03\\x00\\x01\\x00\\x00\\x00\\x01\\x00\\x00\\x00\\x06\\x01\\x03\\x00\\x01\\x00\\x00\\x00\\x02\\x00\\x00\\x00\\x0f\\x01\\x02\\x00\\x06\\x00\\x00\\x00\\xd4\\x00\\x00\\x00\\x10\\x01\\x02\\x00\\x0e\\x00\\x00\\x00\\xda\\x00\\x00\\x00\\x12\\x01\\x03\\x00\\x01\\x00\\x00\\x00\\x01\\x00\\x00\\x00\\x15\\x01\\x03\\x00\\x01\\x00\\x00\\x00\\x03\\x00\\x00\\x00\\x1a\\x01\\x05\\x00\\x01\\x00\\x00\\x00\\xe8\\x00\\x00\\x00\\x1b\\x01\\x05\\x00\\x01\\x00\\x00\\x00\\xf0\\x00\\x00\\x00\\x1c\\x01\\x03\\x00\\x01\\x00\\x00\\x00\\x01\\x00\\x00\\x00(\\x01\\x03\\x00\\x01\\x00\\x00\\x00\\x02\\x00\\x00\\x001\\x01\\x02\\x00'\n"
     ]
    }
   ],
   "source": [
    "with open(\"./assets/poppy.jpg\", \"rb\") as file:\n",
    "    content = file.read()\n",
    "    print(content[:200])"
   ]
  },
  {
   "cell_type": "markdown",
   "metadata": {},
   "source": [
    "### Writing to a Binary File"
   ]
  },
  {
   "cell_type": "code",
   "execution_count": 6,
   "metadata": {},
   "outputs": [],
   "source": [
    "with open('./assets/poppy_copy.jpg', 'wb') as file:\n",
    "    file.write(content)"
   ]
  }
 ],
 "metadata": {
  "kernelspec": {
   "display_name": "Python 3",
   "language": "python",
   "name": "python3"
  },
  "language_info": {
   "codemirror_mode": {
    "name": "ipython",
    "version": 3
   },
   "file_extension": ".py",
   "mimetype": "text/x-python",
   "name": "python",
   "nbconvert_exporter": "python",
   "pygments_lexer": "ipython3",
   "version": "3.12.1"
  }
 },
 "nbformat": 4,
 "nbformat_minor": 2
}
