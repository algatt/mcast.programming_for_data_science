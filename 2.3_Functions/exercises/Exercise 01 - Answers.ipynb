{
 "cells": [
  {
   "cell_type": "markdown",
   "metadata": {},
   "source": [
    "# Exercise Functions\n",
    "\n",
    "## Part 1"
   ]
  },
  {
   "cell_type": "code",
   "execution_count": 2,
   "metadata": {},
   "outputs": [
    {
     "name": "stdout",
     "output_type": "stream",
     "text": [
      "18\n"
     ]
    }
   ],
   "source": [
    "# q1\n",
    "def calculate_area(length, width):\n",
    "    return (length*width)\n",
    "\n",
    "print(calculate_area(6,3))"
   ]
  },
  {
   "cell_type": "code",
   "execution_count": 10,
   "metadata": {},
   "outputs": [
    {
     "name": "stdout",
     "output_type": "stream",
     "text": [
      "6\n",
      "6\n"
     ]
    }
   ],
   "source": [
    "# q2\n",
    "def get_max_number(n1, n2, n3):\n",
    "    max = n1\n",
    "    if n2>max:\n",
    "        max = n2\n",
    "    if n3>max:\n",
    "        max = n3\n",
    "    return max\n",
    "    \n",
    "print(get_max_number(1,2,6))"
   ]
  },
  {
   "cell_type": "code",
   "execution_count": 19,
   "metadata": {},
   "outputs": [
    {
     "name": "stdout",
     "output_type": "stream",
     "text": [
      "True\n",
      "False\n",
      "False\n",
      "True\n"
     ]
    }
   ],
   "source": [
    "# q3\n",
    "def is_prime(num):\n",
    "    if num <=1 :\n",
    "        return False\n",
    "    for i in range(2, int(num*0.5) + 1):\n",
    "        if num % i == 0:\n",
    "            return False \n",
    "    return True\n",
    "\n",
    "print(is_prime(11))\n",
    "print(is_prime(400))\n",
    "print(is_prime(9381))\n",
    "print(is_prime(11587))"
   ]
  },
  {
   "cell_type": "code",
   "execution_count": 21,
   "metadata": {},
   "outputs": [
    {
     "name": "stdout",
     "output_type": "stream",
     "text": [
      "noollaB\n"
     ]
    }
   ],
   "source": [
    "# q4\n",
    "def reverse_string(str):\n",
    "    return str[::-1]\n",
    "\n",
    "print (reverse_string('Balloon'))\n"
   ]
  },
  {
   "cell_type": "markdown",
   "metadata": {},
   "source": [
    "## Part 2"
   ]
  },
  {
   "cell_type": "code",
   "execution_count": 26,
   "metadata": {},
   "outputs": [
    {
     "name": "stdout",
     "output_type": "stream",
     "text": [
      "127\n",
      "0\n"
     ]
    }
   ],
   "source": [
    "#5\n",
    "def sum_numbers(nums):\n",
    "    total = 0\n",
    "    for num in nums:\n",
    "        total+=num\n",
    "    return total\n",
    "\n",
    "print(sum_numbers([1,5,78,43]))\n",
    "print(sum_numbers([]))"
   ]
  },
  {
   "cell_type": "code",
   "execution_count": 32,
   "metadata": {},
   "outputs": [
    {
     "name": "stdout",
     "output_type": "stream",
     "text": [
      "Apple:1.2\n",
      "Orange:1.6\n",
      "Pineapple:3\n"
     ]
    }
   ],
   "source": [
    "#6\n",
    "def print_dictionary(dict):\n",
    "    for key, item in dict.items():\n",
    "        print (f\"{key}:{item}\")\n",
    "\n",
    "dict = {\"Apple\" : 1.2, \"Orange\" : 1.6, \"Pineapple\" : 3}\n",
    "print_dictionary(dict)"
   ]
  },
  {
   "cell_type": "code",
   "execution_count": 36,
   "metadata": {},
   "outputs": [
    {
     "name": "stdout",
     "output_type": "stream",
     "text": [
      "{'upper_case_count': 6, 'lower_case_count': 18}\n"
     ]
    }
   ],
   "source": [
    "#7\n",
    "def count_cases(str):\n",
    "    upper_case_count, lower_case_count = 0, 0\n",
    "    for i in str:\n",
    "        if i.isupper():\n",
    "            upper_case_count+=1\n",
    "        elif i.islower():\n",
    "            lower_case_count+=1\n",
    "    return {\"upper_case_count\": upper_case_count, \"lower_case_count\": lower_case_count}\n",
    "\n",
    "print(count_cases(\"Maybe tomorrow will be SUNNY!\"))"
   ]
  },
  {
   "cell_type": "code",
   "execution_count": 38,
   "metadata": {},
   "outputs": [
    {
     "name": "stdout",
     "output_type": "stream",
     "text": [
      "True\n",
      "False\n"
     ]
    }
   ],
   "source": [
    "#8\n",
    "def is_palindrome(word):\n",
    "    return word == word[::-1]\n",
    "\n",
    "print (is_palindrome('radar'))\n",
    "print (is_palindrome('apple'))"
   ]
  },
  {
   "cell_type": "markdown",
   "metadata": {},
   "source": [
    "## Part 3"
   ]
  },
  {
   "cell_type": "code",
   "execution_count": 41,
   "metadata": {},
   "outputs": [
    {
     "name": "stdout",
     "output_type": "stream",
     "text": [
      "[1, 2, 4, 5]\n"
     ]
    }
   ],
   "source": [
    "#9\n",
    "def remove_duplicates(nums):\n",
    "    return list(set(nums))\n",
    "\n",
    "print (remove_duplicates([1, 2, 5, 5, 2, 4]))"
   ]
  },
  {
   "cell_type": "code",
   "execution_count": 47,
   "metadata": {},
   "outputs": [
    {
     "name": "stdout",
     "output_type": "stream",
     "text": [
      "1st\n",
      "12th\n",
      "2nd\n"
     ]
    }
   ],
   "source": [
    "#10\n",
    "def number_to_ordinal(num):\n",
    "    if num >=10 and num <= 20:\n",
    "        suffix = \"th\"\n",
    "    else:\n",
    "        suffix = {1: \"st\", 2: \"nd\", 3: \"rd\"}.get(num%10, 'th')\n",
    "    return str(num)+suffix \n",
    "\n",
    "print(number_to_ordinal(1))\n",
    "print(number_to_ordinal(12))\n",
    "print(number_to_ordinal(2))"
   ]
  },
  {
   "cell_type": "code",
   "execution_count": 48,
   "metadata": {},
   "outputs": [
    {
     "name": "stdout",
     "output_type": "stream",
     "text": [
      "{'apple': 5, 'banana': 6, 'kiwi': 4}\n"
     ]
    }
   ],
   "source": [
    "#11\n",
    "def generate_length(strs):\n",
    "    dict = {}\n",
    "    for str in strs:\n",
    "        dict[str] = len(str)\n",
    "    return dict\n",
    "\n",
    "print (generate_length([\"apple\", \"banana\", \"kiwi\"]))\n",
    "\n",
    "# alternatively\n",
    "def generate_length(strs):\n",
    "    return {s: len(s) for s in strs}"
   ]
  },
  {
   "cell_type": "markdown",
   "metadata": {},
   "source": [
    "## Lambda Functions"
   ]
  },
  {
   "cell_type": "code",
   "execution_count": 51,
   "metadata": {},
   "outputs": [
    {
     "name": "stdout",
     "output_type": "stream",
     "text": [
      "[(2, 1), (1, 2), (2, 3), (4, 4), (2, 5)]\n"
     ]
    }
   ],
   "source": [
    "#12\n",
    "tuples =  [(2, 5), (1, 2), (4, 4), (2, 3), (2, 1)]\n",
    "sorted_tuples = sorted(tuples, key=lambda x:x[1])\n",
    "print(sorted_tuples)"
   ]
  },
  {
   "cell_type": "code",
   "execution_count": 57,
   "metadata": {},
   "outputs": [
    {
     "name": "stdout",
     "output_type": "stream",
     "text": [
      "[2, 4, 6, 8, 10]\n"
     ]
    }
   ],
   "source": [
    "#13\n",
    "numbers = list(range(1,12))\n",
    "even_numbers = list(filter(lambda x: x % 2 ==0, numbers))\n",
    "print(even_numbers)"
   ]
  }
 ],
 "metadata": {
  "kernelspec": {
   "display_name": "Python 3",
   "language": "python",
   "name": "python3"
  },
  "language_info": {
   "codemirror_mode": {
    "name": "ipython",
    "version": 3
   },
   "file_extension": ".py",
   "mimetype": "text/x-python",
   "name": "python",
   "nbconvert_exporter": "python",
   "pygments_lexer": "ipython3",
   "version": "3.12.1"
  }
 },
 "nbformat": 4,
 "nbformat_minor": 2
}
