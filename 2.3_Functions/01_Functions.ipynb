{
 "cells": [
  {
   "cell_type": "markdown",
   "metadata": {},
   "source": [
    "# Functions\n",
    "\n",
    "A function is a block of reusable code that ideally performs a single action. Functions provide better modularity for your application, and code reusing.\n",
    "\n",
    "Functions allow you to break down large programs into smaller, manageable and organlsied blocks. They simplify complex tasks and improve readability."
   ]
  },
  {
   "cell_type": "code",
   "execution_count": null,
   "metadata": {},
   "outputs": [],
   "source": [
    "# basic syntax of a function\n",
    "def function_name(parameters):\n",
    "    \"\"\"docstring\"\"\"\n",
    "    # body of function\n",
    "    value = 1\n",
    "    return value"
   ]
  },
  {
   "cell_type": "markdown",
   "metadata": {},
   "source": [
    "- `def` marks the start of the function\n",
    "- `function_name` is the given name, and it should indicate the purpose of the function\n",
    "- `parameters` (or `arguments`) the values that we pass to a function. Not every function has to have them\n",
    "- `docstring` is optional documentation\n",
    "- `return` although a function does not have to have a `return` at the end, it's main aim is to return a value."
   ]
  },
  {
   "cell_type": "markdown",
   "metadata": {},
   "source": [
    "## Types of Functions\n",
    "\n",
    "- **Built-in Functions** - These are provided by Python such as `print()`, `len()`, `range()`, etc...\n",
    "- **User-Defined Functions** - These are defined by the user to perform a specific task."
   ]
  },
  {
   "cell_type": "markdown",
   "metadata": {},
   "source": [
    "## Basic Function Definition\n",
    "\n",
    "The following function is the most basic one we can have, it does not have any parameters and no return values."
   ]
  },
  {
   "cell_type": "code",
   "execution_count": 1,
   "metadata": {},
   "outputs": [
    {
     "name": "stdout",
     "output_type": "stream",
     "text": [
      "Hello, welcome to my program!\n"
     ]
    }
   ],
   "source": [
    "def greet():\n",
    "    \"\"\"Display a greeting\"\"\"\n",
    "    print(\"Hello, welcome to my program!\")\n",
    "\n",
    "greet()"
   ]
  },
  {
   "cell_type": "markdown",
   "metadata": {},
   "source": [
    "## Function with Parameters\n",
    "\n",
    "Now, let's add parameters to the function. We will pass a name, and it will be added to the message."
   ]
  },
  {
   "cell_type": "code",
   "execution_count": 2,
   "metadata": {},
   "outputs": [
    {
     "name": "stdout",
     "output_type": "stream",
     "text": [
      "Hello Alex, welcome to my program!\n"
     ]
    }
   ],
   "source": [
    "def greet(name):\n",
    "    \"\"\"Display a personalised greeting\"\"\"\n",
    "    print(f\"Hello {name}, welcome to my program!\")\n",
    "\n",
    "greet('Alex')"
   ]
  },
  {
   "cell_type": "markdown",
   "metadata": {},
   "source": [
    "## Function with Return Value\n",
    "\n",
    "A function can return one or more values. The following funciton accepts two numbers and returns their total."
   ]
  },
  {
   "cell_type": "code",
   "execution_count": 4,
   "metadata": {},
   "outputs": [
    {
     "name": "stdout",
     "output_type": "stream",
     "text": [
      "57\n"
     ]
    }
   ],
   "source": [
    "def add_numbers(num1, num2):\n",
    "    \"\"\"Return the total of two numbers\"\"\"\n",
    "    return num1+num2\n",
    "\n",
    "result = add_numbers(12, 45)\n",
    "print(result)"
   ]
  },
  {
   "cell_type": "markdown",
   "metadata": {},
   "source": [
    "## Function with Default Parameters\n",
    "\n",
    "In certain cases we can set a default value to the parameter, so if that this parameter is not passed we would have a fallback value for it."
   ]
  },
  {
   "cell_type": "code",
   "execution_count": 5,
   "metadata": {},
   "outputs": [],
   "source": [
    "def greet(name, msg=\"Good day to you!\"):\n",
    "    \"\"\"Display a personalised greeting\"\"\"\n",
    "    print(f\"Hello {name}. {msg}\")"
   ]
  },
  {
   "cell_type": "code",
   "execution_count": 6,
   "metadata": {},
   "outputs": [
    {
     "name": "stdout",
     "output_type": "stream",
     "text": [
      "Hello Alex. Good day to you!\n"
     ]
    }
   ],
   "source": [
    "greet(\"Alex\")"
   ]
  },
  {
   "cell_type": "code",
   "execution_count": 7,
   "metadata": {},
   "outputs": [
    {
     "name": "stdout",
     "output_type": "stream",
     "text": [
      "Hello Alex. Let's Go!\n"
     ]
    }
   ],
   "source": [
    "greet(\"Alex\", \"Let's Go!\")"
   ]
  },
  {
   "cell_type": "markdown",
   "metadata": {},
   "source": [
    "## Lambda Function\n",
    "\n",
    "A lambda function is defined using `lambda` instead of `def`. It is useful for small simple functions that need to be passed as arguments.\n",
    "\n",
    "In the following example we create a `lambda` function named `multiply` that accepts two variables `x` and `y` and returns their product."
   ]
  },
  {
   "cell_type": "code",
   "execution_count": 10,
   "metadata": {},
   "outputs": [
    {
     "name": "stdout",
     "output_type": "stream",
     "text": [
      "24\n"
     ]
    }
   ],
   "source": [
    "multiply = lambda x,y:  x*y\n",
    "print(multiply(4,6))"
   ]
  }
 ],
 "metadata": {
  "kernelspec": {
   "display_name": "Python 3",
   "language": "python",
   "name": "python3"
  },
  "language_info": {
   "codemirror_mode": {
    "name": "ipython",
    "version": 3
   },
   "file_extension": ".py",
   "mimetype": "text/x-python",
   "name": "python",
   "nbconvert_exporter": "python",
   "pygments_lexer": "ipython3",
   "version": "3.12.1"
  }
 },
 "nbformat": 4,
 "nbformat_minor": 2
}
