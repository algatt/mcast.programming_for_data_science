{
 "cells": [
  {
   "cell_type": "markdown",
   "metadata": {},
   "source": [
    "# Modules\n",
    "\n",
    "Modules facilitate code reusability and organisation. A module is a file containing Python code. The file name is the module name ending with `.py`. \n",
    "\n",
    "The purpose of modules are: \n",
    "- **code reusability** which allows you to organise and group rlated code into modules.\n",
    "- **namespace separation** which aims to avoid conflicts between identifiers. For instance there might be two functions with the same name, having modules will allow us to refer to the function in the particular module (e.g. `module1.calc_total()` and `module2.calc_total()`). "
   ]
  },
  {
   "cell_type": "markdown",
   "metadata": {},
   "source": [
    "## Using Modules\n",
    "\n",
    "We can use modules in Python by using the keyword `import` and then the module name.\n",
    "\n",
    "For instance to import the in-built `random` module."
   ]
  },
  {
   "cell_type": "code",
   "execution_count": 1,
   "metadata": {},
   "outputs": [],
   "source": [
    "import random"
   ]
  },
  {
   "cell_type": "markdown",
   "metadata": {},
   "source": [
    "### Accessing Module Members\n",
    "\n",
    "To access its functions, classes, variables, etc... we use `.` notation."
   ]
  },
  {
   "cell_type": "code",
   "execution_count": 2,
   "metadata": {},
   "outputs": [
    {
     "data": {
      "text/plain": [
       "10"
      ]
     },
     "execution_count": 2,
     "metadata": {},
     "output_type": "execute_result"
    }
   ],
   "source": [
    "random.randint(1, 10)"
   ]
  },
  {
   "cell_type": "markdown",
   "metadata": {},
   "source": [
    "### Importing Specific Names\n",
    "\n",
    "Instead of importing the entire module, we can also import various members found inside the module."
   ]
  },
  {
   "cell_type": "code",
   "execution_count": null,
   "metadata": {},
   "outputs": [],
   "source": [
    "from random import randint, randrange"
   ]
  },
  {
   "cell_type": "markdown",
   "metadata": {},
   "source": [
    "### Module Alias\n",
    "\n",
    "We can also change the name of the imports (either of the module itself) or the imported member."
   ]
  },
  {
   "cell_type": "code",
   "execution_count": 5,
   "metadata": {},
   "outputs": [
    {
     "name": "stdout",
     "output_type": "stream",
     "text": [
      "3\n",
      "9\n"
     ]
    }
   ],
   "source": [
    "import random as rnd\n",
    "print(rnd.randint(1,10))\n",
    "\n",
    "# or\n",
    "\n",
    "from random import randint as rint\n",
    "print(rint(1,10))\n",
    "\n"
   ]
  },
  {
   "cell_type": "markdown",
   "metadata": {},
   "source": [
    "## Standard Libraries\n",
    "\n",
    "Python comes with standard libraries (that do not have to be installed separetly). For a full list [Python Standard Libraries](https://docs.python.org/3/library/index.html). \n",
    "\n",
    "The following are some examples using various inbuilt libraries."
   ]
  },
  {
   "cell_type": "markdown",
   "metadata": {},
   "source": [
    "### os and shutil\n",
    "\n",
    "Allow file and directory operations."
   ]
  },
  {
   "cell_type": "code",
   "execution_count": 11,
   "metadata": {},
   "outputs": [],
   "source": [
    "import os\n",
    "import shutil\n",
    "\n",
    "# create a directory\n",
    "os.mkdir(\"example_dir\")\n",
    "\n",
    "# rename the directory\n",
    "os.rename(\"example_dir\", \"example_folder\")\n",
    "\n",
    "# create an empty file\n",
    "open('source.txt', 'w')\n",
    "\n",
    "# copy a file\n",
    "shutil.copy(\"source.txt\", \"example_folder/copied_source.txt\")\n",
    "\n",
    "# remove the copied file\n",
    "os.remove(\"example_folder/copied_source.txt\")\n",
    "\n",
    "# remove the directory\n",
    "os.rmdir(\"example_folder\")\n",
    "\n",
    "# remove the file\n",
    "os.remove(\"source.txt\")\n"
   ]
  },
  {
   "cell_type": "markdown",
   "metadata": {},
   "source": [
    "### urllib\n",
    "\n",
    "`urllib` can be used for fetching data from the web."
   ]
  },
  {
   "cell_type": "code",
   "execution_count": 14,
   "metadata": {},
   "outputs": [
    {
     "name": "stdout",
     "output_type": "stream",
     "text": [
      "b'<!doctype html><html itemscope=\"\" itemtype=\"http://schema.org/WebPage\" lang=\"mt\"><head><meta content=\"text/html; charset=UTF-8\" http-equiv=\"Content-Type\"><meta content=\"/images/branding/googleg/1x/googleg_standard_color_128dp.png\" itemprop=\"image\"><title>Google</title><script nonce=\"IgS5lrHkwnyn2WKQCR7ujg\">(function(){var _g={kEI:\\'8sXMZcbgBLLKp84PwKSnwA0\\',kEXPI:\\'0,18168,781621,565679,206,4804,1132070,1962,868575,327209,648,348,379749,44798,23792,12319,17580,4998,17075,6885,28848,2711,2872,2891,562,7786,4012'\n"
     ]
    }
   ],
   "source": [
    "import urllib.request\n",
    "\n",
    "url = \"https://www.google.com\"\n",
    "response = urllib.request.urlopen(url)\n",
    "webContent = response.read()\n",
    "\n",
    "print(webContent[:512])"
   ]
  },
  {
   "cell_type": "markdown",
   "metadata": {},
   "source": [
    "### json\n",
    "\n",
    "`json` module allows us to encode and decode JSON data easily."
   ]
  },
  {
   "cell_type": "code",
   "execution_count": 19,
   "metadata": {},
   "outputs": [
    {
     "name": "stdout",
     "output_type": "stream",
     "text": [
      "{\"name\": \"Alex\", \"age\": 40, \"city\": \"Bormla\"}\n",
      "<class 'str'>\n",
      "{'name': 'Alex', 'age': 40, 'city': 'Bormla'}\n",
      "<class 'dict'>\n"
     ]
    }
   ],
   "source": [
    "import json\n",
    "\n",
    "person = {\"name\": \"Alex\", \"age\": 40, \"city\": \"Bormla\"}\n",
    "\n",
    "# convert dictionary to JSON string\n",
    "person_json = json.dumps(person)\n",
    "print(person_json)\n",
    "print(type(person_json))\n",
    "\n",
    "# if you have a JSON string you can convert it back to a dictionary\n",
    "person_dict = json.loads(person_json)\n",
    "print(person_dict)\n",
    "print(type(person_dict))"
   ]
  },
  {
   "cell_type": "markdown",
   "metadata": {},
   "source": [
    "### datetime\n",
    "\n",
    "`datetime` provides classes for manipulating date and times."
   ]
  },
  {
   "cell_type": "code",
   "execution_count": 20,
   "metadata": {},
   "outputs": [
    {
     "name": "stdout",
     "output_type": "stream",
     "text": [
      "Now:  2024-02-14 14:58:32.864407\n",
      "Future Date:  2024-02-19 14:58:32.864407\n",
      "My Birthday:  1981-06-03 00:00:00\n"
     ]
    }
   ],
   "source": [
    "from datetime import datetime, timedelta\n",
    "\n",
    "# get current date and time\n",
    "now = datetime.now()\n",
    "print (\"Now: \", now)\n",
    "\n",
    "# add 5 days to the current date\n",
    "future_date = now + timedelta(days=5)\n",
    "print (\"Future Date: \", future_date)\n",
    "\n",
    "# create a specific datetime\n",
    "my_birthday = datetime(1981,6,3)\n",
    "print(\"My Birthday: \", my_birthday)"
   ]
  },
  {
   "cell_type": "markdown",
   "metadata": {},
   "source": [
    "### random\n",
    "\n",
    "`random` is used to perform random number generetaion and selection."
   ]
  },
  {
   "cell_type": "code",
   "execution_count": 21,
   "metadata": {},
   "outputs": [
    {
     "name": "stdout",
     "output_type": "stream",
     "text": [
      "0.6987365357865662\n",
      "64\n",
      "Cherry\n"
     ]
    }
   ],
   "source": [
    "import random\n",
    "\n",
    "# Generate a random float between 0 and 1\n",
    "print(random.random())\n",
    "\n",
    "# Generate a random integer within a range\n",
    "print(random.randint(1, 100))\n",
    "\n",
    "# Choose a random element from a list\n",
    "fruits = [\"Apple\", \"Banana\", \"Cherry\"]\n",
    "print(random.choice(fruits))\n"
   ]
  },
  {
   "cell_type": "markdown",
   "metadata": {},
   "source": [
    "## Create own Module\n",
    "\n",
    "In this example we will create a module that has functions to calculate area and perimiter of a circle and a rectange. We will call this module `geometry.py` (see included file).\n",
    "\n",
    "Now, we can import this module and be able to use it from another file as follows."
   ]
  },
  {
   "cell_type": "code",
   "execution_count": 23,
   "metadata": {},
   "outputs": [
    {
     "name": "stdout",
     "output_type": "stream",
     "text": [
      "Circle area:  314.1592653589793\n",
      "Rectangle Perimiter 20\n"
     ]
    }
   ],
   "source": [
    "import geometry\n",
    "\n",
    "circle_radius = 10\n",
    "rectangle_length = 4\n",
    "rectangle_width = 6\n",
    "\n",
    "print (\"Circle area: \", geometry.circle_area(circle_radius))\n",
    "print (\"Rectangle Perimiter\", geometry.rectangle_perimeter(rectangle_length, rectangle_width))"
   ]
  },
  {
   "cell_type": "markdown",
   "metadata": {},
   "source": [
    "When you have a script file, in order to check if its being run directly (not imported as a module) we can use the `main` function as an entry point. \n",
    "\n",
    "So, the above code would have been placed in a file say `myapp.py` and re-written as follows."
   ]
  },
  {
   "cell_type": "code",
   "execution_count": 24,
   "metadata": {},
   "outputs": [
    {
     "name": "stdout",
     "output_type": "stream",
     "text": [
      "Circle area:  314.1592653589793\n",
      "Rectangle Perimiter 20\n"
     ]
    }
   ],
   "source": [
    "import geometry\n",
    "\n",
    "def main():\n",
    "    circle_radius = 10\n",
    "    rectangle_length = 4\n",
    "    rectangle_width = 6\n",
    "\n",
    "    print (\"Circle area: \", geometry.circle_area(circle_radius))\n",
    "    print (\"Rectangle Perimiter\", geometry.rectangle_perimeter(rectangle_length, rectangle_width))\n",
    "\n",
    "if __name__ == \"__main__\":\n",
    "    main()"
   ]
  }
 ],
 "metadata": {
  "kernelspec": {
   "display_name": "Python 3",
   "language": "python",
   "name": "python3"
  },
  "language_info": {
   "codemirror_mode": {
    "name": "ipython",
    "version": 3
   },
   "file_extension": ".py",
   "mimetype": "text/x-python",
   "name": "python",
   "nbconvert_exporter": "python",
   "pygments_lexer": "ipython3",
   "version": "3.12.1"
  }
 },
 "nbformat": 4,
 "nbformat_minor": 2
}
