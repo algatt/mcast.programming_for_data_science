{
 "cells": [
  {
   "cell_type": "markdown",
   "metadata": {},
   "source": [
    "# Dictionaries\n",
    "\n",
    "A dictionary is a versatile data structure which is used to store a collection of key-value pairs. It provides a fast and efficient way to store and retrieve data based on a unique key.\n",
    "\n",
    "Main characteristics of a dictionary include:\n",
    "\n",
    "- **Key-Value Pairs**: Each element in a dictionary is a key-value pair. The key acts as an id and it is used to retrieve the corresponding value.\n",
    "\n",
    "- **Unordered**: Items are stored in the way they are inserted. However, this should not be an issue since the main aim of dictionaries is to get the value from its key.\n",
    "\n",
    "- **Mutable**: Dictionaries can change, you can add, modify, or remove key-value pairs after the dictionary has been created.\n",
    "\n",
    "- **Unique Keys**: Each key in a dictionary must be unique. If you add a key-value pair where the key already exists, it will overwrite the existing value associated with that key.\n",
    "\n",
    "- **Dynamic Size**: Similar to lists, dictionaries can grow or shrink as needed.\n",
    "\n",
    "- **Mixed Data Types**: Both keys and values in a dictionary can be of any data type, including numbers, strings, and even other lists or dictionaries."
   ]
  },
  {
   "cell_type": "markdown",
   "metadata": {},
   "source": [
    "## Creating a Dictionary\n",
    "\n",
    "A dictionary is created by passing an object made up of key-value attributes."
   ]
  },
  {
   "cell_type": "code",
   "execution_count": 2,
   "metadata": {},
   "outputs": [
    {
     "name": "stdout",
     "output_type": "stream",
     "text": [
      "{}\n",
      "{'name': 'Alex', 'age': 24}\n"
     ]
    }
   ],
   "source": [
    "# create an empty dictionary\n",
    "my_dict = {}\n",
    "print (my_dict)\n",
    "\n",
    "# populate dictionary\n",
    "my_dict = {\"name\": \"Alex\", \"age\": 24}\n",
    "print (my_dict)"
   ]
  },
  {
   "cell_type": "markdown",
   "metadata": {},
   "source": [
    "## Adding an Element\n",
    "\n",
    "We can add a new value by simply specifying a key and its value."
   ]
  },
  {
   "cell_type": "code",
   "execution_count": 3,
   "metadata": {},
   "outputs": [
    {
     "name": "stdout",
     "output_type": "stream",
     "text": [
      "{'name': 'Alex', 'age': 24}\n",
      "{'name': 'Alex', 'age': 24, 'locality': 'Bormla'}\n"
     ]
    }
   ],
   "source": [
    "my_dict = {\"name\": \"Alex\", \"age\": 24}\n",
    "print (my_dict)\n",
    "\n",
    "my_dict[\"locality\"] = \"Bormla\"\n",
    "print(my_dict)"
   ]
  },
  {
   "cell_type": "markdown",
   "metadata": {},
   "source": [
    "Nested dictionaries or lists can also be added to a list. "
   ]
  },
  {
   "cell_type": "code",
   "execution_count": 7,
   "metadata": {},
   "outputs": [
    {
     "name": "stdout",
     "output_type": "stream",
     "text": [
      "{'name': 'Alex', 'age': 24, 'hobbies': ['Swimming', 'Pole-Vaulting', 'Pottery'], 'grades': {'english': 90, 'maths': 40}}\n"
     ]
    }
   ],
   "source": [
    "my_dict = {\"name\": \"Alex\", \"age\": 24}\n",
    "my_dict[\"hobbies\"] = [\"Swimming\", \"Pole-Vaulting\", \"Pottery\"]\n",
    "my_dict[\"grades\"] = {\"english\": 90, \"maths\": 40}\n",
    "print(my_dict)"
   ]
  },
  {
   "cell_type": "markdown",
   "metadata": {},
   "source": [
    "## Editing an Element\n",
    "\n",
    "To edit a value found in a dictionary we can simply replace its value by specifying its key."
   ]
  },
  {
   "cell_type": "code",
   "execution_count": 6,
   "metadata": {},
   "outputs": [
    {
     "name": "stdout",
     "output_type": "stream",
     "text": [
      "{'name': 'Alex', 'age': 25, 'locality': 'Bormla'}\n"
     ]
    }
   ],
   "source": [
    "my_dict = {\"name\": \"Alex\", \"age\": 24, \"locality\" : \"Bormla\"}\n",
    "my_dict[\"age\"] = 25\n",
    "print(my_dict)"
   ]
  },
  {
   "cell_type": "markdown",
   "metadata": {},
   "source": [
    "## Accessing Dictionary Elements\n",
    "\n",
    "To access dictionary values we must specify the key."
   ]
  },
  {
   "cell_type": "code",
   "execution_count": 13,
   "metadata": {},
   "outputs": [
    {
     "name": "stdout",
     "output_type": "stream",
     "text": [
      "Alex\n",
      "['Swimming', 'Pole-Vaulting', 'Pottery']\n",
      "Pole-Vaulting\n",
      "{'english': 90, 'maths': 40}\n",
      "40\n"
     ]
    }
   ],
   "source": [
    "my_dict = {\"name\": \"Alex\", \"age\": 24,\n",
    "           \"hobbies\" : [\"Swimming\", \"Pole-Vaulting\", \"Pottery\"],\n",
    "            \"grades\" : {\"english\": 90, \"maths\": 40}\n",
    "        }\n",
    "\n",
    "# to access a simple value\n",
    "print (my_dict[\"name\"])\n",
    "\n",
    "# accessing a nested list\n",
    "print (my_dict[\"hobbies\"])\n",
    "\n",
    "# accessing an item from a nested list\n",
    "print (my_dict[\"hobbies\"][1])\n",
    "\n",
    "# accessing a nested dictionary\n",
    "print (my_dict[\"grades\"])\n",
    "\n",
    "# accessing an item from a nested dictionary\n",
    "print (my_dict[\"grades\"][\"maths\"])"
   ]
  },
  {
   "cell_type": "markdown",
   "metadata": {},
   "source": [
    "## Deleting Elements\n",
    "\n",
    "To delete an element from a dictionary we use the function `del()` and specify the key."
   ]
  },
  {
   "cell_type": "code",
   "execution_count": 15,
   "metadata": {},
   "outputs": [
    {
     "name": "stdout",
     "output_type": "stream",
     "text": [
      "{'name': 'Alex', 'age': 24, 'hobbies': ['Swimming', 'Pole-Vaulting', 'Pottery']}\n"
     ]
    }
   ],
   "source": [
    "my_dict = {\"name\": \"Alex\", \"age\": 24,\n",
    "           \"hobbies\" : [\"Swimming\", \"Pole-Vaulting\", \"Pottery\"],\n",
    "            \"grades\" : {\"english\": 90, \"maths\": 40}\n",
    "        }\n",
    "\n",
    "del(my_dict[\"grades\"])\n",
    "print(my_dict)"
   ]
  },
  {
   "cell_type": "markdown",
   "metadata": {},
   "source": [
    "## Accessing various Components\n",
    "\n",
    "We can use dictionary methods to perform the following tasks:\n",
    "- `dict.items()` - returns a list containing a tuple for each element\n",
    "- `dict.keys()` - returns all the keys of the dictionary\n",
    "- `dict.values()` - returns all the values of the dictionary"
   ]
  },
  {
   "cell_type": "code",
   "execution_count": 23,
   "metadata": {},
   "outputs": [
    {
     "name": "stdout",
     "output_type": "stream",
     "text": [
      "('name', 'Alex')\n",
      "('age', 24)\n",
      "('hobbies', ['Swimming', 'Pole-Vaulting', 'Pottery'])\n",
      "('grades', {'english': 90, 'maths': 40})\n"
     ]
    }
   ],
   "source": [
    "my_dict = {\"name\": \"Alex\", \"age\": 24,\n",
    "           \"hobbies\" : [\"Swimming\", \"Pole-Vaulting\", \"Pottery\"],\n",
    "            \"grades\" : {\"english\": 90, \"maths\": 40}\n",
    "        }\n",
    "\n",
    "# checking each key-value pair in the dictionary\n",
    "for entry in my_dict.items():\n",
    "    print(entry)"
   ]
  },
  {
   "cell_type": "code",
   "execution_count": 24,
   "metadata": {},
   "outputs": [
    {
     "name": "stdout",
     "output_type": "stream",
     "text": [
      "name\n",
      "age\n",
      "hobbies\n",
      "grades\n"
     ]
    }
   ],
   "source": [
    "# checking each key in the dictionary\n",
    "for key in my_dict.keys():\n",
    "    print(key)"
   ]
  },
  {
   "cell_type": "code",
   "execution_count": 25,
   "metadata": {},
   "outputs": [
    {
     "name": "stdout",
     "output_type": "stream",
     "text": [
      "Alex\n",
      "24\n",
      "['Swimming', 'Pole-Vaulting', 'Pottery']\n",
      "{'english': 90, 'maths': 40}\n"
     ]
    }
   ],
   "source": [
    "# checking each value in the dictionary\n",
    "for key in my_dict.values():\n",
    "    print(key)"
   ]
  },
  {
   "cell_type": "markdown",
   "metadata": {},
   "source": [
    "## Checking for Key Existence\n",
    "\n",
    "We can also check whether a key exists or not by using `not in`."
   ]
  },
  {
   "cell_type": "code",
   "execution_count": 34,
   "metadata": {},
   "outputs": [
    {
     "name": "stdout",
     "output_type": "stream",
     "text": [
      "key is not present\n"
     ]
    }
   ],
   "source": [
    "my_dict = {\"name\": \"Alex\", \"age\": 24,\n",
    "           \"hobbies\" : [\"Swimming\", \"Pole-Vaulting\", \"Pottery\"],\n",
    "            \"grades\" : {\"english\": 90, \"maths\": 40}\n",
    "        }\n",
    "\n",
    "if \"locality\" not in my_dict:\n",
    "    print (\"key is not present\")"
   ]
  },
  {
   "cell_type": "markdown",
   "metadata": {},
   "source": [
    "## Size of a Dictionary\n",
    "\n",
    "We can check the size of a dictionary using `len`. This will return the number of keys in the dictionary."
   ]
  },
  {
   "cell_type": "code",
   "execution_count": 35,
   "metadata": {},
   "outputs": [
    {
     "name": "stdout",
     "output_type": "stream",
     "text": [
      "4\n"
     ]
    }
   ],
   "source": [
    "my_dict = {\"name\": \"Alex\", \"age\": 24,\n",
    "           \"hobbies\" : [\"Swimming\", \"Pole-Vaulting\", \"Pottery\"],\n",
    "            \"grades\" : {\"english\": 90, \"maths\": 40}\n",
    "        }\n",
    "\n",
    "print (len(my_dict))"
   ]
  }
 ],
 "metadata": {
  "kernelspec": {
   "display_name": "Python 3",
   "language": "python",
   "name": "python3"
  },
  "language_info": {
   "codemirror_mode": {
    "name": "ipython",
    "version": 3
   },
   "file_extension": ".py",
   "mimetype": "text/x-python",
   "name": "python",
   "nbconvert_exporter": "python",
   "pygments_lexer": "ipython3",
   "version": "3.11.2"
  }
 },
 "nbformat": 4,
 "nbformat_minor": 2
}
