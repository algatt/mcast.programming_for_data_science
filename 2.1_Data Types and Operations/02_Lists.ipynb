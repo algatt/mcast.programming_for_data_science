{
 "cells": [
  {
   "cell_type": "markdown",
   "metadata": {},
   "source": [
    "## Lists\n",
    "\n",
    "A Python list is a data structure which can store a collection of items. These items can be of any type, including integers, floats, strings, other lists, and more complex objects. Lists in Python are ordered and mutable, meaning that the elements in a list can be accessed in the order they were added and they can be changed after creation.\n",
    "\n",
    "Characteristics of Python Lists\n",
    "\n",
    "- **Ordered**: The elements in a list have a defined order which you can be change.\n",
    "\n",
    "- **Mutable**: You can change, add, and remove items in a list after it has been created.\n",
    "\n",
    "- **Various Data Types**: Lists can contain items of different data types including mixing data types within the same list.\n",
    "\n",
    "- **Dynamic Size**: Python lists can grow or shrink in size as needed, accommodating new elements or removing existing ones.\n",
    "\n",
    "- **Indexing**: Items in a list can be accessed using their index (that starts from 0). Lists also support slicing, which allows you to create sub-lists."
   ]
  },
  {
   "cell_type": "markdown",
   "metadata": {},
   "source": [
    "### Creating a List\n",
    "\n",
    "A list can be created by simply passing it an array of values.\n"
   ]
  },
  {
   "cell_type": "code",
   "execution_count": 1,
   "metadata": {},
   "outputs": [
    {
     "name": "stdout",
     "output_type": "stream",
     "text": [
      "['Python', 'Java', 'SQL']\n"
     ]
    }
   ],
   "source": [
    "my_list = [\"Python\", \"Java\", \"SQL\"]\n",
    "print (my_list)"
   ]
  },
  {
   "cell_type": "markdown",
   "metadata": {},
   "source": [
    "We can also use numbers."
   ]
  },
  {
   "cell_type": "code",
   "execution_count": 2,
   "metadata": {},
   "outputs": [
    {
     "name": "stdout",
     "output_type": "stream",
     "text": [
      "[1, 4, 8]\n"
     ]
    }
   ],
   "source": [
    "my_list = [1, 4, 8]\n",
    "print(my_list)"
   ]
  },
  {
   "cell_type": "markdown",
   "metadata": {},
   "source": [
    "Plus, we can combine data types together as well."
   ]
  },
  {
   "cell_type": "code",
   "execution_count": 3,
   "metadata": {},
   "outputs": [
    {
     "name": "stdout",
     "output_type": "stream",
     "text": [
      "[1, 'Python', 'Java', 42]\n"
     ]
    }
   ],
   "source": [
    "my_list = [1, \"Python\", \"Java\", 42]\n",
    "print(my_list)"
   ]
  },
  {
   "cell_type": "markdown",
   "metadata": {},
   "source": [
    "Lists can also include other lists."
   ]
  },
  {
   "cell_type": "code",
   "execution_count": 4,
   "metadata": {},
   "outputs": [
    {
     "name": "stdout",
     "output_type": "stream",
     "text": [
      "[1, 2, ['Python', 'Java'], 3]\n"
     ]
    }
   ],
   "source": [
    "my_list = [1, 2, [\"Python\", \"Java\"], 3]\n",
    "print (my_list)"
   ]
  },
  {
   "cell_type": "markdown",
   "metadata": {},
   "source": [
    "### Referencing a List\n",
    "\n",
    "We can reference individual items using indexing (that starts from 0)."
   ]
  },
  {
   "cell_type": "code",
   "execution_count": 5,
   "metadata": {},
   "outputs": [
    {
     "name": "stdout",
     "output_type": "stream",
     "text": [
      "1\n",
      "Java\n",
      "42\n"
     ]
    }
   ],
   "source": [
    "my_list = [1, \"Python\", \"Java\", 42]\n",
    "\n",
    "# select first item\n",
    "print(my_list[0])\n",
    "\n",
    "# select third item\n",
    "print(my_list[2])\n",
    "\n",
    "# select first item from the end\n",
    "print(my_list[-1])"
   ]
  },
  {
   "cell_type": "markdown",
   "metadata": {},
   "source": [
    "If we have nested lists we can use multi-dimensional indexing to choose an item from the nested list."
   ]
  },
  {
   "cell_type": "code",
   "execution_count": 6,
   "metadata": {},
   "outputs": [
    {
     "name": "stdout",
     "output_type": "stream",
     "text": [
      "['Python', 'Java']\n",
      "Java\n"
     ]
    }
   ],
   "source": [
    "my_list = [1, 2, [\"Python\", \"Java\"], 3]\n",
    "\n",
    "# selecting the third item\n",
    "print (my_list[2])\n",
    "\n",
    "# selecting the last item from the third item\n",
    "print (my_list[2][-1])"
   ]
  },
  {
   "cell_type": "markdown",
   "metadata": {},
   "source": [
    "### Size of List\n",
    "\n",
    "In order to determine the size of a list we can use `len`."
   ]
  },
  {
   "cell_type": "code",
   "execution_count": 7,
   "metadata": {},
   "outputs": [
    {
     "name": "stdout",
     "output_type": "stream",
     "text": [
      "0\n",
      "4\n"
     ]
    }
   ],
   "source": [
    "# empty list\n",
    "my_list = []\n",
    "print(len(my_list))\n",
    "\n",
    "# list with 4 items\n",
    "my_list = [1, 2, [\"Python\", \"Java\"], 3]\n",
    "print(len(my_list))"
   ]
  },
  {
   "cell_type": "markdown",
   "metadata": {},
   "source": [
    "### Adding Elements to a List\n",
    "\n",
    "We can also add elements to a list using the `append()` method. Only one element can be added at a time. If you want to add multiple elements, you can use a loop."
   ]
  },
  {
   "cell_type": "code",
   "execution_count": 8,
   "metadata": {},
   "outputs": [
    {
     "name": "stdout",
     "output_type": "stream",
     "text": [
      "empty list\n",
      "[]\n",
      "After adding an item\n",
      "['Python']\n",
      "After adding 2 more items\n",
      "['Python', 'Java', 'SQL']\n",
      "After appending a list\n",
      "['Python', 'Java', 'SQL', [1, 5, 9]]\n"
     ]
    }
   ],
   "source": [
    "my_list = []\n",
    "print (\"empty list\")\n",
    "print (my_list)\n",
    "\n",
    "# adding an item\n",
    "my_list.append(\"Python\")\n",
    "print (\"After adding an item\")\n",
    "print(my_list)\n",
    "\n",
    "# adding two more items\n",
    "my_list.append(\"Java\")\n",
    "my_list.append(\"SQL\")\n",
    "print (\"After adding 2 more items\")\n",
    "print(my_list)\n",
    "\n",
    "# we can also add a list to a list\n",
    "my_list.append([1, 5, 9])\n",
    "print (\"After appending a list\")\n",
    "print(my_list)"
   ]
  },
  {
   "cell_type": "markdown",
   "metadata": {},
   "source": [
    "`append()` always adds to the end, we can use `insert()` to add an item in a specified position."
   ]
  },
  {
   "cell_type": "code",
   "execution_count": 9,
   "metadata": {},
   "outputs": [
    {
     "name": "stdout",
     "output_type": "stream",
     "text": [
      "['Python', 'R', 'SQL', 'Java']\n"
     ]
    }
   ],
   "source": [
    "# create list\n",
    "my_list = [\"Python\", \"SQL\", \"Java\"]\n",
    "\n",
    "# insert item after Python\n",
    "my_list.insert(1, \"R\")\n",
    "print(my_list)"
   ]
  },
  {
   "cell_type": "markdown",
   "metadata": {},
   "source": [
    "Additionaly, we can use `extend()` to insert multiple items."
   ]
  },
  {
   "cell_type": "code",
   "execution_count": 10,
   "metadata": {},
   "outputs": [
    {
     "name": "stdout",
     "output_type": "stream",
     "text": [
      "['Python', 'SQL', 'JAVA', 'R', 'C++']\n"
     ]
    }
   ],
   "source": [
    "# create list\n",
    "my_list = [\"Python\", \"SQL\"]\n",
    "\n",
    "# add multiple items\n",
    "my_list.extend([\"JAVA\", \"R\", \"C++\"])\n",
    "print(my_list)\n"
   ]
  },
  {
   "cell_type": "markdown",
   "metadata": {},
   "source": [
    "### Removing an Element from a List\n",
    "\n",
    "We can use `remove()` to remove an item from a list. However, only the first found item is removed. "
   ]
  },
  {
   "cell_type": "code",
   "execution_count": 11,
   "metadata": {},
   "outputs": [
    {
     "name": "stdout",
     "output_type": "stream",
     "text": [
      "['SQL', 'R', 'Python']\n"
     ]
    }
   ],
   "source": [
    "my_list = [\"Python\", \"SQL\", \"R\", \"Python\"]\n",
    "\n",
    "my_list.remove(\"Python\")\n",
    "print(my_list)"
   ]
  },
  {
   "cell_type": "markdown",
   "metadata": {},
   "source": [
    "`pop()` can be used to remove an item for a given index. It also returns the value."
   ]
  },
  {
   "cell_type": "code",
   "execution_count": 12,
   "metadata": {},
   "outputs": [
    {
     "name": "stdout",
     "output_type": "stream",
     "text": [
      "Original List\n",
      "Modified List\n",
      "['Python', 'SQL', 'R']\n",
      "Removed Item\n",
      "Python\n"
     ]
    }
   ],
   "source": [
    "print('Original List')\n",
    "my_list = [\"Python\", \"SQL\", \"R\", \"Python\"]\n",
    "\n",
    "# remove 4th item and store it in removed_item\n",
    "removed_item = my_list.pop(3)\n",
    "\n",
    "print('Modified List')\n",
    "print(my_list)\n",
    "\n",
    "print(\"Removed Item\")\n",
    "print(removed_item)"
   ]
  },
  {
   "cell_type": "markdown",
   "metadata": {},
   "source": [
    "### Slicing a List\n",
    "\n",
    "Slicing allows us to get parts of a list. We can use\n",
    "- [:index] Get items from beginnging up to specified index.\n",
    "- [:-index] Get items from beginning up to specified index from the end.\n",
    "- [index:] Get items from index up to the end.\n",
    "- [index1:index2] Get items from a specified index upto another index. \n",
    "\n",
    "Passed indexes are not included in the returned data."
   ]
  },
  {
   "cell_type": "code",
   "execution_count": 13,
   "metadata": {},
   "outputs": [
    {
     "name": "stdout",
     "output_type": "stream",
     "text": [
      "['Python', 'JAVA']\n",
      "['Python', 'JAVA', 'R']\n",
      "['R', 'SQL']\n",
      "['JAVA', 'R']\n"
     ]
    }
   ],
   "source": [
    "my_list = [\"Python\", \"JAVA\", \"R\", \"SQL\"]\n",
    "\n",
    "# get from first to second element\n",
    "print(my_list[:2])\n",
    "\n",
    "# get from first to element before the last\n",
    "print(my_list[:-1])\n",
    "\n",
    "# get from third element until the end\n",
    "print(my_list[2:])\n",
    "\n",
    "# get from the second to the third element\n",
    "print(my_list[1:3])"
   ]
  },
  {
   "cell_type": "markdown",
   "metadata": {},
   "source": [
    "### List Comprehension\n",
    "\n",
    "This is used for creating new lists from other iterables (strings, arrays, lists...)\n",
    "\n",
    "``` new_list = [expression(element) for element in list condition]```"
   ]
  },
  {
   "cell_type": "code",
   "execution_count": 14,
   "metadata": {},
   "outputs": [
    {
     "name": "stdout",
     "output_type": "stream",
     "text": [
      "[1, 2, 3, 4, 5, 6, 7, 8, 9, 10]\n"
     ]
    }
   ],
   "source": [
    "# generate a list from 1 to 10\n",
    "numbers = [x for x in range(1, 11)]\n",
    "print (numbers)"
   ]
  },
  {
   "cell_type": "code",
   "execution_count": 15,
   "metadata": {},
   "outputs": [
    {
     "name": "stdout",
     "output_type": "stream",
     "text": [
      "[1, 4, 9, 16, 25, 36, 49, 64, 81, 100]\n"
     ]
    }
   ],
   "source": [
    "# generate a list of squared values from 1 to 10\n",
    "numbers = [x*x for x in range(1, 11)]\n",
    "print (numbers)\n"
   ]
  },
  {
   "cell_type": "code",
   "execution_count": 16,
   "metadata": {},
   "outputs": [
    {
     "name": "stdout",
     "output_type": "stream",
     "text": [
      "[2, 4, 6, 8, 10]\n"
     ]
    }
   ],
   "source": [
    "# generate a list of even numbers\n",
    "even_numbers = [x for x in range(1, 11) if x % 2==0]\n",
    "print(even_numbers)"
   ]
  },
  {
   "cell_type": "markdown",
   "metadata": {},
   "source": [
    "### List Iteration\n",
    "\n",
    "We can go through every item in the list as well."
   ]
  },
  {
   "cell_type": "code",
   "execution_count": 17,
   "metadata": {},
   "outputs": [
    {
     "name": "stdout",
     "output_type": "stream",
     "text": [
      "Python\n",
      "Java\n",
      "R\n"
     ]
    }
   ],
   "source": [
    "my_list = [\"Python\", \"Java\", \"R\"]\n",
    "\n",
    "for item in my_list:\n",
    "    print(item)"
   ]
  },
  {
   "cell_type": "markdown",
   "metadata": {},
   "source": [
    "Also, if we need the index apart from the value itself we can use the function `enumerate()`."
   ]
  },
  {
   "cell_type": "code",
   "execution_count": 18,
   "metadata": {},
   "outputs": [
    {
     "name": "stdout",
     "output_type": "stream",
     "text": [
      "Python is found at index 0\n",
      "Java is found at index 1\n",
      "R is found at index 2\n"
     ]
    }
   ],
   "source": [
    "my_list = [\"Python\", \"Java\", \"R\"]\n",
    "\n",
    "for index, item in enumerate(my_list):\n",
    "    print(item + \" is found at index \" + str(index))"
   ]
  },
  {
   "cell_type": "markdown",
   "metadata": {},
   "source": [
    "## List Sorting\n",
    "\n",
    "Lists can be sorted using the `sort` method. It's important to note that the list order will change. If you want a backup of the list you can copy it using:\n",
    "\n",
    "`list_copy = list[:]`\n"
   ]
  },
  {
   "cell_type": "code",
   "execution_count": 20,
   "metadata": {},
   "outputs": [
    {
     "name": "stdout",
     "output_type": "stream",
     "text": [
      "['Java', 'Python', 'R']\n"
     ]
    }
   ],
   "source": [
    "my_list = [\"Python\", \"Java\", \"R\"]\n",
    "my_list.sort()\n",
    "print (my_list)"
   ]
  },
  {
   "cell_type": "markdown",
   "metadata": {},
   "source": [
    "However if you have mixed data types it can pose a problem."
   ]
  },
  {
   "cell_type": "code",
   "execution_count": 21,
   "metadata": {},
   "outputs": [
    {
     "ename": "TypeError",
     "evalue": "'<' not supported between instances of 'int' and 'str'",
     "output_type": "error",
     "traceback": [
      "\u001b[1;31m---------------------------------------------------------------------------\u001b[0m",
      "\u001b[1;31mTypeError\u001b[0m                                 Traceback (most recent call last)",
      "Cell \u001b[1;32mIn[21], line 2\u001b[0m\n\u001b[0;32m      1\u001b[0m my_list \u001b[38;5;241m=\u001b[39m [\u001b[38;5;124m\"\u001b[39m\u001b[38;5;124mPython\u001b[39m\u001b[38;5;124m\"\u001b[39m, \u001b[38;5;241m1\u001b[39m, \u001b[38;5;124m\"\u001b[39m\u001b[38;5;124mR\u001b[39m\u001b[38;5;124m\"\u001b[39m]\n\u001b[1;32m----> 2\u001b[0m \u001b[43mmy_list\u001b[49m\u001b[38;5;241;43m.\u001b[39;49m\u001b[43msort\u001b[49m\u001b[43m(\u001b[49m\u001b[43m)\u001b[49m\n\u001b[0;32m      3\u001b[0m \u001b[38;5;28mprint\u001b[39m (my_list)\n",
      "\u001b[1;31mTypeError\u001b[0m: '<' not supported between instances of 'int' and 'str'"
     ]
    }
   ],
   "source": [
    "my_list = [\"Python\", 1, \"R\"]\n",
    "my_list.sort()\n",
    "print (my_list)"
   ]
  },
  {
   "cell_type": "markdown",
   "metadata": {},
   "source": [
    "In this case we can convert everything to string by passing `str` function using `key` parameter."
   ]
  },
  {
   "cell_type": "code",
   "execution_count": 23,
   "metadata": {},
   "outputs": [
    {
     "name": "stdout",
     "output_type": "stream",
     "text": [
      "[1, 'Python', 'R']\n"
     ]
    }
   ],
   "source": [
    "my_list = [\"Python\", 1, \"R\"]\n",
    "my_list.sort(key=str)\n",
    "print (my_list)"
   ]
  }
 ],
 "metadata": {
  "kernelspec": {
   "display_name": "Python 3",
   "language": "python",
   "name": "python3"
  },
  "language_info": {
   "codemirror_mode": {
    "name": "ipython",
    "version": 3
   },
   "file_extension": ".py",
   "mimetype": "text/x-python",
   "name": "python",
   "nbconvert_exporter": "python",
   "pygments_lexer": "ipython3",
   "version": "3.11.2"
  }
 },
 "nbformat": 4,
 "nbformat_minor": 2
}
