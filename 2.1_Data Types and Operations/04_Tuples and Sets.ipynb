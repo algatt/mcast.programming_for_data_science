{
 "cells": [
  {
   "cell_type": "markdown",
   "metadata": {},
   "source": [
    "# Tuples\n",
    "\n",
    "A tuple is a data structure similar to a list, but it has a few differences.\n",
    "\n",
    "- **Immutable**: Once a tuple is created, you cannot modify it. You can't add, change, or remove elements from a tuple.\n",
    "\n",
    "- **Ordered**: Tuples are ordered collections, meaning the items have a defined order, and that order will not change.\n",
    "\n",
    "- **Indexed**: Tuples are indexed (just like lists), and you can access their elements using indices. \n",
    "\n",
    "- **Mixed Data Types**: Tuples can contain elements of different data types, including integer, float, string, list, dictionary, another tuple, etc.\n",
    "\n",
    "- **Fixed Size**: Since they are immutable, the number of elements in a tuple is defined at the time of its creation and cannot be altered."
   ]
  },
  {
   "cell_type": "markdown",
   "metadata": {},
   "source": [
    "## Creating a Tuple\n",
    "\n",
    "A tuple can be created by passing a list of values, they can be placed in brackets, or not."
   ]
  },
  {
   "cell_type": "code",
   "execution_count": 1,
   "metadata": {},
   "outputs": [
    {
     "name": "stdout",
     "output_type": "stream",
     "text": [
      "('Java', 23.45, ['alpha', 'beta'])\n"
     ]
    }
   ],
   "source": [
    "my_tuple = (\"Java\", 23.45, [\"alpha\", \"beta\"])\n",
    "print (my_tuple)"
   ]
  },
  {
   "cell_type": "code",
   "execution_count": 2,
   "metadata": {},
   "outputs": [
    {
     "name": "stdout",
     "output_type": "stream",
     "text": [
      "('Java', 23.45, ['alpha', 'beta'])\n"
     ]
    }
   ],
   "source": [
    "my_tuple = \"Java\", 23.45, [\"alpha\", \"beta\"]\n",
    "print (my_tuple)"
   ]
  },
  {
   "cell_type": "markdown",
   "metadata": {},
   "source": [
    "## Accessing Tuple Values\n",
    "\n",
    "To access a tuple value we can use indices just like lists."
   ]
  },
  {
   "cell_type": "code",
   "execution_count": 4,
   "metadata": {},
   "outputs": [
    {
     "name": "stdout",
     "output_type": "stream",
     "text": [
      "23.45\n"
     ]
    }
   ],
   "source": [
    "my_tuple = (\"Java\", 23.45, [\"alpha\", \"beta\"])\n",
    "print (my_tuple[1])"
   ]
  },
  {
   "cell_type": "markdown",
   "metadata": {},
   "source": [
    "We can still use slicing and reverese indexing."
   ]
  },
  {
   "cell_type": "code",
   "execution_count": 8,
   "metadata": {},
   "outputs": [
    {
     "name": "stdout",
     "output_type": "stream",
     "text": [
      "['alpha', 'beta']\n",
      "('Java', 23.45)\n"
     ]
    }
   ],
   "source": [
    "# last value\n",
    "print (my_tuple[-1])\n",
    "\n",
    "# first two values\n",
    "print (my_tuple[0:2])"
   ]
  },
  {
   "cell_type": "markdown",
   "metadata": {},
   "source": [
    "## Additional Operations\n",
    "\n",
    "We can use `len` to check the size of a tuple, and `sorted` to sort the contents of a tuple."
   ]
  },
  {
   "cell_type": "code",
   "execution_count": 14,
   "metadata": {},
   "outputs": [
    {
     "name": "stdout",
     "output_type": "stream",
     "text": [
      "3\n",
      "['C', 'Java', 'Python']\n"
     ]
    }
   ],
   "source": [
    "my_tuple = (\"Java\", \"Python\", \"C\")\n",
    "\n",
    "print (len(my_tuple))\n",
    "\n",
    "print (sorted(my_tuple))"
   ]
  },
  {
   "cell_type": "markdown",
   "metadata": {},
   "source": [
    "We can check if a value exists in a tuple by using `in`."
   ]
  },
  {
   "cell_type": "code",
   "execution_count": 16,
   "metadata": {},
   "outputs": [
    {
     "name": "stdout",
     "output_type": "stream",
     "text": [
      "True\n"
     ]
    }
   ],
   "source": [
    "my_tuple = (\"Java\", \"Python\", \"C\")\n",
    "\n",
    "print (\"Java\" in my_tuple)"
   ]
  },
  {
   "cell_type": "markdown",
   "metadata": {},
   "source": [
    "# Sets\n",
    "\n",
    "A set is a collection data type that is both unordered and unindexed. Sets are useful for storing unique elements and performing common set operations like unions, intersections, and differences. \n",
    "\n",
    "- **Unordered and Unindexed**: Unlike lists and tuples, sets do not have an order, and elements are not indexed. This means you cannot access items in a set by referring to an index or a key.\n",
    "\n",
    "- **Mutable**: Sets are mutable, meaning you can add or remove items after a set has been created. However, the elements within a set must be immutable (like numbers, strings, and tuples).\n",
    "\n",
    "- **Unique Elements**: Each element in a set is distinct and unique. If you try to add duplicate elements to a set, they will be ignored, ensuring all elements are unique.\n",
    "\n",
    "- **Dynamic Size**: Like lists, the size of a set is not fixed; it can grow or shrink as items are added or removed.\n",
    "\n",
    "- **Mixed Data Types**: Sets can contain elements of different data types (e.g., integers, floats, strings, tuples)."
   ]
  },
  {
   "cell_type": "markdown",
   "metadata": {},
   "source": [
    "## Create a Set\n",
    "\n",
    "In order to create a set, we pass a list of values enclosed in `{}` or use the `set()` operator."
   ]
  },
  {
   "cell_type": "code",
   "execution_count": 15,
   "metadata": {},
   "outputs": [
    {
     "name": "stdout",
     "output_type": "stream",
     "text": [
      "{'Python', 'SQL', 'Java'}\n"
     ]
    }
   ],
   "source": [
    "my_set = {\"Java\", \"Python\", \"SQL\"}\n",
    "my_set = set([\"Java\", \"Python\", \"SQL\"])\n",
    "print (my_set)"
   ]
  },
  {
   "cell_type": "markdown",
   "metadata": {},
   "source": [
    "## Adding an Element to a Set\n",
    "\n",
    "To add an element to a set we can use `add()`. "
   ]
  },
  {
   "cell_type": "code",
   "execution_count": 17,
   "metadata": {},
   "outputs": [
    {
     "name": "stdout",
     "output_type": "stream",
     "text": [
      "{'Python', 'SQL', 'C++', 'Java'}\n"
     ]
    }
   ],
   "source": [
    "my_set = {\"Java\", \"Python\", \"SQL\"}\n",
    "my_set.add(\"C++\")\n",
    "\n",
    "print(my_set)"
   ]
  },
  {
   "cell_type": "markdown",
   "metadata": {},
   "source": [
    "If we add an existing element, it will be ignored since a set can only contain unique values."
   ]
  },
  {
   "cell_type": "code",
   "execution_count": 19,
   "metadata": {},
   "outputs": [
    {
     "name": "stdout",
     "output_type": "stream",
     "text": [
      "{'Python', 'SQL', 'Java'}\n"
     ]
    }
   ],
   "source": [
    "my_set = {\"Java\", \"Python\", \"SQL\"}\n",
    "my_set.add(\"Java\")\n",
    "print(my_set)"
   ]
  },
  {
   "cell_type": "markdown",
   "metadata": {},
   "source": [
    "## Removing an Element from a Set\n",
    "\n",
    "To remove an element from a set we can use `remove()`."
   ]
  },
  {
   "cell_type": "code",
   "execution_count": 20,
   "metadata": {},
   "outputs": [
    {
     "name": "stdout",
     "output_type": "stream",
     "text": [
      "{'Python', 'SQL'}\n"
     ]
    }
   ],
   "source": [
    "my_set = {\"Java\", \"Python\", \"SQL\"}\n",
    "my_set.remove(\"Java\")\n",
    "print(my_set)"
   ]
  },
  {
   "cell_type": "markdown",
   "metadata": {},
   "source": [
    "## Checking Existence of Value\n",
    "\n",
    "In order to check if a set contains a value we can still use `in`."
   ]
  },
  {
   "cell_type": "code",
   "execution_count": 21,
   "metadata": {},
   "outputs": [
    {
     "name": "stdout",
     "output_type": "stream",
     "text": [
      "True\n"
     ]
    }
   ],
   "source": [
    "my_set = {\"Java\", \"Python\", \"SQL\"}\n",
    "print (\"Python\" in my_set)"
   ]
  },
  {
   "cell_type": "markdown",
   "metadata": {},
   "source": [
    "## Set Operations\n",
    "\n",
    "We can use set operations like union `|`, intersect `&`, and difference `-` on multiple sets.\n",
    "\n",
    "*Union* returns all the items in the combined sets. If elements repeat, they are only listed once."
   ]
  },
  {
   "cell_type": "code",
   "execution_count": 24,
   "metadata": {},
   "outputs": [
    {
     "name": "stdout",
     "output_type": "stream",
     "text": [
      "{'Apple', 'Kiwi', 'Lemon', 'Orange'}\n"
     ]
    }
   ],
   "source": [
    "set_a = {\"Apple\", \"Orange\", \"Lemon\"}\n",
    "set_b = {\"Lemon\", \"Kiwi\"}\n",
    "\n",
    "print (set_a | set_b)"
   ]
  },
  {
   "cell_type": "markdown",
   "metadata": {},
   "source": [
    "*Intersect* returns the common elements between the two sets."
   ]
  },
  {
   "cell_type": "code",
   "execution_count": 25,
   "metadata": {},
   "outputs": [
    {
     "name": "stdout",
     "output_type": "stream",
     "text": [
      "{'Lemon'}\n"
     ]
    }
   ],
   "source": [
    "set_a = {\"Apple\", \"Orange\", \"Lemon\"}\n",
    "set_b = {\"Lemon\", \"Kiwi\"}\n",
    "\n",
    "print (set_a & set_b)"
   ]
  },
  {
   "cell_type": "markdown",
   "metadata": {},
   "source": [
    "*Difference* removes the elements from the set. Important to note that the order it's done affects the outcome."
   ]
  },
  {
   "cell_type": "code",
   "execution_count": 26,
   "metadata": {},
   "outputs": [
    {
     "name": "stdout",
     "output_type": "stream",
     "text": [
      "{'Orange', 'Apple'}\n",
      "{'Kiwi'}\n"
     ]
    }
   ],
   "source": [
    "set_a = {\"Apple\", \"Orange\", \"Lemon\"}\n",
    "set_b = {\"Lemon\", \"Kiwi\"}\n",
    "\n",
    "print (set_a - set_b)\n",
    "print (set_b - set_a)"
   ]
  }
 ],
 "metadata": {
  "kernelspec": {
   "display_name": "Python 3",
   "language": "python",
   "name": "python3"
  },
  "language_info": {
   "codemirror_mode": {
    "name": "ipython",
    "version": 3
   },
   "file_extension": ".py",
   "mimetype": "text/x-python",
   "name": "python",
   "nbconvert_exporter": "python",
   "pygments_lexer": "ipython3",
   "version": "3.11.2"
  }
 },
 "nbformat": 4,
 "nbformat_minor": 2
}
