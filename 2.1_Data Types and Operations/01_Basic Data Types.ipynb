{
 "cells": [
  {
   "cell_type": "markdown",
   "metadata": {},
   "source": [
    "# Basic Data Types\n",
    "\n",
    "Python has several built-in data types. By default, if no type is given, Python tries to identify the datatype from the given value.\n",
    "\n",
    "Let's assign a `string` value to a variable, and then check its data type."
   ]
  },
  {
   "cell_type": "code",
   "execution_count": 48,
   "metadata": {},
   "outputs": [
    {
     "name": "stdout",
     "output_type": "stream",
     "text": [
      "<class 'str'>\n"
     ]
    }
   ],
   "source": [
    "product = \"Corn Flakes\"\n",
    "print (type(product))"
   ]
  },
  {
   "cell_type": "markdown",
   "metadata": {},
   "source": [
    "This will print `str` as the data type, it was inferred from the given value. We can also check using equality comparison."
   ]
  },
  {
   "cell_type": "code",
   "execution_count": 49,
   "metadata": {},
   "outputs": [
    {
     "data": {
      "text/plain": [
       "True"
      ]
     },
     "execution_count": 49,
     "metadata": {},
     "output_type": "execute_result"
    }
   ],
   "source": [
    "type(product)==str"
   ]
  },
  {
   "cell_type": "markdown",
   "metadata": {},
   "source": [
    "Another way to compare the type of a string is to use `isinstance()`."
   ]
  },
  {
   "cell_type": "code",
   "execution_count": 50,
   "metadata": {},
   "outputs": [
    {
     "name": "stdout",
     "output_type": "stream",
     "text": [
      "True\n",
      "False\n"
     ]
    }
   ],
   "source": [
    "print(isinstance(product, str))\n",
    "print(isinstance(product, int))"
   ]
  },
  {
   "cell_type": "markdown",
   "metadata": {},
   "source": [
    "The same concept applies to other data types as well."
   ]
  },
  {
   "cell_type": "code",
   "execution_count": 51,
   "metadata": {},
   "outputs": [
    {
     "name": "stdout",
     "output_type": "stream",
     "text": [
      "<class 'float'>\n",
      "<class 'int'>\n"
     ]
    }
   ],
   "source": [
    "price = 14.45\n",
    "quantity = 12\n",
    "print (type(price))\n",
    "print (type(quantity))"
   ]
  },
  {
   "cell_type": "markdown",
   "metadata": {},
   "source": [
    "We can also cast data types to set the data type exactly how we want."
   ]
  },
  {
   "cell_type": "code",
   "execution_count": 52,
   "metadata": {},
   "outputs": [
    {
     "name": "stdout",
     "output_type": "stream",
     "text": [
      "<class 'str'>\n",
      "<class 'int'>\n"
     ]
    }
   ],
   "source": [
    "price = \"14\"\n",
    "print (type(price))\n",
    "price = int(\"14\")\n",
    "print(type(price))"
   ]
  },
  {
   "cell_type": "markdown",
   "metadata": {},
   "source": [
    "Another common data type is `bool` which can store `True` or `False`."
   ]
  },
  {
   "cell_type": "code",
   "execution_count": 53,
   "metadata": {},
   "outputs": [
    {
     "name": "stdout",
     "output_type": "stream",
     "text": [
      "<class 'bool'>\n"
     ]
    }
   ],
   "source": [
    "on_discount = True\n",
    "print(type(on_discount))"
   ]
  },
  {
   "cell_type": "markdown",
   "metadata": {},
   "source": [
    "For a comprehensive list of data types you can check [Built-in Types](https://docs.python.org/3/library/stdtypes.html)."
   ]
  },
  {
   "cell_type": "markdown",
   "metadata": {},
   "source": [
    "## Comparison Operators\n",
    "\n",
    "We can also compare values together using the usual operators such as `==`, `!=`, `>`, etc.."
   ]
  },
  {
   "cell_type": "code",
   "execution_count": 54,
   "metadata": {},
   "outputs": [
    {
     "name": "stdout",
     "output_type": "stream",
     "text": [
      "True\n",
      "False\n",
      "True\n",
      "True\n"
     ]
    }
   ],
   "source": [
    "a = 10\n",
    "b = 6\n",
    "\n",
    "print (a > b)\n",
    "print (a == b)\n",
    "print (a >= b)\n",
    "print (a != b)"
   ]
  },
  {
   "cell_type": "markdown",
   "metadata": {},
   "source": [
    "We can also use Boolean operators `and`, `or`, and `not`. "
   ]
  },
  {
   "cell_type": "code",
   "execution_count": 55,
   "metadata": {},
   "outputs": [
    {
     "name": "stdout",
     "output_type": "stream",
     "text": [
      "True\n",
      "False\n",
      "False\n"
     ]
    }
   ],
   "source": [
    "a = 10\n",
    "b = 6\n",
    "c = 4\n",
    "\n",
    "print (a>b and c<5)\n",
    "print (a>b and c>5)\n",
    "print (a>c and not (b<a))"
   ]
  },
  {
   "cell_type": "markdown",
   "metadata": {},
   "source": [
    "## Arithmetic Operations\n",
    "\n",
    "The usual operations like addition, subtraction, multiplication, and division can be used in Python. Let's see how we can use them."
   ]
  },
  {
   "cell_type": "code",
   "execution_count": 56,
   "metadata": {},
   "outputs": [
    {
     "name": "stdout",
     "output_type": "stream",
     "text": [
      "14\n",
      "6\n",
      "40\n",
      "2.5\n"
     ]
    }
   ],
   "source": [
    "a = 10\n",
    "b = 4\n",
    "\n",
    "# Addition\n",
    "print (a+b)\n",
    "\n",
    "# Subtraction\n",
    "print(a-b)\n",
    "\n",
    "# Multiplication\n",
    "print(a*b)\n",
    "\n",
    "# Division\n",
    "print (a/b)\n"
   ]
  },
  {
   "cell_type": "markdown",
   "metadata": {},
   "source": [
    "To get remainder from a division we can use modulus `%`."
   ]
  },
  {
   "cell_type": "code",
   "execution_count": 57,
   "metadata": {},
   "outputs": [
    {
     "name": "stdout",
     "output_type": "stream",
     "text": [
      "2\n"
     ]
    }
   ],
   "source": [
    "print (14%3)"
   ]
  },
  {
   "cell_type": "markdown",
   "metadata": {},
   "source": [
    "To get whole number when dividing (floor division) we use `//`."
   ]
  },
  {
   "cell_type": "code",
   "execution_count": 58,
   "metadata": {},
   "outputs": [
    {
     "name": "stdout",
     "output_type": "stream",
     "text": [
      "2\n"
     ]
    }
   ],
   "source": [
    "print (8//3)"
   ]
  },
  {
   "cell_type": "markdown",
   "metadata": {},
   "source": [
    "To get exponential number we can use `**`."
   ]
  },
  {
   "cell_type": "code",
   "execution_count": 59,
   "metadata": {},
   "outputs": [
    {
     "name": "stdout",
     "output_type": "stream",
     "text": [
      "125\n"
     ]
    }
   ],
   "source": [
    "# 5 to the power of 3\n",
    "print (5**3)"
   ]
  },
  {
   "cell_type": "markdown",
   "metadata": {},
   "source": [
    "We can also using compound assignment operators. This can be applied to all operators."
   ]
  },
  {
   "cell_type": "code",
   "execution_count": 60,
   "metadata": {},
   "outputs": [
    {
     "name": "stdout",
     "output_type": "stream",
     "text": [
      "25\n"
     ]
    }
   ],
   "source": [
    "my_age = 24\n",
    "# instead of using my_age = my_age + 24\n",
    "my_age += 1\n",
    "print(my_age)"
   ]
  },
  {
   "cell_type": "code",
   "execution_count": 61,
   "metadata": {},
   "outputs": [
    {
     "name": "stdout",
     "output_type": "stream",
     "text": [
      "Alex Smith\n"
     ]
    }
   ],
   "source": [
    "name = \"Alex\"\n",
    "surname = \"Smith\"\n",
    "\n",
    "print(name+\" \"+surname)"
   ]
  },
  {
   "cell_type": "code",
   "execution_count": 62,
   "metadata": {},
   "outputs": [
    {
     "name": "stdout",
     "output_type": "stream",
     "text": [
      "AlexAlexAlex\n"
     ]
    }
   ],
   "source": [
    "print(name*3)"
   ]
  },
  {
   "cell_type": "markdown",
   "metadata": {},
   "source": [
    "Trying to combine different data types using these operations will result in an error."
   ]
  },
  {
   "cell_type": "code",
   "execution_count": 63,
   "metadata": {},
   "outputs": [
    {
     "ename": "TypeError",
     "evalue": "can only concatenate str (not \"float\") to str",
     "output_type": "error",
     "traceback": [
      "\u001b[1;31m---------------------------------------------------------------------------\u001b[0m",
      "\u001b[1;31mTypeError\u001b[0m                                 Traceback (most recent call last)",
      "Cell \u001b[1;32mIn[63], line 3\u001b[0m\n\u001b[0;32m      1\u001b[0m product \u001b[38;5;241m=\u001b[39m \u001b[38;5;28mstr\u001b[39m(\u001b[38;5;124m'\u001b[39m\u001b[38;5;124mCorn Flakes\u001b[39m\u001b[38;5;124m'\u001b[39m)\n\u001b[0;32m      2\u001b[0m price \u001b[38;5;241m=\u001b[39m \u001b[38;5;28mfloat\u001b[39m(\u001b[38;5;241m2.45\u001b[39m)\n\u001b[1;32m----> 3\u001b[0m result \u001b[38;5;241m=\u001b[39m \u001b[43mproduct\u001b[49m\u001b[43m \u001b[49m\u001b[38;5;241;43m+\u001b[39;49m\u001b[43m \u001b[49m\u001b[43mprice\u001b[49m\n\u001b[0;32m      4\u001b[0m \u001b[38;5;28mprint\u001b[39m (result)\n",
      "\u001b[1;31mTypeError\u001b[0m: can only concatenate str (not \"float\") to str"
     ]
    }
   ],
   "source": [
    "product = str('Corn Flakes')\n",
    "price = float(2.45)\n",
    "result = product + price\n",
    "print (result)"
   ]
  },
  {
   "cell_type": "markdown",
   "metadata": {},
   "source": [
    "## Strings in More Depth\n",
    "\n",
    "When we have a `str` we access invidiual letters in it using standard array referencing. "
   ]
  },
  {
   "cell_type": "code",
   "execution_count": null,
   "metadata": {},
   "outputs": [
    {
     "name": "stdout",
     "output_type": "stream",
     "text": [
      "First letter is C\n",
      "Third letter is r\n",
      "Last letter is s\n",
      "First three letters are Cor\n"
     ]
    }
   ],
   "source": [
    "product = \"Corn Flakes\"\n",
    "print('First letter is ' + product[0])\n",
    "print('Third letter is ' + product[2])\n",
    "print('Last letter is ' + product[-1])\n",
    "print('First three letters are ' + product[0:3])"
   ]
  },
  {
   "cell_type": "markdown",
   "metadata": {},
   "source": [
    "A string has various methods that can be used on it. Let's check a few of them."
   ]
  },
  {
   "cell_type": "code",
   "execution_count": null,
   "metadata": {},
   "outputs": [
    {
     "name": "stdout",
     "output_type": "stream",
     "text": [
      "All alphabet: False\n",
      "Alphabet / Digits: False\n",
      "All digits: False\n",
      "Lower Case : corn flakes special edition\n",
      "Upper Case : CORN FLAKES SPECIAL EDITION\n",
      "Title Case : Corn Flakes Special Edition\n",
      "Starts with Corn: True\n",
      "Ends with Flakes: False\n",
      "Replace Special: Corn Flakes Limited Edition\n",
      "Split\n",
      "['Corn', 'Flakes', 'Special', 'Edition']\n",
      "Remove Whitespace :Corn Flakes Special Edition\n",
      "Corn Flakes Special EditionCombined String:  (with Sale)\n",
      "Found Flakes at: 5\n"
     ]
    }
   ],
   "source": [
    "product = \"Corn Flakes Special Edition\"\n",
    "\n",
    "# checks that it only contains alphabet characters (spaces are not included) and is not empty\n",
    "print (\"All alphabet: \" + str(product.isalpha()))\n",
    "\n",
    "# checks if a string contains characters or digits and is not empty\n",
    "print (\"Alphabet / Digits: \" + str(product.isalnum()))\n",
    "\n",
    "# checks if a string contains only digits and is not empty\n",
    "print (\"All digits: \" + str(product.isdecimal()))\n",
    "\n",
    "# changing the case of a string\n",
    "print (\"Lower Case: \" + product.lower())\n",
    "print (\"Upper Case: \" + product.upper())\n",
    "print (\"Title Case: \" + product.title())\n",
    "\n",
    "# checking patterns in string\n",
    "print (\"Starts with Corn: \" + str(product.startswith(\"Corn\")))\n",
    "print (\"Ends with Flakes: \" + str(product.endswith(\"Flakes\")))\n",
    "\n",
    "# we can also replace text\n",
    "print (\"Replace Special: \" + product.replace(\"Special\", \"Limited\"))\n",
    "\n",
    "# we can split text into a list by choosing a delimiter\n",
    "print(\"Split\")\n",
    "print (product.split(\" \"))\n",
    "\n",
    "# if you have whitespace you can remove it \n",
    "print (\"Remove Whitespace: \" + product.strip())\n",
    "\n",
    "# we can also combine strings together \n",
    "print (\"Combined String: \".join([product, \" (with Sale)\"]))\n",
    "\n",
    "# we can look for a match as well, it will return the index of where it's found\n",
    "print (\"Found Flakes at: \" + str(product.find(\"Flakes\")))"
   ]
  },
  {
   "cell_type": "markdown",
   "metadata": {},
   "source": [
    "If using `str` we can only use addition operation to concatenate strings, and multiplication to repeat strings."
   ]
  }
 ],
 "metadata": {
  "kernelspec": {
   "display_name": "Python 3",
   "language": "python",
   "name": "python3"
  },
  "language_info": {
   "codemirror_mode": {
    "name": "ipython",
    "version": 3
   },
   "file_extension": ".py",
   "mimetype": "text/x-python",
   "name": "python",
   "nbconvert_exporter": "python",
   "pygments_lexer": "ipython3",
   "version": "3.11.2"
  }
 },
 "nbformat": 4,
 "nbformat_minor": 2
}
